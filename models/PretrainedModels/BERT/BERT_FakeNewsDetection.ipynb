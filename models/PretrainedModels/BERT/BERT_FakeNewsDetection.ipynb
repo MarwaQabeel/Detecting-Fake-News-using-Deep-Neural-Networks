{
  "cells": [
    {
      "cell_type": "markdown",
      "metadata": {
        "id": "qb9qKvDdMbNX"
      },
      "source": [
        "## Setup Environment"
      ]
    },
    {
      "cell_type": "code",
      "execution_count": 1,
      "metadata": {
        "colab": {
          "base_uri": "https://localhost:8080/"
        },
        "id": "Pfi1QUkuEss5",
        "outputId": "7a85aa99-b4cd-4d49-aa80-922b875bed87"
      },
      "outputs": [
        {
          "output_type": "stream",
          "name": "stdout",
          "text": [
            "Drive already mounted at /content/drive; to attempt to forcibly remount, call drive.mount(\"/content/drive\", force_remount=True).\n"
          ]
        }
      ],
      "source": [
        "# Mount Google Drive\n",
        "from google.colab import drive\n",
        "drive.mount('/content/drive')"
      ]
    },
    {
      "cell_type": "code",
      "execution_count": 2,
      "metadata": {
        "colab": {
          "base_uri": "https://localhost:8080/"
        },
        "id": "jYNPBqRnEdJT",
        "outputId": "fc54c850-0407-44f2-d802-898ae3acf216"
      },
      "outputs": [
        {
          "output_type": "stream",
          "name": "stdout",
          "text": [
            "Requirement already satisfied: transformers in /usr/local/lib/python3.10/dist-packages (4.31.0)\n",
            "Requirement already satisfied: filelock in /usr/local/lib/python3.10/dist-packages (from transformers) (3.12.2)\n",
            "Requirement already satisfied: huggingface-hub<1.0,>=0.14.1 in /usr/local/lib/python3.10/dist-packages (from transformers) (0.16.4)\n",
            "Requirement already satisfied: numpy>=1.17 in /usr/local/lib/python3.10/dist-packages (from transformers) (1.22.4)\n",
            "Requirement already satisfied: packaging>=20.0 in /usr/local/lib/python3.10/dist-packages (from transformers) (23.1)\n",
            "Requirement already satisfied: pyyaml>=5.1 in /usr/local/lib/python3.10/dist-packages (from transformers) (6.0.1)\n",
            "Requirement already satisfied: regex!=2019.12.17 in /usr/local/lib/python3.10/dist-packages (from transformers) (2022.10.31)\n",
            "Requirement already satisfied: requests in /usr/local/lib/python3.10/dist-packages (from transformers) (2.27.1)\n",
            "Requirement already satisfied: tokenizers!=0.11.3,<0.14,>=0.11.1 in /usr/local/lib/python3.10/dist-packages (from transformers) (0.13.3)\n",
            "Requirement already satisfied: safetensors>=0.3.1 in /usr/local/lib/python3.10/dist-packages (from transformers) (0.3.1)\n",
            "Requirement already satisfied: tqdm>=4.27 in /usr/local/lib/python3.10/dist-packages (from transformers) (4.65.0)\n",
            "Requirement already satisfied: fsspec in /usr/local/lib/python3.10/dist-packages (from huggingface-hub<1.0,>=0.14.1->transformers) (2023.6.0)\n",
            "Requirement already satisfied: typing-extensions>=3.7.4.3 in /usr/local/lib/python3.10/dist-packages (from huggingface-hub<1.0,>=0.14.1->transformers) (4.7.1)\n",
            "Requirement already satisfied: urllib3<1.27,>=1.21.1 in /usr/local/lib/python3.10/dist-packages (from requests->transformers) (1.26.16)\n",
            "Requirement already satisfied: certifi>=2017.4.17 in /usr/local/lib/python3.10/dist-packages (from requests->transformers) (2023.7.22)\n",
            "Requirement already satisfied: charset-normalizer~=2.0.0 in /usr/local/lib/python3.10/dist-packages (from requests->transformers) (2.0.12)\n",
            "Requirement already satisfied: idna<4,>=2.5 in /usr/local/lib/python3.10/dist-packages (from requests->transformers) (3.4)\n",
            "Requirement already satisfied: pycaret in /usr/local/lib/python3.10/dist-packages (3.0.4)\n",
            "Requirement already satisfied: ipython>=5.5.0 in /usr/local/lib/python3.10/dist-packages (from pycaret) (7.34.0)\n",
            "Requirement already satisfied: ipywidgets>=7.6.5 in /usr/local/lib/python3.10/dist-packages (from pycaret) (7.7.1)\n",
            "Requirement already satisfied: tqdm>=4.62.0 in /usr/local/lib/python3.10/dist-packages (from pycaret) (4.65.0)\n",
            "Requirement already satisfied: numpy<1.24,>=1.21 in /usr/local/lib/python3.10/dist-packages (from pycaret) (1.22.4)\n",
            "Requirement already satisfied: pandas<2.0.0,>=1.3.0 in /usr/local/lib/python3.10/dist-packages (from pycaret) (1.5.3)\n",
            "Requirement already satisfied: jinja2>=1.2 in /usr/local/lib/python3.10/dist-packages (from pycaret) (3.1.2)\n",
            "Requirement already satisfied: scipy<2.0.0 in /usr/local/lib/python3.10/dist-packages (from pycaret) (1.10.1)\n",
            "Requirement already satisfied: joblib>=1.2.0 in /usr/local/lib/python3.10/dist-packages (from pycaret) (1.3.1)\n",
            "Requirement already satisfied: scikit-learn<1.3.0,>=1.0 in /usr/local/lib/python3.10/dist-packages (from pycaret) (1.2.2)\n",
            "Requirement already satisfied: pyod>=1.0.8 in /usr/local/lib/python3.10/dist-packages (from pycaret) (1.1.0)\n",
            "Requirement already satisfied: imbalanced-learn>=0.8.1 in /usr/local/lib/python3.10/dist-packages (from pycaret) (0.10.1)\n",
            "Requirement already satisfied: category-encoders>=2.4.0 in /usr/local/lib/python3.10/dist-packages (from pycaret) (2.6.1)\n",
            "Requirement already satisfied: lightgbm>=3.0.0 in /usr/local/lib/python3.10/dist-packages (from pycaret) (3.3.5)\n",
            "Requirement already satisfied: numba>=0.55.0 in /usr/local/lib/python3.10/dist-packages (from pycaret) (0.56.4)\n",
            "Requirement already satisfied: requests>=2.27.1 in /usr/local/lib/python3.10/dist-packages (from pycaret) (2.27.1)\n",
            "Requirement already satisfied: psutil>=5.9.0 in /usr/local/lib/python3.10/dist-packages (from pycaret) (5.9.5)\n",
            "Requirement already satisfied: markupsafe>=2.0.1 in /usr/local/lib/python3.10/dist-packages (from pycaret) (2.1.3)\n",
            "Requirement already satisfied: importlib-metadata>=4.12.0 in /usr/local/lib/python3.10/dist-packages (from pycaret) (6.8.0)\n",
            "Requirement already satisfied: nbformat>=4.2.0 in /usr/local/lib/python3.10/dist-packages (from pycaret) (5.9.1)\n",
            "Requirement already satisfied: cloudpickle in /usr/local/lib/python3.10/dist-packages (from pycaret) (2.2.1)\n",
            "Requirement already satisfied: deprecation>=2.1.0 in /usr/local/lib/python3.10/dist-packages (from pycaret) (2.1.0)\n",
            "Requirement already satisfied: xxhash in /usr/local/lib/python3.10/dist-packages (from pycaret) (3.3.0)\n",
            "Requirement already satisfied: matplotlib>=3.3.0 in /usr/local/lib/python3.10/dist-packages (from pycaret) (3.7.1)\n",
            "Requirement already satisfied: scikit-plot>=0.3.7 in /usr/local/lib/python3.10/dist-packages (from pycaret) (0.3.7)\n",
            "Requirement already satisfied: yellowbrick>=1.4 in /usr/local/lib/python3.10/dist-packages (from pycaret) (1.5)\n",
            "Requirement already satisfied: plotly>=5.0.0 in /usr/local/lib/python3.10/dist-packages (from pycaret) (5.13.1)\n",
            "Requirement already satisfied: kaleido>=0.2.1 in /usr/local/lib/python3.10/dist-packages (from pycaret) (0.2.1)\n",
            "Requirement already satisfied: schemdraw==0.15 in /usr/local/lib/python3.10/dist-packages (from pycaret) (0.15)\n",
            "Requirement already satisfied: plotly-resampler>=0.8.3.1 in /usr/local/lib/python3.10/dist-packages (from pycaret) (0.9.1)\n",
            "Requirement already satisfied: statsmodels>=0.12.1 in /usr/local/lib/python3.10/dist-packages (from pycaret) (0.13.5)\n",
            "Requirement already satisfied: sktime!=0.17.1,!=0.17.2,!=0.18.0,>=0.16.1 in /usr/local/lib/python3.10/dist-packages (from pycaret) (0.21.0)\n",
            "Requirement already satisfied: tbats>=1.1.3 in /usr/local/lib/python3.10/dist-packages (from pycaret) (1.1.3)\n",
            "Requirement already satisfied: pmdarima!=1.8.1,<3.0.0,>=1.8.0 in /usr/local/lib/python3.10/dist-packages (from pycaret) (2.0.3)\n",
            "Requirement already satisfied: wurlitzer in /usr/local/lib/python3.10/dist-packages (from pycaret) (3.0.3)\n",
            "Requirement already satisfied: patsy>=0.5.1 in /usr/local/lib/python3.10/dist-packages (from category-encoders>=2.4.0->pycaret) (0.5.3)\n",
            "Requirement already satisfied: packaging in /usr/local/lib/python3.10/dist-packages (from deprecation>=2.1.0->pycaret) (23.1)\n",
            "Requirement already satisfied: threadpoolctl>=2.0.0 in /usr/local/lib/python3.10/dist-packages (from imbalanced-learn>=0.8.1->pycaret) (3.2.0)\n",
            "Requirement already satisfied: zipp>=0.5 in /usr/local/lib/python3.10/dist-packages (from importlib-metadata>=4.12.0->pycaret) (3.16.2)\n",
            "Requirement already satisfied: setuptools>=18.5 in /usr/local/lib/python3.10/dist-packages (from ipython>=5.5.0->pycaret) (67.7.2)\n",
            "Requirement already satisfied: jedi>=0.16 in /usr/local/lib/python3.10/dist-packages (from ipython>=5.5.0->pycaret) (0.19.0)\n",
            "Requirement already satisfied: decorator in /usr/local/lib/python3.10/dist-packages (from ipython>=5.5.0->pycaret) (4.4.2)\n",
            "Requirement already satisfied: pickleshare in /usr/local/lib/python3.10/dist-packages (from ipython>=5.5.0->pycaret) (0.7.5)\n",
            "Requirement already satisfied: traitlets>=4.2 in /usr/local/lib/python3.10/dist-packages (from ipython>=5.5.0->pycaret) (5.7.1)\n",
            "Requirement already satisfied: prompt-toolkit!=3.0.0,!=3.0.1,<3.1.0,>=2.0.0 in /usr/local/lib/python3.10/dist-packages (from ipython>=5.5.0->pycaret) (3.0.39)\n",
            "Requirement already satisfied: pygments in /usr/local/lib/python3.10/dist-packages (from ipython>=5.5.0->pycaret) (2.14.0)\n",
            "Requirement already satisfied: backcall in /usr/local/lib/python3.10/dist-packages (from ipython>=5.5.0->pycaret) (0.2.0)\n",
            "Requirement already satisfied: matplotlib-inline in /usr/local/lib/python3.10/dist-packages (from ipython>=5.5.0->pycaret) (0.1.6)\n",
            "Requirement already satisfied: pexpect>4.3 in /usr/local/lib/python3.10/dist-packages (from ipython>=5.5.0->pycaret) (4.8.0)\n",
            "Requirement already satisfied: ipykernel>=4.5.1 in /usr/local/lib/python3.10/dist-packages (from ipywidgets>=7.6.5->pycaret) (5.5.6)\n",
            "Requirement already satisfied: ipython-genutils~=0.2.0 in /usr/local/lib/python3.10/dist-packages (from ipywidgets>=7.6.5->pycaret) (0.2.0)\n",
            "Requirement already satisfied: widgetsnbextension~=3.6.0 in /usr/local/lib/python3.10/dist-packages (from ipywidgets>=7.6.5->pycaret) (3.6.4)\n",
            "Requirement already satisfied: jupyterlab-widgets>=1.0.0 in /usr/local/lib/python3.10/dist-packages (from ipywidgets>=7.6.5->pycaret) (3.0.8)\n",
            "Requirement already satisfied: wheel in /usr/local/lib/python3.10/dist-packages (from lightgbm>=3.0.0->pycaret) (0.41.0)\n",
            "Requirement already satisfied: contourpy>=1.0.1 in /usr/local/lib/python3.10/dist-packages (from matplotlib>=3.3.0->pycaret) (1.1.0)\n",
            "Requirement already satisfied: cycler>=0.10 in /usr/local/lib/python3.10/dist-packages (from matplotlib>=3.3.0->pycaret) (0.11.0)\n",
            "Requirement already satisfied: fonttools>=4.22.0 in /usr/local/lib/python3.10/dist-packages (from matplotlib>=3.3.0->pycaret) (4.41.1)\n",
            "Requirement already satisfied: kiwisolver>=1.0.1 in /usr/local/lib/python3.10/dist-packages (from matplotlib>=3.3.0->pycaret) (1.4.4)\n",
            "Requirement already satisfied: pillow>=6.2.0 in /usr/local/lib/python3.10/dist-packages (from matplotlib>=3.3.0->pycaret) (9.4.0)\n",
            "Requirement already satisfied: pyparsing>=2.3.1 in /usr/local/lib/python3.10/dist-packages (from matplotlib>=3.3.0->pycaret) (3.1.0)\n",
            "Requirement already satisfied: python-dateutil>=2.7 in /usr/local/lib/python3.10/dist-packages (from matplotlib>=3.3.0->pycaret) (2.8.2)\n",
            "Requirement already satisfied: fastjsonschema in /usr/local/lib/python3.10/dist-packages (from nbformat>=4.2.0->pycaret) (2.18.0)\n",
            "Requirement already satisfied: jsonschema>=2.6 in /usr/local/lib/python3.10/dist-packages (from nbformat>=4.2.0->pycaret) (4.3.3)\n",
            "Requirement already satisfied: jupyter-core in /usr/local/lib/python3.10/dist-packages (from nbformat>=4.2.0->pycaret) (5.3.1)\n",
            "Requirement already satisfied: llvmlite<0.40,>=0.39.0dev0 in /usr/local/lib/python3.10/dist-packages (from numba>=0.55.0->pycaret) (0.39.1)\n",
            "Requirement already satisfied: pytz>=2020.1 in /usr/local/lib/python3.10/dist-packages (from pandas<2.0.0,>=1.3.0->pycaret) (2022.7.1)\n",
            "Requirement already satisfied: tenacity>=6.2.0 in /usr/local/lib/python3.10/dist-packages (from plotly>=5.0.0->pycaret) (8.2.2)\n",
            "Requirement already satisfied: dash<3.0.0,>=2.11.0 in /usr/local/lib/python3.10/dist-packages (from plotly-resampler>=0.8.3.1->pycaret) (2.11.1)\n",
            "Requirement already satisfied: orjson<4.0.0,>=3.8.0 in /usr/local/lib/python3.10/dist-packages (from plotly-resampler>=0.8.3.1->pycaret) (3.9.2)\n",
            "Requirement already satisfied: trace-updater>=0.0.8 in /usr/local/lib/python3.10/dist-packages (from plotly-resampler>=0.8.3.1->pycaret) (0.0.9.1)\n",
            "Requirement already satisfied: tsdownsample==0.1.2 in /usr/local/lib/python3.10/dist-packages (from plotly-resampler>=0.8.3.1->pycaret) (0.1.2)\n",
            "Requirement already satisfied: Cython!=0.29.18,!=0.29.31,>=0.29 in /usr/local/lib/python3.10/dist-packages (from pmdarima!=1.8.1,<3.0.0,>=1.8.0->pycaret) (0.29.36)\n",
            "Requirement already satisfied: urllib3 in /usr/local/lib/python3.10/dist-packages (from pmdarima!=1.8.1,<3.0.0,>=1.8.0->pycaret) (1.26.16)\n",
            "Requirement already satisfied: six in /usr/local/lib/python3.10/dist-packages (from pyod>=1.0.8->pycaret) (1.16.0)\n",
            "Requirement already satisfied: certifi>=2017.4.17 in /usr/local/lib/python3.10/dist-packages (from requests>=2.27.1->pycaret) (2023.7.22)\n",
            "Requirement already satisfied: charset-normalizer~=2.0.0 in /usr/local/lib/python3.10/dist-packages (from requests>=2.27.1->pycaret) (2.0.12)\n",
            "Requirement already satisfied: idna<4,>=2.5 in /usr/local/lib/python3.10/dist-packages (from requests>=2.27.1->pycaret) (3.4)\n",
            "Requirement already satisfied: deprecated>=1.2.13 in /usr/local/lib/python3.10/dist-packages (from sktime!=0.17.1,!=0.17.2,!=0.18.0,>=0.16.1->pycaret) (1.2.14)\n",
            "Requirement already satisfied: scikit-base<0.6.0 in /usr/local/lib/python3.10/dist-packages (from sktime!=0.17.1,!=0.17.2,!=0.18.0,>=0.16.1->pycaret) (0.5.0)\n",
            "Requirement already satisfied: Flask<2.3.0,>=1.0.4 in /usr/local/lib/python3.10/dist-packages (from dash<3.0.0,>=2.11.0->plotly-resampler>=0.8.3.1->pycaret) (2.2.5)\n",
            "Requirement already satisfied: Werkzeug<2.3.0 in /usr/local/lib/python3.10/dist-packages (from dash<3.0.0,>=2.11.0->plotly-resampler>=0.8.3.1->pycaret) (2.2.3)\n",
            "Requirement already satisfied: dash-html-components==2.0.0 in /usr/local/lib/python3.10/dist-packages (from dash<3.0.0,>=2.11.0->plotly-resampler>=0.8.3.1->pycaret) (2.0.0)\n",
            "Requirement already satisfied: dash-core-components==2.0.0 in /usr/local/lib/python3.10/dist-packages (from dash<3.0.0,>=2.11.0->plotly-resampler>=0.8.3.1->pycaret) (2.0.0)\n",
            "Requirement already satisfied: dash-table==5.0.0 in /usr/local/lib/python3.10/dist-packages (from dash<3.0.0,>=2.11.0->plotly-resampler>=0.8.3.1->pycaret) (5.0.0)\n",
            "Requirement already satisfied: typing-extensions>=4.1.1 in /usr/local/lib/python3.10/dist-packages (from dash<3.0.0,>=2.11.0->plotly-resampler>=0.8.3.1->pycaret) (4.7.1)\n",
            "Requirement already satisfied: retrying in /usr/local/lib/python3.10/dist-packages (from dash<3.0.0,>=2.11.0->plotly-resampler>=0.8.3.1->pycaret) (1.3.4)\n",
            "Requirement already satisfied: ansi2html in /usr/local/lib/python3.10/dist-packages (from dash<3.0.0,>=2.11.0->plotly-resampler>=0.8.3.1->pycaret) (1.8.0)\n",
            "Requirement already satisfied: nest-asyncio in /usr/local/lib/python3.10/dist-packages (from dash<3.0.0,>=2.11.0->plotly-resampler>=0.8.3.1->pycaret) (1.5.6)\n",
            "Requirement already satisfied: wrapt<2,>=1.10 in /usr/local/lib/python3.10/dist-packages (from deprecated>=1.2.13->sktime!=0.17.1,!=0.17.2,!=0.18.0,>=0.16.1->pycaret) (1.14.1)\n",
            "Requirement already satisfied: jupyter-client in /usr/local/lib/python3.10/dist-packages (from ipykernel>=4.5.1->ipywidgets>=7.6.5->pycaret) (6.1.12)\n",
            "Requirement already satisfied: tornado>=4.2 in /usr/local/lib/python3.10/dist-packages (from ipykernel>=4.5.1->ipywidgets>=7.6.5->pycaret) (6.3.1)\n",
            "Requirement already satisfied: parso<0.9.0,>=0.8.3 in /usr/local/lib/python3.10/dist-packages (from jedi>=0.16->ipython>=5.5.0->pycaret) (0.8.3)\n",
            "Requirement already satisfied: attrs>=17.4.0 in /usr/local/lib/python3.10/dist-packages (from jsonschema>=2.6->nbformat>=4.2.0->pycaret) (23.1.0)\n",
            "Requirement already satisfied: pyrsistent!=0.17.0,!=0.17.1,!=0.17.2,>=0.14.0 in /usr/local/lib/python3.10/dist-packages (from jsonschema>=2.6->nbformat>=4.2.0->pycaret) (0.19.3)\n",
            "Requirement already satisfied: ptyprocess>=0.5 in /usr/local/lib/python3.10/dist-packages (from pexpect>4.3->ipython>=5.5.0->pycaret) (0.7.0)\n",
            "Requirement already satisfied: wcwidth in /usr/local/lib/python3.10/dist-packages (from prompt-toolkit!=3.0.0,!=3.0.1,<3.1.0,>=2.0.0->ipython>=5.5.0->pycaret) (0.2.6)\n",
            "Requirement already satisfied: notebook>=4.4.1 in /usr/local/lib/python3.10/dist-packages (from widgetsnbextension~=3.6.0->ipywidgets>=7.6.5->pycaret) (6.4.8)\n",
            "Requirement already satisfied: platformdirs>=2.5 in /usr/local/lib/python3.10/dist-packages (from jupyter-core->nbformat>=4.2.0->pycaret) (3.9.1)\n",
            "Requirement already satisfied: itsdangerous>=2.0 in /usr/local/lib/python3.10/dist-packages (from Flask<2.3.0,>=1.0.4->dash<3.0.0,>=2.11.0->plotly-resampler>=0.8.3.1->pycaret) (2.1.2)\n",
            "Requirement already satisfied: click>=8.0 in /usr/local/lib/python3.10/dist-packages (from Flask<2.3.0,>=1.0.4->dash<3.0.0,>=2.11.0->plotly-resampler>=0.8.3.1->pycaret) (8.1.6)\n",
            "Requirement already satisfied: pyzmq>=17 in /usr/local/lib/python3.10/dist-packages (from notebook>=4.4.1->widgetsnbextension~=3.6.0->ipywidgets>=7.6.5->pycaret) (23.2.1)\n",
            "Requirement already satisfied: argon2-cffi in /usr/local/lib/python3.10/dist-packages (from notebook>=4.4.1->widgetsnbextension~=3.6.0->ipywidgets>=7.6.5->pycaret) (21.3.0)\n",
            "Requirement already satisfied: nbconvert in /usr/local/lib/python3.10/dist-packages (from notebook>=4.4.1->widgetsnbextension~=3.6.0->ipywidgets>=7.6.5->pycaret) (6.5.4)\n",
            "Requirement already satisfied: Send2Trash>=1.8.0 in /usr/local/lib/python3.10/dist-packages (from notebook>=4.4.1->widgetsnbextension~=3.6.0->ipywidgets>=7.6.5->pycaret) (1.8.2)\n",
            "Requirement already satisfied: terminado>=0.8.3 in /usr/local/lib/python3.10/dist-packages (from notebook>=4.4.1->widgetsnbextension~=3.6.0->ipywidgets>=7.6.5->pycaret) (0.17.1)\n",
            "Requirement already satisfied: prometheus-client in /usr/local/lib/python3.10/dist-packages (from notebook>=4.4.1->widgetsnbextension~=3.6.0->ipywidgets>=7.6.5->pycaret) (0.17.1)\n",
            "Requirement already satisfied: argon2-cffi-bindings in /usr/local/lib/python3.10/dist-packages (from argon2-cffi->notebook>=4.4.1->widgetsnbextension~=3.6.0->ipywidgets>=7.6.5->pycaret) (21.2.0)\n",
            "Requirement already satisfied: lxml in /usr/local/lib/python3.10/dist-packages (from nbconvert->notebook>=4.4.1->widgetsnbextension~=3.6.0->ipywidgets>=7.6.5->pycaret) (4.9.3)\n",
            "Requirement already satisfied: beautifulsoup4 in /usr/local/lib/python3.10/dist-packages (from nbconvert->notebook>=4.4.1->widgetsnbextension~=3.6.0->ipywidgets>=7.6.5->pycaret) (4.11.2)\n",
            "Requirement already satisfied: bleach in /usr/local/lib/python3.10/dist-packages (from nbconvert->notebook>=4.4.1->widgetsnbextension~=3.6.0->ipywidgets>=7.6.5->pycaret) (6.0.0)\n",
            "Requirement already satisfied: defusedxml in /usr/local/lib/python3.10/dist-packages (from nbconvert->notebook>=4.4.1->widgetsnbextension~=3.6.0->ipywidgets>=7.6.5->pycaret) (0.7.1)\n",
            "Requirement already satisfied: entrypoints>=0.2.2 in /usr/local/lib/python3.10/dist-packages (from nbconvert->notebook>=4.4.1->widgetsnbextension~=3.6.0->ipywidgets>=7.6.5->pycaret) (0.4)\n",
            "Requirement already satisfied: jupyterlab-pygments in /usr/local/lib/python3.10/dist-packages (from nbconvert->notebook>=4.4.1->widgetsnbextension~=3.6.0->ipywidgets>=7.6.5->pycaret) (0.2.2)\n",
            "Requirement already satisfied: mistune<2,>=0.8.1 in /usr/local/lib/python3.10/dist-packages (from nbconvert->notebook>=4.4.1->widgetsnbextension~=3.6.0->ipywidgets>=7.6.5->pycaret) (0.8.4)\n",
            "Requirement already satisfied: nbclient>=0.5.0 in /usr/local/lib/python3.10/dist-packages (from nbconvert->notebook>=4.4.1->widgetsnbextension~=3.6.0->ipywidgets>=7.6.5->pycaret) (0.8.0)\n",
            "Requirement already satisfied: pandocfilters>=1.4.1 in /usr/local/lib/python3.10/dist-packages (from nbconvert->notebook>=4.4.1->widgetsnbextension~=3.6.0->ipywidgets>=7.6.5->pycaret) (1.5.0)\n",
            "Requirement already satisfied: tinycss2 in /usr/local/lib/python3.10/dist-packages (from nbconvert->notebook>=4.4.1->widgetsnbextension~=3.6.0->ipywidgets>=7.6.5->pycaret) (1.2.1)\n",
            "Requirement already satisfied: cffi>=1.0.1 in /usr/local/lib/python3.10/dist-packages (from argon2-cffi-bindings->argon2-cffi->notebook>=4.4.1->widgetsnbextension~=3.6.0->ipywidgets>=7.6.5->pycaret) (1.15.1)\n",
            "Requirement already satisfied: soupsieve>1.2 in /usr/local/lib/python3.10/dist-packages (from beautifulsoup4->nbconvert->notebook>=4.4.1->widgetsnbextension~=3.6.0->ipywidgets>=7.6.5->pycaret) (2.4.1)\n",
            "Requirement already satisfied: webencodings in /usr/local/lib/python3.10/dist-packages (from bleach->nbconvert->notebook>=4.4.1->widgetsnbextension~=3.6.0->ipywidgets>=7.6.5->pycaret) (0.5.1)\n",
            "Requirement already satisfied: pycparser in /usr/local/lib/python3.10/dist-packages (from cffi>=1.0.1->argon2-cffi-bindings->argon2-cffi->notebook>=4.4.1->widgetsnbextension~=3.6.0->ipywidgets>=7.6.5->pycaret) (2.21)\n",
            "Requirement already satisfied: squarify in /usr/local/lib/python3.10/dist-packages (0.4.3)\n"
          ]
        }
      ],
      "source": [
        "! pip install transformers\n",
        "! pip install pycaret\n",
        "! pip install squarify"
      ]
    },
    {
      "cell_type": "code",
      "execution_count": 3,
      "metadata": {
        "colab": {
          "base_uri": "https://localhost:8080/"
        },
        "id": "HIFgZcfWlC8F",
        "outputId": "2411d745-4baa-436f-ad4b-fa366c4b766e"
      },
      "outputs": [
        {
          "output_type": "stream",
          "name": "stderr",
          "text": [
            "[nltk_data] Downloading package stopwords to /root/nltk_data...\n",
            "[nltk_data]   Package stopwords is already up-to-date!\n"
          ]
        },
        {
          "output_type": "execute_result",
          "data": {
            "text/plain": [
              "True"
            ]
          },
          "metadata": {},
          "execution_count": 3
        }
      ],
      "source": [
        "import numpy as np\n",
        "import pandas as pd\n",
        "import pycaret\n",
        "import nltk, re, string\n",
        "from string import punctuation\n",
        "from nltk.corpus import stopwords\n",
        "import transformers\n",
        "from transformers import AutoModel, BertTokenizerFast\n",
        "import matplotlib.pyplot as plt\n",
        "from sklearn.metrics import ConfusionMatrixDisplay\n",
        "from sklearn.metrics import classification_report,confusion_matrix,accuracy_score,roc_auc_score\n",
        "from sklearn.model_selection import train_test_split\n",
        "from sklearn.metrics import classification_report\n",
        "import torch\n",
        "import torch.nn as nn\n",
        "import os\n",
        "from tqdm import tqdm_notebook\n",
        "# specify GPU\n",
        "device = torch.device(\"cuda\")\n",
        "nltk.download('stopwords')"
      ]
    },
    {
      "cell_type": "code",
      "execution_count": 4,
      "metadata": {
        "colab": {
          "base_uri": "https://localhost:8080/"
        },
        "id": "-xkkoUVsEu_w",
        "outputId": "4e43689a-2343-4229-bbcb-0f6c2aa62581"
      },
      "outputs": [
        {
          "output_type": "stream",
          "name": "stdout",
          "text": [
            "/content/drive/My Drive/Colab Notebooks/DL-Project\n"
          ]
        }
      ],
      "source": [
        "# Set Working Directory\n",
        "%cd /content/drive/My Drive/Colab Notebooks/DL-Project"
      ]
    },
    {
      "cell_type": "markdown",
      "metadata": {
        "id": "Ar3qNZz0MiGk"
      },
      "source": [
        "## Load Dataset"
      ]
    },
    {
      "cell_type": "code",
      "execution_count": 5,
      "metadata": {
        "colab": {
          "base_uri": "https://localhost:8080/",
          "height": 224
        },
        "id": "9Gkv1hk-mr9Z",
        "outputId": "b46ce314-ccb3-46bf-fc3b-a1540f3e6f94"
      },
      "outputs": [
        {
          "output_type": "stream",
          "name": "stdout",
          "text": [
            "(39409, 3)\n"
          ]
        },
        {
          "output_type": "execute_result",
          "data": {
            "text/plain": [
              "                                                text  label Target\n",
              "0  wow brave veteran confronts ferguson thug stom...      0   Fake\n",
              "1  maine new jersey end state government shutdown...      1   True\n",
              "2  cbs minute withhold trump appeal stop attack m...      0   Fake\n",
              "3  senior north korean diplomat meet un political...      1   True\n",
              "4  u concerned violence around iraq kirkuk state ...      1   True"
            ],
            "text/html": [
              "\n",
              "\n",
              "  <div id=\"df-43c935a9-efeb-4775-9b12-b0788c602b36\">\n",
              "    <div class=\"colab-df-container\">\n",
              "      <div>\n",
              "<style scoped>\n",
              "    .dataframe tbody tr th:only-of-type {\n",
              "        vertical-align: middle;\n",
              "    }\n",
              "\n",
              "    .dataframe tbody tr th {\n",
              "        vertical-align: top;\n",
              "    }\n",
              "\n",
              "    .dataframe thead th {\n",
              "        text-align: right;\n",
              "    }\n",
              "</style>\n",
              "<table border=\"1\" class=\"dataframe\">\n",
              "  <thead>\n",
              "    <tr style=\"text-align: right;\">\n",
              "      <th></th>\n",
              "      <th>text</th>\n",
              "      <th>label</th>\n",
              "      <th>Target</th>\n",
              "    </tr>\n",
              "  </thead>\n",
              "  <tbody>\n",
              "    <tr>\n",
              "      <th>0</th>\n",
              "      <td>wow brave veteran confronts ferguson thug stom...</td>\n",
              "      <td>0</td>\n",
              "      <td>Fake</td>\n",
              "    </tr>\n",
              "    <tr>\n",
              "      <th>1</th>\n",
              "      <td>maine new jersey end state government shutdown...</td>\n",
              "      <td>1</td>\n",
              "      <td>True</td>\n",
              "    </tr>\n",
              "    <tr>\n",
              "      <th>2</th>\n",
              "      <td>cbs minute withhold trump appeal stop attack m...</td>\n",
              "      <td>0</td>\n",
              "      <td>Fake</td>\n",
              "    </tr>\n",
              "    <tr>\n",
              "      <th>3</th>\n",
              "      <td>senior north korean diplomat meet un political...</td>\n",
              "      <td>1</td>\n",
              "      <td>True</td>\n",
              "    </tr>\n",
              "    <tr>\n",
              "      <th>4</th>\n",
              "      <td>u concerned violence around iraq kirkuk state ...</td>\n",
              "      <td>1</td>\n",
              "      <td>True</td>\n",
              "    </tr>\n",
              "  </tbody>\n",
              "</table>\n",
              "</div>\n",
              "      <button class=\"colab-df-convert\" onclick=\"convertToInteractive('df-43c935a9-efeb-4775-9b12-b0788c602b36')\"\n",
              "              title=\"Convert this dataframe to an interactive table.\"\n",
              "              style=\"display:none;\">\n",
              "\n",
              "  <svg xmlns=\"http://www.w3.org/2000/svg\" height=\"24px\"viewBox=\"0 0 24 24\"\n",
              "       width=\"24px\">\n",
              "    <path d=\"M0 0h24v24H0V0z\" fill=\"none\"/>\n",
              "    <path d=\"M18.56 5.44l.94 2.06.94-2.06 2.06-.94-2.06-.94-.94-2.06-.94 2.06-2.06.94zm-11 1L8.5 8.5l.94-2.06 2.06-.94-2.06-.94L8.5 2.5l-.94 2.06-2.06.94zm10 10l.94 2.06.94-2.06 2.06-.94-2.06-.94-.94-2.06-.94 2.06-2.06.94z\"/><path d=\"M17.41 7.96l-1.37-1.37c-.4-.4-.92-.59-1.43-.59-.52 0-1.04.2-1.43.59L10.3 9.45l-7.72 7.72c-.78.78-.78 2.05 0 2.83L4 21.41c.39.39.9.59 1.41.59.51 0 1.02-.2 1.41-.59l7.78-7.78 2.81-2.81c.8-.78.8-2.07 0-2.86zM5.41 20L4 18.59l7.72-7.72 1.47 1.35L5.41 20z\"/>\n",
              "  </svg>\n",
              "      </button>\n",
              "\n",
              "\n",
              "\n",
              "    <div id=\"df-19f21e23-7479-4402-af6a-41f20cbd98cd\">\n",
              "      <button class=\"colab-df-quickchart\" onclick=\"quickchart('df-19f21e23-7479-4402-af6a-41f20cbd98cd')\"\n",
              "              title=\"Suggest charts.\"\n",
              "              style=\"display:none;\">\n",
              "\n",
              "<svg xmlns=\"http://www.w3.org/2000/svg\" height=\"24px\"viewBox=\"0 0 24 24\"\n",
              "     width=\"24px\">\n",
              "    <g>\n",
              "        <path d=\"M19 3H5c-1.1 0-2 .9-2 2v14c0 1.1.9 2 2 2h14c1.1 0 2-.9 2-2V5c0-1.1-.9-2-2-2zM9 17H7v-7h2v7zm4 0h-2V7h2v10zm4 0h-2v-4h2v4z\"/>\n",
              "    </g>\n",
              "</svg>\n",
              "      </button>\n",
              "    </div>\n",
              "\n",
              "<style>\n",
              "  .colab-df-quickchart {\n",
              "    background-color: #E8F0FE;\n",
              "    border: none;\n",
              "    border-radius: 50%;\n",
              "    cursor: pointer;\n",
              "    display: none;\n",
              "    fill: #1967D2;\n",
              "    height: 32px;\n",
              "    padding: 0 0 0 0;\n",
              "    width: 32px;\n",
              "  }\n",
              "\n",
              "  .colab-df-quickchart:hover {\n",
              "    background-color: #E2EBFA;\n",
              "    box-shadow: 0px 1px 2px rgba(60, 64, 67, 0.3), 0px 1px 3px 1px rgba(60, 64, 67, 0.15);\n",
              "    fill: #174EA6;\n",
              "  }\n",
              "\n",
              "  [theme=dark] .colab-df-quickchart {\n",
              "    background-color: #3B4455;\n",
              "    fill: #D2E3FC;\n",
              "  }\n",
              "\n",
              "  [theme=dark] .colab-df-quickchart:hover {\n",
              "    background-color: #434B5C;\n",
              "    box-shadow: 0px 1px 3px 1px rgba(0, 0, 0, 0.15);\n",
              "    filter: drop-shadow(0px 1px 2px rgba(0, 0, 0, 0.3));\n",
              "    fill: #FFFFFF;\n",
              "  }\n",
              "</style>\n",
              "\n",
              "    <script>\n",
              "      async function quickchart(key) {\n",
              "        const containerElement = document.querySelector('#' + key);\n",
              "        const charts = await google.colab.kernel.invokeFunction(\n",
              "            'suggestCharts', [key], {});\n",
              "      }\n",
              "    </script>\n",
              "\n",
              "      <script>\n",
              "\n",
              "function displayQuickchartButton(domScope) {\n",
              "  let quickchartButtonEl =\n",
              "    domScope.querySelector('#df-19f21e23-7479-4402-af6a-41f20cbd98cd button.colab-df-quickchart');\n",
              "  quickchartButtonEl.style.display =\n",
              "    google.colab.kernel.accessAllowed ? 'block' : 'none';\n",
              "}\n",
              "\n",
              "        displayQuickchartButton(document);\n",
              "      </script>\n",
              "      <style>\n",
              "    .colab-df-container {\n",
              "      display:flex;\n",
              "      flex-wrap:wrap;\n",
              "      gap: 12px;\n",
              "    }\n",
              "\n",
              "    .colab-df-convert {\n",
              "      background-color: #E8F0FE;\n",
              "      border: none;\n",
              "      border-radius: 50%;\n",
              "      cursor: pointer;\n",
              "      display: none;\n",
              "      fill: #1967D2;\n",
              "      height: 32px;\n",
              "      padding: 0 0 0 0;\n",
              "      width: 32px;\n",
              "    }\n",
              "\n",
              "    .colab-df-convert:hover {\n",
              "      background-color: #E2EBFA;\n",
              "      box-shadow: 0px 1px 2px rgba(60, 64, 67, 0.3), 0px 1px 3px 1px rgba(60, 64, 67, 0.15);\n",
              "      fill: #174EA6;\n",
              "    }\n",
              "\n",
              "    [theme=dark] .colab-df-convert {\n",
              "      background-color: #3B4455;\n",
              "      fill: #D2E3FC;\n",
              "    }\n",
              "\n",
              "    [theme=dark] .colab-df-convert:hover {\n",
              "      background-color: #434B5C;\n",
              "      box-shadow: 0px 1px 3px 1px rgba(0, 0, 0, 0.15);\n",
              "      filter: drop-shadow(0px 1px 2px rgba(0, 0, 0, 0.3));\n",
              "      fill: #FFFFFF;\n",
              "    }\n",
              "  </style>\n",
              "\n",
              "      <script>\n",
              "        const buttonEl =\n",
              "          document.querySelector('#df-43c935a9-efeb-4775-9b12-b0788c602b36 button.colab-df-convert');\n",
              "        buttonEl.style.display =\n",
              "          google.colab.kernel.accessAllowed ? 'block' : 'none';\n",
              "\n",
              "        async function convertToInteractive(key) {\n",
              "          const element = document.querySelector('#df-43c935a9-efeb-4775-9b12-b0788c602b36');\n",
              "          const dataTable =\n",
              "            await google.colab.kernel.invokeFunction('convertToInteractive',\n",
              "                                                     [key], {});\n",
              "          if (!dataTable) return;\n",
              "\n",
              "          const docLinkHtml = 'Like what you see? Visit the ' +\n",
              "            '<a target=\"_blank\" href=https://colab.research.google.com/notebooks/data_table.ipynb>data table notebook</a>'\n",
              "            + ' to learn more about interactive tables.';\n",
              "          element.innerHTML = '';\n",
              "          dataTable['output_type'] = 'display_data';\n",
              "          await google.colab.output.renderOutput(dataTable, element);\n",
              "          const docLink = document.createElement('div');\n",
              "          docLink.innerHTML = docLinkHtml;\n",
              "          element.appendChild(docLink);\n",
              "        }\n",
              "      </script>\n",
              "    </div>\n",
              "  </div>\n"
            ]
          },
          "metadata": {},
          "execution_count": 5
        }
      ],
      "source": [
        "data = pd.read_csv('final_fake_news.csv')\n",
        "#fake_data = pd.read_csv('Fake.csv')\n",
        "\n",
        "data['Target'] = 'True'\n",
        "data.loc[data['label'] == 0, 'Target'] = 'Fake'\n",
        "\n",
        "#true_data['Target'] = ['True']*len(true_data)\n",
        "#fake_data['Target'] = ['Fake']*len(fake_data)\n",
        "\n",
        "data = data.sample(frac=1).reset_index().drop(columns=['index'])\n",
        "\n",
        "\n",
        "print(data.shape)\n",
        "data.head()"
      ]
    },
    {
      "cell_type": "code",
      "execution_count": 6,
      "metadata": {
        "id": "u86aL9M0WA3T"
      },
      "outputs": [],
      "source": [
        "# True/Fake to numbers 0/1 (Fake=1)\n",
        "data['label'] = pd.get_dummies(data.Target)['Fake']"
      ]
    },
    {
      "cell_type": "code",
      "execution_count": 7,
      "metadata": {
        "colab": {
          "base_uri": "https://localhost:8080/",
          "height": 206
        },
        "id": "yt2qbRKOwz-H",
        "outputId": "e83a1cba-753a-4364-c563-59aee4575f2d"
      },
      "outputs": [
        {
          "output_type": "execute_result",
          "data": {
            "text/plain": [
              "                                                text  label Target\n",
              "0  wow brave veteran confronts ferguson thug stom...      1   Fake\n",
              "1  maine new jersey end state government shutdown...      0   True\n",
              "2  cbs minute withhold trump appeal stop attack m...      1   Fake\n",
              "3  senior north korean diplomat meet un political...      0   True\n",
              "4  u concerned violence around iraq kirkuk state ...      0   True"
            ],
            "text/html": [
              "\n",
              "\n",
              "  <div id=\"df-2c1090ff-9fb0-4dcb-a9e2-752f2ab2ee42\">\n",
              "    <div class=\"colab-df-container\">\n",
              "      <div>\n",
              "<style scoped>\n",
              "    .dataframe tbody tr th:only-of-type {\n",
              "        vertical-align: middle;\n",
              "    }\n",
              "\n",
              "    .dataframe tbody tr th {\n",
              "        vertical-align: top;\n",
              "    }\n",
              "\n",
              "    .dataframe thead th {\n",
              "        text-align: right;\n",
              "    }\n",
              "</style>\n",
              "<table border=\"1\" class=\"dataframe\">\n",
              "  <thead>\n",
              "    <tr style=\"text-align: right;\">\n",
              "      <th></th>\n",
              "      <th>text</th>\n",
              "      <th>label</th>\n",
              "      <th>Target</th>\n",
              "    </tr>\n",
              "  </thead>\n",
              "  <tbody>\n",
              "    <tr>\n",
              "      <th>0</th>\n",
              "      <td>wow brave veteran confronts ferguson thug stom...</td>\n",
              "      <td>1</td>\n",
              "      <td>Fake</td>\n",
              "    </tr>\n",
              "    <tr>\n",
              "      <th>1</th>\n",
              "      <td>maine new jersey end state government shutdown...</td>\n",
              "      <td>0</td>\n",
              "      <td>True</td>\n",
              "    </tr>\n",
              "    <tr>\n",
              "      <th>2</th>\n",
              "      <td>cbs minute withhold trump appeal stop attack m...</td>\n",
              "      <td>1</td>\n",
              "      <td>Fake</td>\n",
              "    </tr>\n",
              "    <tr>\n",
              "      <th>3</th>\n",
              "      <td>senior north korean diplomat meet un political...</td>\n",
              "      <td>0</td>\n",
              "      <td>True</td>\n",
              "    </tr>\n",
              "    <tr>\n",
              "      <th>4</th>\n",
              "      <td>u concerned violence around iraq kirkuk state ...</td>\n",
              "      <td>0</td>\n",
              "      <td>True</td>\n",
              "    </tr>\n",
              "  </tbody>\n",
              "</table>\n",
              "</div>\n",
              "      <button class=\"colab-df-convert\" onclick=\"convertToInteractive('df-2c1090ff-9fb0-4dcb-a9e2-752f2ab2ee42')\"\n",
              "              title=\"Convert this dataframe to an interactive table.\"\n",
              "              style=\"display:none;\">\n",
              "\n",
              "  <svg xmlns=\"http://www.w3.org/2000/svg\" height=\"24px\"viewBox=\"0 0 24 24\"\n",
              "       width=\"24px\">\n",
              "    <path d=\"M0 0h24v24H0V0z\" fill=\"none\"/>\n",
              "    <path d=\"M18.56 5.44l.94 2.06.94-2.06 2.06-.94-2.06-.94-.94-2.06-.94 2.06-2.06.94zm-11 1L8.5 8.5l.94-2.06 2.06-.94-2.06-.94L8.5 2.5l-.94 2.06-2.06.94zm10 10l.94 2.06.94-2.06 2.06-.94-2.06-.94-.94-2.06-.94 2.06-2.06.94z\"/><path d=\"M17.41 7.96l-1.37-1.37c-.4-.4-.92-.59-1.43-.59-.52 0-1.04.2-1.43.59L10.3 9.45l-7.72 7.72c-.78.78-.78 2.05 0 2.83L4 21.41c.39.39.9.59 1.41.59.51 0 1.02-.2 1.41-.59l7.78-7.78 2.81-2.81c.8-.78.8-2.07 0-2.86zM5.41 20L4 18.59l7.72-7.72 1.47 1.35L5.41 20z\"/>\n",
              "  </svg>\n",
              "      </button>\n",
              "\n",
              "\n",
              "\n",
              "    <div id=\"df-47172da8-1cd8-4e04-bd06-ccd24a464909\">\n",
              "      <button class=\"colab-df-quickchart\" onclick=\"quickchart('df-47172da8-1cd8-4e04-bd06-ccd24a464909')\"\n",
              "              title=\"Suggest charts.\"\n",
              "              style=\"display:none;\">\n",
              "\n",
              "<svg xmlns=\"http://www.w3.org/2000/svg\" height=\"24px\"viewBox=\"0 0 24 24\"\n",
              "     width=\"24px\">\n",
              "    <g>\n",
              "        <path d=\"M19 3H5c-1.1 0-2 .9-2 2v14c0 1.1.9 2 2 2h14c1.1 0 2-.9 2-2V5c0-1.1-.9-2-2-2zM9 17H7v-7h2v7zm4 0h-2V7h2v10zm4 0h-2v-4h2v4z\"/>\n",
              "    </g>\n",
              "</svg>\n",
              "      </button>\n",
              "    </div>\n",
              "\n",
              "<style>\n",
              "  .colab-df-quickchart {\n",
              "    background-color: #E8F0FE;\n",
              "    border: none;\n",
              "    border-radius: 50%;\n",
              "    cursor: pointer;\n",
              "    display: none;\n",
              "    fill: #1967D2;\n",
              "    height: 32px;\n",
              "    padding: 0 0 0 0;\n",
              "    width: 32px;\n",
              "  }\n",
              "\n",
              "  .colab-df-quickchart:hover {\n",
              "    background-color: #E2EBFA;\n",
              "    box-shadow: 0px 1px 2px rgba(60, 64, 67, 0.3), 0px 1px 3px 1px rgba(60, 64, 67, 0.15);\n",
              "    fill: #174EA6;\n",
              "  }\n",
              "\n",
              "  [theme=dark] .colab-df-quickchart {\n",
              "    background-color: #3B4455;\n",
              "    fill: #D2E3FC;\n",
              "  }\n",
              "\n",
              "  [theme=dark] .colab-df-quickchart:hover {\n",
              "    background-color: #434B5C;\n",
              "    box-shadow: 0px 1px 3px 1px rgba(0, 0, 0, 0.15);\n",
              "    filter: drop-shadow(0px 1px 2px rgba(0, 0, 0, 0.3));\n",
              "    fill: #FFFFFF;\n",
              "  }\n",
              "</style>\n",
              "\n",
              "    <script>\n",
              "      async function quickchart(key) {\n",
              "        const containerElement = document.querySelector('#' + key);\n",
              "        const charts = await google.colab.kernel.invokeFunction(\n",
              "            'suggestCharts', [key], {});\n",
              "      }\n",
              "    </script>\n",
              "\n",
              "      <script>\n",
              "\n",
              "function displayQuickchartButton(domScope) {\n",
              "  let quickchartButtonEl =\n",
              "    domScope.querySelector('#df-47172da8-1cd8-4e04-bd06-ccd24a464909 button.colab-df-quickchart');\n",
              "  quickchartButtonEl.style.display =\n",
              "    google.colab.kernel.accessAllowed ? 'block' : 'none';\n",
              "}\n",
              "\n",
              "        displayQuickchartButton(document);\n",
              "      </script>\n",
              "      <style>\n",
              "    .colab-df-container {\n",
              "      display:flex;\n",
              "      flex-wrap:wrap;\n",
              "      gap: 12px;\n",
              "    }\n",
              "\n",
              "    .colab-df-convert {\n",
              "      background-color: #E8F0FE;\n",
              "      border: none;\n",
              "      border-radius: 50%;\n",
              "      cursor: pointer;\n",
              "      display: none;\n",
              "      fill: #1967D2;\n",
              "      height: 32px;\n",
              "      padding: 0 0 0 0;\n",
              "      width: 32px;\n",
              "    }\n",
              "\n",
              "    .colab-df-convert:hover {\n",
              "      background-color: #E2EBFA;\n",
              "      box-shadow: 0px 1px 2px rgba(60, 64, 67, 0.3), 0px 1px 3px 1px rgba(60, 64, 67, 0.15);\n",
              "      fill: #174EA6;\n",
              "    }\n",
              "\n",
              "    [theme=dark] .colab-df-convert {\n",
              "      background-color: #3B4455;\n",
              "      fill: #D2E3FC;\n",
              "    }\n",
              "\n",
              "    [theme=dark] .colab-df-convert:hover {\n",
              "      background-color: #434B5C;\n",
              "      box-shadow: 0px 1px 3px 1px rgba(0, 0, 0, 0.15);\n",
              "      filter: drop-shadow(0px 1px 2px rgba(0, 0, 0, 0.3));\n",
              "      fill: #FFFFFF;\n",
              "    }\n",
              "  </style>\n",
              "\n",
              "      <script>\n",
              "        const buttonEl =\n",
              "          document.querySelector('#df-2c1090ff-9fb0-4dcb-a9e2-752f2ab2ee42 button.colab-df-convert');\n",
              "        buttonEl.style.display =\n",
              "          google.colab.kernel.accessAllowed ? 'block' : 'none';\n",
              "\n",
              "        async function convertToInteractive(key) {\n",
              "          const element = document.querySelector('#df-2c1090ff-9fb0-4dcb-a9e2-752f2ab2ee42');\n",
              "          const dataTable =\n",
              "            await google.colab.kernel.invokeFunction('convertToInteractive',\n",
              "                                                     [key], {});\n",
              "          if (!dataTable) return;\n",
              "\n",
              "          const docLinkHtml = 'Like what you see? Visit the ' +\n",
              "            '<a target=\"_blank\" href=https://colab.research.google.com/notebooks/data_table.ipynb>data table notebook</a>'\n",
              "            + ' to learn more about interactive tables.';\n",
              "          element.innerHTML = '';\n",
              "          dataTable['output_type'] = 'display_data';\n",
              "          await google.colab.output.renderOutput(dataTable, element);\n",
              "          const docLink = document.createElement('div');\n",
              "          docLink.innerHTML = docLinkHtml;\n",
              "          element.appendChild(docLink);\n",
              "        }\n",
              "      </script>\n",
              "    </div>\n",
              "  </div>\n"
            ]
          },
          "metadata": {},
          "execution_count": 7
        }
      ],
      "source": [
        "data.head()"
      ]
    },
    {
      "cell_type": "code",
      "execution_count": 8,
      "metadata": {
        "colab": {
          "base_uri": "https://localhost:8080/",
          "height": 428
        },
        "id": "6GR5qqqwoVAc",
        "outputId": "c86536c9-dc5a-42af-a532-1f12648d2966"
      },
      "outputs": [
        {
          "output_type": "display_data",
          "data": {
            "text/plain": [
              "<Figure size 640x480 with 1 Axes>"
            ],
            "image/png": "[encoded data removed]"
          },
          "metadata": {}
        }
      ],
      "source": [
        "import matplotlib.pyplot as plt\n",
        "import squarify\n",
        "\n",
        "label_size = [data['label'].sum(), len(data['label']) - data['label'].sum()]\n",
        "labels = ['Fake', 'True']\n",
        "colors = ['#98FB98', '#9370DB']\n",
        "\n",
        "fig, ax = plt.subplots()\n",
        "squarify.plot(sizes=label_size, label=labels, color=colors, alpha=0.7, ax=ax)\n",
        "\n",
        "plt.title('Label Distribution')\n",
        "plt.axis('off')\n",
        "\n",
        "for i, rect in enumerate(ax.patches):\n",
        "    percentage = label_size[i] / sum(label_size) * 100\n",
        "    x = rect.get_x() + rect.get_width() / 2\n",
        "    y = rect.get_y() + rect.get_height() / 3\n",
        "    plt.text(x=x, y=y, s=f'{percentage:.1f}%', ha='center', va='center', fontsize=10, color='blue')\n",
        "\n",
        "plt.show()"
      ]
    },
    {
      "cell_type": "code",
      "execution_count": 9,
      "metadata": {
        "colab": {
          "base_uri": "https://localhost:8080/"
        },
        "id": "MxZi1b0sNHDK",
        "outputId": "3e3e25e2-9d7e-4a0c-962a-42ac976cefcc"
      },
      "outputs": [
        {
          "output_type": "stream",
          "name": "stdout",
          "text": [
            "There are no null values in the dataset.\n"
          ]
        }
      ],
      "source": [
        "# Check if there are null values\n",
        "if data.isnull().values.any():\n",
        "    print(\"There are null values in the dataset.\")\n",
        "else:\n",
        "    print(\"There are no null values in the dataset.\")"
      ]
    },
    {
      "cell_type": "code",
      "execution_count": 10,
      "metadata": {
        "colab": {
          "base_uri": "https://localhost:8080/",
          "height": 206
        },
        "id": "hkp5GItGNc0B",
        "outputId": "18853470-4e21-46dd-acca-6f5d991d4a99"
      },
      "outputs": [
        {
          "output_type": "execute_result",
          "data": {
            "text/plain": [
              "                                                text  label Target\n",
              "0  wow brave veteran confronts ferguson thug stom...      1   Fake\n",
              "1  maine new jersey end state government shutdown...      0   True\n",
              "2  cbs minute withhold trump appeal stop attack m...      1   Fake\n",
              "3  senior north korean diplomat meet un political...      0   True\n",
              "4  u concerned violence around iraq kirkuk state ...      0   True"
            ],
            "text/html": [
              "\n",
              "\n",
              "  <div id=\"df-304578c1-fd8c-4ba0-bdc0-a361daa0fba7\">\n",
              "    <div class=\"colab-df-container\">\n",
              "      <div>\n",
              "<style scoped>\n",
              "    .dataframe tbody tr th:only-of-type {\n",
              "        vertical-align: middle;\n",
              "    }\n",
              "\n",
              "    .dataframe tbody tr th {\n",
              "        vertical-align: top;\n",
              "    }\n",
              "\n",
              "    .dataframe thead th {\n",
              "        text-align: right;\n",
              "    }\n",
              "</style>\n",
              "<table border=\"1\" class=\"dataframe\">\n",
              "  <thead>\n",
              "    <tr style=\"text-align: right;\">\n",
              "      <th></th>\n",
              "      <th>text</th>\n",
              "      <th>label</th>\n",
              "      <th>Target</th>\n",
              "    </tr>\n",
              "  </thead>\n",
              "  <tbody>\n",
              "    <tr>\n",
              "      <th>0</th>\n",
              "      <td>wow brave veteran confronts ferguson thug stom...</td>\n",
              "      <td>1</td>\n",
              "      <td>Fake</td>\n",
              "    </tr>\n",
              "    <tr>\n",
              "      <th>1</th>\n",
              "      <td>maine new jersey end state government shutdown...</td>\n",
              "      <td>0</td>\n",
              "      <td>True</td>\n",
              "    </tr>\n",
              "    <tr>\n",
              "      <th>2</th>\n",
              "      <td>cbs minute withhold trump appeal stop attack m...</td>\n",
              "      <td>1</td>\n",
              "      <td>Fake</td>\n",
              "    </tr>\n",
              "    <tr>\n",
              "      <th>3</th>\n",
              "      <td>senior north korean diplomat meet un political...</td>\n",
              "      <td>0</td>\n",
              "      <td>True</td>\n",
              "    </tr>\n",
              "    <tr>\n",
              "      <th>4</th>\n",
              "      <td>u concerned violence around iraq kirkuk state ...</td>\n",
              "      <td>0</td>\n",
              "      <td>True</td>\n",
              "    </tr>\n",
              "  </tbody>\n",
              "</table>\n",
              "</div>\n",
              "      <button class=\"colab-df-convert\" onclick=\"convertToInteractive('df-304578c1-fd8c-4ba0-bdc0-a361daa0fba7')\"\n",
              "              title=\"Convert this dataframe to an interactive table.\"\n",
              "              style=\"display:none;\">\n",
              "\n",
              "  <svg xmlns=\"http://www.w3.org/2000/svg\" height=\"24px\"viewBox=\"0 0 24 24\"\n",
              "       width=\"24px\">\n",
              "    <path d=\"M0 0h24v24H0V0z\" fill=\"none\"/>\n",
              "    <path d=\"M18.56 5.44l.94 2.06.94-2.06 2.06-.94-2.06-.94-.94-2.06-.94 2.06-2.06.94zm-11 1L8.5 8.5l.94-2.06 2.06-.94-2.06-.94L8.5 2.5l-.94 2.06-2.06.94zm10 10l.94 2.06.94-2.06 2.06-.94-2.06-.94-.94-2.06-.94 2.06-2.06.94z\"/><path d=\"M17.41 7.96l-1.37-1.37c-.4-.4-.92-.59-1.43-.59-.52 0-1.04.2-1.43.59L10.3 9.45l-7.72 7.72c-.78.78-.78 2.05 0 2.83L4 21.41c.39.39.9.59 1.41.59.51 0 1.02-.2 1.41-.59l7.78-7.78 2.81-2.81c.8-.78.8-2.07 0-2.86zM5.41 20L4 18.59l7.72-7.72 1.47 1.35L5.41 20z\"/>\n",
              "  </svg>\n",
              "      </button>\n",
              "\n",
              "\n",
              "\n",
              "    <div id=\"df-83bb98b5-69b0-47b2-a5c3-cd21ef7ab133\">\n",
              "      <button class=\"colab-df-quickchart\" onclick=\"quickchart('df-83bb98b5-69b0-47b2-a5c3-cd21ef7ab133')\"\n",
              "              title=\"Suggest charts.\"\n",
              "              style=\"display:none;\">\n",
              "\n",
              "<svg xmlns=\"http://www.w3.org/2000/svg\" height=\"24px\"viewBox=\"0 0 24 24\"\n",
              "     width=\"24px\">\n",
              "    <g>\n",
              "        <path d=\"M19 3H5c-1.1 0-2 .9-2 2v14c0 1.1.9 2 2 2h14c1.1 0 2-.9 2-2V5c0-1.1-.9-2-2-2zM9 17H7v-7h2v7zm4 0h-2V7h2v10zm4 0h-2v-4h2v4z\"/>\n",
              "    </g>\n",
              "</svg>\n",
              "      </button>\n",
              "    </div>\n",
              "\n",
              "<style>\n",
              "  .colab-df-quickchart {\n",
              "    background-color: #E8F0FE;\n",
              "    border: none;\n",
              "    border-radius: 50%;\n",
              "    cursor: pointer;\n",
              "    display: none;\n",
              "    fill: #1967D2;\n",
              "    height: 32px;\n",
              "    padding: 0 0 0 0;\n",
              "    width: 32px;\n",
              "  }\n",
              "\n",
              "  .colab-df-quickchart:hover {\n",
              "    background-color: #E2EBFA;\n",
              "    box-shadow: 0px 1px 2px rgba(60, 64, 67, 0.3), 0px 1px 3px 1px rgba(60, 64, 67, 0.15);\n",
              "    fill: #174EA6;\n",
              "  }\n",
              "\n",
              "  [theme=dark] .colab-df-quickchart {\n",
              "    background-color: #3B4455;\n",
              "    fill: #D2E3FC;\n",
              "  }\n",
              "\n",
              "  [theme=dark] .colab-df-quickchart:hover {\n",
              "    background-color: #434B5C;\n",
              "    box-shadow: 0px 1px 3px 1px rgba(0, 0, 0, 0.15);\n",
              "    filter: drop-shadow(0px 1px 2px rgba(0, 0, 0, 0.3));\n",
              "    fill: #FFFFFF;\n",
              "  }\n",
              "</style>\n",
              "\n",
              "    <script>\n",
              "      async function quickchart(key) {\n",
              "        const containerElement = document.querySelector('#' + key);\n",
              "        const charts = await google.colab.kernel.invokeFunction(\n",
              "            'suggestCharts', [key], {});\n",
              "      }\n",
              "    </script>\n",
              "\n",
              "      <script>\n",
              "\n",
              "function displayQuickchartButton(domScope) {\n",
              "  let quickchartButtonEl =\n",
              "    domScope.querySelector('#df-83bb98b5-69b0-47b2-a5c3-cd21ef7ab133 button.colab-df-quickchart');\n",
              "  quickchartButtonEl.style.display =\n",
              "    google.colab.kernel.accessAllowed ? 'block' : 'none';\n",
              "}\n",
              "\n",
              "        displayQuickchartButton(document);\n",
              "      </script>\n",
              "      <style>\n",
              "    .colab-df-container {\n",
              "      display:flex;\n",
              "      flex-wrap:wrap;\n",
              "      gap: 12px;\n",
              "    }\n",
              "\n",
              "    .colab-df-convert {\n",
              "      background-color: #E8F0FE;\n",
              "      border: none;\n",
              "      border-radius: 50%;\n",
              "      cursor: pointer;\n",
              "      display: none;\n",
              "      fill: #1967D2;\n",
              "      height: 32px;\n",
              "      padding: 0 0 0 0;\n",
              "      width: 32px;\n",
              "    }\n",
              "\n",
              "    .colab-df-convert:hover {\n",
              "      background-color: #E2EBFA;\n",
              "      box-shadow: 0px 1px 2px rgba(60, 64, 67, 0.3), 0px 1px 3px 1px rgba(60, 64, 67, 0.15);\n",
              "      fill: #174EA6;\n",
              "    }\n",
              "\n",
              "    [theme=dark] .colab-df-convert {\n",
              "      background-color: #3B4455;\n",
              "      fill: #D2E3FC;\n",
              "    }\n",
              "\n",
              "    [theme=dark] .colab-df-convert:hover {\n",
              "      background-color: #434B5C;\n",
              "      box-shadow: 0px 1px 3px 1px rgba(0, 0, 0, 0.15);\n",
              "      filter: drop-shadow(0px 1px 2px rgba(0, 0, 0, 0.3));\n",
              "      fill: #FFFFFF;\n",
              "    }\n",
              "  </style>\n",
              "\n",
              "      <script>\n",
              "        const buttonEl =\n",
              "          document.querySelector('#df-304578c1-fd8c-4ba0-bdc0-a361daa0fba7 button.colab-df-convert');\n",
              "        buttonEl.style.display =\n",
              "          google.colab.kernel.accessAllowed ? 'block' : 'none';\n",
              "\n",
              "        async function convertToInteractive(key) {\n",
              "          const element = document.querySelector('#df-304578c1-fd8c-4ba0-bdc0-a361daa0fba7');\n",
              "          const dataTable =\n",
              "            await google.colab.kernel.invokeFunction('convertToInteractive',\n",
              "                                                     [key], {});\n",
              "          if (!dataTable) return;\n",
              "\n",
              "          const docLinkHtml = 'Like what you see? Visit the ' +\n",
              "            '<a target=\"_blank\" href=https://colab.research.google.com/notebooks/data_table.ipynb>data table notebook</a>'\n",
              "            + ' to learn more about interactive tables.';\n",
              "          element.innerHTML = '';\n",
              "          dataTable['output_type'] = 'display_data';\n",
              "          await google.colab.output.renderOutput(dataTable, element);\n",
              "          const docLink = document.createElement('div');\n",
              "          docLink.innerHTML = docLinkHtml;\n",
              "          element.appendChild(docLink);\n",
              "        }\n",
              "      </script>\n",
              "    </div>\n",
              "  </div>\n"
            ]
          },
          "metadata": {},
          "execution_count": 10
        }
      ],
      "source": [
        "data.head()"
      ]
    },
    {
      "cell_type": "markdown",
      "metadata": {
        "id": "Zj5h7QbnZC0t"
      },
      "source": [
        "## Train-test-split"
      ]
    },
    {
      "cell_type": "code",
      "execution_count": 11,
      "metadata": {
        "id": "3P9DYEq3y6pR"
      },
      "outputs": [],
      "source": [
        "train_text, temp_text, train_labels, temp_labels = train_test_split(data['text'], data['label'],\n",
        "                                                                    random_state=2018,\n",
        "                                                                    test_size=0.3,\n",
        "                                                                    stratify=data['Target'])\n",
        "val_text, test_text, val_labels, test_labels = train_test_split(temp_text, temp_labels,\n",
        "                                                                random_state=2018,\n",
        "                                                                test_size=0.5,\n",
        "                                                                stratify=temp_labels)"
      ]
    },
    {
      "cell_type": "markdown",
      "metadata": {
        "id": "2ItKm0hDMujq"
      },
      "source": [
        "## BERT Fine-tuning"
      ]
    },
    {
      "cell_type": "markdown",
      "metadata": {
        "id": "HIkcURDhz2R0"
      },
      "source": [
        "### Load pretrained BERT Model"
      ]
    },
    {
      "cell_type": "code",
      "execution_count": 12,
      "metadata": {
        "id": "w6skrhdVzW0b"
      },
      "outputs": [],
      "source": [
        "# Load BERT model and tokenizer\n",
        "bert = AutoModel.from_pretrained('bert-base-uncased')\n",
        "tokenizer = BertTokenizerFast.from_pretrained('bert-base-uncased')"
      ]
    },
    {
      "cell_type": "markdown",
      "metadata": {
        "id": "H1G4xtl7dXBD"
      },
      "source": [
        "### Prepare Input Data"
      ]
    },
    {
      "cell_type": "code",
      "execution_count": 13,
      "metadata": {
        "colab": {
          "base_uri": "https://localhost:8080/",
          "height": 541
        },
        "id": "FDZx-O2xzcA_",
        "outputId": "18c168ec-07a8-48fc-eb80-fe3e5a22a252"
      },
      "outputs": [
        {
          "output_type": "stream",
          "name": "stdout",
          "text": [
            "Median: 215.0\n",
            "Mode: 193\n",
            "Mean: 237.77764083230625\n",
            "Minimum: 4\n"
          ]
        },
        {
          "output_type": "display_data",
          "data": {
            "text/plain": [
              "<Figure size 640x480 with 1 Axes>"
            ],
            "image/png": "[encoded data removed]"
          },
          "metadata": {}
        }
      ],
      "source": [
        "import pandas as pd\n",
        "import matplotlib.pyplot as plt\n",
        "import numpy as np\n",
        "from scipy import stats\n",
        "\n",
        "# Calculate the number of words in each title\n",
        "seq_len = [len(title.split()) for title in train_text]\n",
        "\n",
        "plt.hist(seq_len, bins=40, color='navy')\n",
        "\n",
        "plt.xlabel('Number of Words')\n",
        "plt.ylabel('Number of Texts')\n",
        "plt.title('Histogram of Number of Words in Train Data Titles')\n",
        "\n",
        "# Calculate the median\n",
        "median_value = np.median(seq_len)\n",
        "print(\"Median:\", median_value)\n",
        "\n",
        "# Calculate the mode\n",
        "mode_value = stats.mode(seq_len)\n",
        "print(\"Mode:\", mode_value.mode[0])\n",
        "\n",
        "# Calculate the mean\n",
        "mean_value = np.mean(seq_len)\n",
        "print(\"Mean:\", mean_value)\n",
        "\n",
        "# Calculate the minimum\n",
        "minimum_value = np.min(seq_len)\n",
        "print(\"Minimum:\", minimum_value)\n",
        "# Show the plot\n",
        "plt.show()\n"
      ]
    },
    {
      "cell_type": "code",
      "execution_count": 14,
      "metadata": {
        "id": "rfwINnZozkyd"
      },
      "outputs": [],
      "source": [
        "# Set max title length\n",
        "MAX_LENGTH = 15\n",
        "tokens_train = tokenizer.batch_encode_plus(\n",
        "    train_text.tolist(),\n",
        "    max_length = MAX_LENGTH,\n",
        "    pad_to_max_length=True,\n",
        "    truncation=True\n",
        ")\n",
        "tokens_val = tokenizer.batch_encode_plus(\n",
        "    val_text.tolist(),\n",
        "    max_length = MAX_LENGTH,\n",
        "    pad_to_max_length=True,\n",
        "    truncation=True\n",
        ")\n",
        "tokens_test = tokenizer.batch_encode_plus(\n",
        "    test_text.tolist(),\n",
        "    max_length = MAX_LENGTH,\n",
        "    pad_to_max_length=True,\n",
        "    truncation=True\n",
        ")"
      ]
    },
    {
      "cell_type": "code",
      "execution_count": 15,
      "metadata": {
        "id": "jE9PI9_H0Moi"
      },
      "outputs": [],
      "source": [
        "train_seq = torch.tensor(tokens_train['input_ids'])\n",
        "train_mask = torch.tensor(tokens_train['attention_mask'])\n",
        "train_y = torch.tensor(train_labels.tolist())\n",
        "\n",
        "val_seq = torch.tensor(tokens_val['input_ids'])\n",
        "val_mask = torch.tensor(tokens_val['attention_mask'])\n",
        "val_y = torch.tensor(val_labels.tolist())\n",
        "\n",
        "test_seq = torch.tensor(tokens_test['input_ids'])\n",
        "test_mask = torch.tensor(tokens_test['attention_mask'])\n",
        "test_y = torch.tensor(test_labels.tolist())"
      ]
    },
    {
      "cell_type": "code",
      "execution_count": 16,
      "metadata": {
        "id": "Oft-16jR0M6h"
      },
      "outputs": [],
      "source": [
        "from torch.utils.data import TensorDataset, DataLoader, RandomSampler, SequentialSampler\n",
        "batch_size = 32\n",
        "\n",
        "train_data = TensorDataset(train_seq, train_mask, train_y)\n",
        "train_sampler = RandomSampler(train_data)\n",
        "train_dataloader = DataLoader(train_data, sampler=train_sampler, batch_size=batch_size)\n",
        "\n",
        "val_data = TensorDataset(val_seq, val_mask, val_y)\n",
        "val_sampler = SequentialSampler(val_data)\n",
        "val_dataloader = DataLoader(val_data, sampler = val_sampler, batch_size=batch_size)\n",
        "\n",
        "test_data = TensorDataset(test_seq, test_mask, test_y)\n",
        "test_sampler = SequentialSampler(val_data)\n",
        "test_dataloader = DataLoader(test_data, sampler = test_sampler, batch_size=batch_size)\n"
      ]
    },
    {
      "cell_type": "code",
      "execution_count": 17,
      "metadata": {
        "id": "dH-wI1yhzQkD"
      },
      "outputs": [],
      "source": [
        "# Freeze the parameters of the pre-trained BERT model\n",
        "for param in bert.parameters():\n",
        "    param.requires_grad = False"
      ]
    },
    {
      "cell_type": "markdown",
      "metadata": {
        "id": "XAJPyGH4zaRZ"
      },
      "source": [
        "### Define Model Architecture"
      ]
    },
    {
      "cell_type": "markdown",
      "metadata": {
        "id": "LGFpP494zgLh"
      },
      "source": [
        "### Define Train & Evaluate Function"
      ]
    },
    {
      "cell_type": "code",
      "execution_count": 18,
      "metadata": {
        "id": "5oC6f5jD0vm0"
      },
      "outputs": [],
      "source": [
        "DROPOUT = .10\n",
        "\n",
        "# https://arxiv.org/pdf/1910.03474v1.pdf\n",
        "# idea - benchmark with no fine-tuning\n",
        "\n",
        "class BERT_Arch_PlusTwoLL(nn.Module):\n",
        "    def __init__(self, bert):\n",
        "      super(BERT_Arch_PlusTwoLL, self).__init__()\n",
        "      self.bert = bert\n",
        "      #self.dropout = nn.Dropout(DROPOUT)\n",
        "      self.relu =  nn.ReLU()\n",
        "      self.fc1 = nn.Linear(768,512)\n",
        "      self.fc2 = nn.Linear(512,2)\n",
        "    def forward(self, sent_id, mask):\n",
        "      cls_hs = self.bert(sent_id, attention_mask=mask)['pooler_output'].to(device)\n",
        "\n",
        "      x = self.fc1(cls_hs).to(device)\n",
        "      x = self.relu(x).to(device)\n",
        "      #x = self.dropout(x).to(device)\n",
        "      x = self.fc2(x).to(device)\n",
        "      return x\n",
        "\n",
        "class BERT_ArchPlusOneLLB(nn.Module):\n",
        "    def __init__(self, bert):\n",
        "      super(BERT_ArchPlusOneLLB, self).__init__()\n",
        "      self.bert = bert\n",
        "      self.relu =  nn.ReLU()\n",
        "      self.fc1 = nn.Linear(768,2)\n",
        "      self.softmax = nn.LogSoftmax(dim=1)\n",
        "    def forward(self, sent_id, mask):\n",
        "      cls_hs = self.bert(sent_id, attention_mask=mask)['pooler_output']\n",
        "      x = self.fc1(cls_hs)\n",
        "      x = self.relu(x)\n",
        "      x = self.softmax(x)\n",
        "      return x\n",
        "\n",
        "class BERT_ArchPlusOneLLC(nn.Module):\n",
        "    def __init__(self, bert):\n",
        "      super(BERT_ArchPlusOneLLC, self).__init__()\n",
        "      self.bert = bert\n",
        "      self.softmax = nn.LogSoftmax(dim=1)\n",
        "      self.fc1 = nn.Linear(768,2)\n",
        "\n",
        "    def forward(self, sent_id, mask):\n",
        "      cls_hs = self.bert(sent_id, attention_mask=mask)['pooler_output']\n",
        "      x = self.fc1(cls_hs)\n",
        "      x = self.softmax(x)\n",
        "      return x\n",
        "\n",
        "\n",
        "class BERT_ArchPlusOneLLD(nn.Module): #https://paperswithcode.com/paper/improving-results-on-russian-sentiment\n",
        "    def __init__(self, bert):\n",
        "      super(BERT_ArchPlusOneLLD, self).__init__()\n",
        "      self.bert = bert\n",
        "      self.dropout = nn.Dropout(DROPOUT)\n",
        "      self.fc1 = nn.Linear(768,2)\n",
        "\n",
        "    def forward(self, sent_id, mask):\n",
        "      cls_hs = self.bert(sent_id, attention_mask=mask)['pooler_output']\n",
        "      x = self.dropout(cls_hs)\n",
        "      x = self.fc1(cls_hs)\n",
        "      return x\n",
        "\n",
        "class BERT_ArchPlusThreeLL(nn.Module):\n",
        "    def __init__(self, bert):\n",
        "      super(BERT_ArchPlusThreeLL, self).__init__()\n",
        "      self.bert = bert\n",
        "      self.dropout = nn.Dropout(DROPOUT)\n",
        "      self.relu =  nn.ReLU()\n",
        "      self.fc1 = nn.Linear(768,512)\n",
        "      self.fc2 = nn.Linear(512,256)\n",
        "      self.fc3 = nn.Linear(256,2)\n",
        "      self.softmax = nn.LogSoftmax(dim=1)\n",
        "    def forward(self, sent_id, mask):\n",
        "      cls_hs = self.bert(sent_id, attention_mask=mask)['pooler_output'].to(device)\n",
        "      x = self.fc1(cls_hs).to(device)\n",
        "      x = self.relu(x).to(device)\n",
        "      x = self.fc2(x).to(device)\n",
        "      x = self.relu(x).to(device)\n",
        "      x = self.fc3(x).to(device)\n",
        "      x = self.relu(x).to(device)\n",
        "      return x\n",
        "\n",
        "\n",
        "class BERT_ArchPlusOneLL(nn.Module):\n",
        "    def __init__(self, bert):\n",
        "      super(BERT_ArchPlusOneLL, self).__init__()\n",
        "      self.bert = bert\n",
        "      self.fc1 = nn.Linear(768,2)\n",
        "\n",
        "    def forward(self, sent_id, mask):\n",
        "      cls_hs = self.bert(sent_id, attention_mask=mask)['pooler_output'].to(device)\n",
        "      x = self.fc1(cls_hs).to(device)\n",
        "      return x\n",
        "\n",
        "class BERT_ArchPlusOneLLNotFrozen(nn.Module):\n",
        "    def __init__(self, bert):\n",
        "      super(BERT_ArchPlusOneLLNotFrozen, self).__init__()\n",
        "      self.bert = bert\n",
        "      self.dropout = nn.Dropout(DROPOUT)\n",
        "      self.fc1 = nn.Linear(768,2)\n",
        "\n",
        "    def forward(self, sent_id, mask):\n",
        "      cls_hs = self.bert(sent_id, attention_mask=mask)['pooler_output'].to(device)\n",
        "      x = self.dropout(cls_hs).to(device)\n",
        "      x = self.fc1(x).to(device)\n",
        "      return x\n",
        "\n",
        "class BERT_Arch_PlusTwoLLNotFrozen(nn.Module):\n",
        "    def __init__(self, bert):\n",
        "      super(BERT_Arch_PlusTwoLLNotFrozen, self).__init__()\n",
        "      self.bert = bert\n",
        "      self.dropout = nn.Dropout(DROPOUT)\n",
        "      self.relu =  nn.ReLU()\n",
        "      self.fc1 = nn.Linear(768,512)\n",
        "      self.fc2 = nn.Linear(512,2)\n",
        "    def forward(self, sent_id, mask):\n",
        "      cls_hs = self.bert(sent_id, attention_mask=mask)['pooler_output'].to(device)\n",
        "      x = self.dropout(cls_hs).to(device)\n",
        "      x = self.fc1(cls_hs).to(device)\n",
        "      x = self.relu(x).to(device)\n",
        "      x = self.dropout(x).to(device)\n",
        "      x = self.fc2(x).to(device)\n",
        "      return x\n",
        "\n",
        "model = BERT_Arch_PlusTwoLL(bert).to(device)\n",
        "from transformers import AdamW\n",
        "lr =1e-5\n",
        "weight_decay = 1e-3\n",
        "optimizer = AdamW(model.parameters(),\n",
        "                  lr = lr, weight_decay=weight_decay)\n",
        "cross_entropy  = nn.CrossEntropyLoss()\n",
        "epochs = 40"
      ]
    },
    {
      "cell_type": "code",
      "execution_count": 19,
      "metadata": {
        "id": "BEG81NvL1Rt9"
      },
      "outputs": [],
      "source": [
        "def train():\n",
        "  model.train()\n",
        "  total_loss, total_accuracy = 0, 0\n",
        "\n",
        "  for step,batch in enumerate(train_dataloader):\n",
        "    if step % 50 == 0 and not step == 0:\n",
        "      print('  Batch {:>5,}  of  {:>5,}.'.format(step, len(train_dataloader)))\n",
        "    batch = [r for r in batch]\n",
        "    sent_id, mask, labels = batch\n",
        "    sent_id = sent_id.to(device)\n",
        "    mask = mask.to(device)\n",
        "    labels = labels.to(device)\n",
        "    model.zero_grad()\n",
        "    preds = model(sent_id, mask)\n",
        "    loss = cross_entropy(preds, labels)\n",
        "    total_loss = total_loss + loss.item()\n",
        "    loss.backward()\n",
        "    torch.nn.utils.clip_grad_norm_(model.parameters(), 1.0)\n",
        "    optimizer.step()\n",
        "    preds=preds.detach().cpu().numpy()\n",
        "\n",
        "  avg_loss = total_loss / len(train_dataloader)\n",
        "\n",
        "  return total_loss, avg_loss\n",
        "\n",
        "def evaluate(dataloader):\n",
        "  print(\"\\nEvaluating...\")\n",
        "  model.eval()\n",
        "  total_loss, total_accuracy = 0, 0\n",
        "  for step,batch in enumerate(dataloader):\n",
        "    if step % 50 == 0 and not step == 0:\n",
        "\n",
        "\n",
        "      print('  Batch {:>5,}  of  {:>5,}.'.format(step, len(dataloader)))\n",
        "\n",
        "    batch = [t for t in batch]\n",
        "    sent_id, mask, labels = batch\n",
        "    sent_id = sent_id.to(device)\n",
        "    mask = mask.to(device)\n",
        "    labels = labels.to(device)\n",
        "    with torch.no_grad():\n",
        "      preds = model(sent_id, mask)\n",
        "      loss = cross_entropy(preds,labels)\n",
        "      total_loss = total_loss + loss.item()\n",
        "      preds = preds.detach().cpu().numpy()\n",
        "  avg_loss = total_loss / len(dataloader)\n",
        "  return total_loss, avg_loss"
      ]
    },
    {
      "cell_type": "markdown",
      "metadata": {
        "id": "IARpecoUzloO"
      },
      "source": [
        "### Model training"
      ]
    },
    {
      "cell_type": "code",
      "execution_count": 20,
      "metadata": {
        "id": "6smSMAmzEd2h"
      },
      "outputs": [],
      "source": [
        "def find_accuracy(model, dataloader, device, batch_size):\n",
        "    # Set the model to eval mode to avoid weights update\n",
        "    model.eval()\n",
        "    correct_pred = 0\n",
        "    with torch.no_grad():\n",
        "        # Get the progress bar\n",
        "        progress_bar = tqdm_notebook(dataloader, ascii=True)\n",
        "        for batch_idx, data in enumerate(progress_bar):\n",
        "            #print(f\"Batch {batch_idx} is evaluating\")\n",
        "            source = data[0].to(device)\n",
        "            mask = data[1].to(device)\n",
        "            target = data[2].unsqueeze(1).to(device)\n",
        "            translation = model(source, mask)\n",
        "            #translation = translation.mean(1)\n",
        "\n",
        "            preds = torch.argmax(translation, axis = 1)\n",
        "            target = target.float()\n",
        "            #if batch_idx % 50 == 0:\n",
        "            #    print(target.T)\n",
        "            #    print(preds)\n",
        "            correct_items = ((preds == target.T).int()).sum().item()\n",
        "            #print(correct_items)\n",
        "            #print(f\"cool, in this batch we got {correct_items} correct.\")\n",
        "            correct_pred += correct_items\n",
        "            progress_bar.set_description_str(\n",
        "                \"Batch: %d, Correct items: %.4f\" % ((batch_idx + 1), correct_items))\n",
        "    #print(f\"Calculating accuracy: {correct_pred} / {len(dataloader)} * {batch_size}\")\n",
        "    accuracy = correct_pred / (len(dataloader)*batch_size)\n",
        "    return accuracy"
      ]
    },
    {
      "cell_type": "code",
      "execution_count": 20,
      "metadata": {
        "id": "9SNORTpOzFFl"
      },
      "outputs": [],
      "source": []
    },
    {
      "cell_type": "code",
      "execution_count": null,
      "metadata": {
        "id": "uSN0ZPiW1d-e",
        "colab": {
          "base_uri": "https://localhost:8080/",
          "height": 1000,
          "referenced_widgets": [
            "c82184af86e94e849a56bd28d0ac65a6",
            "30f7fe30330d460db5f367528792c091",
            "937b6671984546dcb4d66af6bc068c1d",
            "bbc0477ec1b046e2bfd71ed1d75a5040",
            "5feaebc567ef408cadc9b2e8bbdf6aca",
            "cad97118106544999147d4cfff328a88",
            "7565c51217ea4a15a0e912a7f5d73e2c",
            "6ae81c63898744a5b74ade063ee1cb4d",
            "7f4a3b0009534ed1a745c9e6976c3083",
            "1956c58505aa461f994e1ec84b707058",
            "1681b0aa820f46b792eb3bbf7c6b3eb4",
            "f80c7688f650473b8441c68856d2dfa5",
            "a06d27814ef44907b3c0c87baddd4c17",
            "b398bbe9bfd848d3a4dafcc1393966cd",
            "87099d06da60413080cdcc60ca020e43",
            "1f11aa222e274ed9bd3e52fdd78a17b5",
            "7d76fac1ca114d6588bbea411931a7fb",
            "4aa071bd624f439f9c1024ba81f04909",
            "bd64e2cbc2cb453c912999a4ff7f89f8",
            "0c51f0dd16514ec8af23361dc4eb705c",
            "345c728270e64454a26ea434ed87a9c7",
            "39036fa1e46c4ce28724dbd000c0af8d",
            "63fbc867dfbd46cdacd690c870f6a3a5",
            "fc83041602aa4a049b5744c5cd8f19ce",
            "ea95e729c8ae43b092b0fa727b49cb38",
            "ced30dee5ad94827afdfcbdcdc215904",
            "1436beaeef2d480393718aa2412f7c5d",
            "0ee704f3d7864959b30df6758bd856b7",
            "8a9ba73c7648479d89e59813375a2be8",
            "e84d1be868804f1a8e7aee35c4cfa395",
            "42b2d21d271a499b858105b682695c8b",
            "c256db7811c64d4d831dafc29122888a",
            "58b3a7308e444773b5d5d8eaf99e2136",
            "515cd12c67c04eae853313edf1253da9",
            "0e2ba2534c304dc8b112bc185f1dab6e",
            "1a590f5d3ddd4979a2409952eb3b37f0",
            "5c4d7979e77e42e2b0a807345538c88c",
            "f4fcdd987066498d8de69d782ac28bb9",
            "6293bf47cdda488386e291b9dd8c2dea",
            "929994e43b654b3e90d76699460d5340",
            "2c8216e611084cce8cfa1187d7de6343",
            "87c7de939c1645c988fd0e54a6c5fc46",
            "6f6d10175a7445d0ab1563432679073e",
            "220663fe1f874209bb9a73d4f43eff61",
            "dfe6cf5949ea46a1b1e1b0832f773b96",
            "6a790ff267ad4af4ac8681e661b015d9",
            "f4a5a81fca8340208db4fd4fc2d4def7",
            "150de948116d46658d42764b75179d49",
            "dfd992d77b01473ca84021a73a467de7",
            "b953dd982eac4083951de6ba35c93e46",
            "390c2a91574144a4ba2b9cb06bf3055b",
            "b761b133a2b94b02b5e8c33c5d0de9ef",
            "7e863c9b5cda451da6aac9e40ab7e4ce",
            "ebbf2a529d4148a9b9c21f8ad3341224",
            "064ee940636840519a5094a3d4cfccb7",
            "af4f567d01684db4952d0ba3fe6b99e3",
            "3f1df30e4fe741a18e1b4d6912dbf5b7",
            "14897a4c0ee44f4bb38501685a9b6605",
            "77e089ff5dad42da943f956ede108edb",
            "eb879bbff7b643d0857bee4c3487f894",
            "3f74ce9bed114e4b8d49d590e39c0a0e",
            "3b7de3c4d9d34701b772ac4488beb672",
            "e113c446241b48c488eb4854c4f99629",
            "5a26ca283d2c456c98ebb796e955bef3",
            "4798001b97964cce96e32fda57fd965f",
            "96d4aea7ce834f919442387496ba8644",
            "5e1b00311c654d6f99181cf6c00d070c",
            "fe34bd8c18f045afa216c7c4ab073463",
            "c11f093f08da4bde982f6cc0bc70f696",
            "93c2fe160f4d45cf956b9dc12f114e34",
            "d3c86728ec374184a55d0e496d023ec0",
            "1fce785255d54230a2a4e402069381be",
            "72b3d18f34144b3d838480578a8dce5d",
            "238e6f8d0ba242f2be39d15a822273a4",
            "3815f9829b484183bf557168a3fb552a",
            "6dafab1891944537a19bb577fec2e721",
            "4bf423d3dca3463e9f53fe6b8b4e5c46",
            "01579e5920f647048e77259f41969f7c",
            "b345c0e2de4d47b186083e9fb5ab9620",
            "7e82bd04da4744ae99f03ffe5a9e3350",
            "742907575b794cfc9ade0742469df9c5",
            "80964bd09a3c4336bbbd9662cc3aa2f7",
            "0020333082a2449ea4d37884ccec0695",
            "9c006c0797654ab08ad3949dd83edab7",
            "493b204857a9486e9763f3d05e3a8699",
            "20a61b70cbee4b22b0ecc79a784e9f5a",
            "c8caf6ce6b5b42dfa151e7882ee8e92b",
            "38e84c364f6d45b6a6d6441160b56d57",
            "f83b22a7931d4f928843638dc172100a",
            "91d7332281d3491a8fee382b3118ce42",
            "e39b4f352db64fa0958f5b41afd4e4ea",
            "707eab2b681a4d4f9a122d43f6c52a9b",
            "86a3595f6673414f842e592340b002e5",
            "9f33786569d1468d974807fb65ce17db",
            "7bcbd44acd78492aaa07706bb7460a25",
            "d2883e7af5c7497399b40349ffe16fac",
            "b82d1fb1ac554954bba91cdf92cf015f",
            "11e41df9b7fd4838bcd2edd5dae0fafb",
            "5b1d3ab5f62c423e908ecd362da3bf68",
            "f817de7866794830b0c9d016da99a61a",
            "a4deb6d444cc4c66a823a86d5cc5db6f",
            "8f6390da6b534f07b1f17e248fd6c570",
            "d6442827570544a9bd01dfd175f27d5c",
            "00d3d3f560bc48b2941c69bf8dcbf1fc",
            "2f0a395fd5b24835939f7c4a27a4afa4",
            "00cd8919eb704c40bca9e721aba563a6",
            "8fe4f5134a114161b6601eee9d5309e2",
            "662f5589852b4622ad76bde97128fdc7",
            "215d858504564ee2adf40c237aa7c35a",
            "333628158102429bbce9b036aedefbf9",
            "20c686f98cfd43a69f72db5610614558",
            "d760011b3e1e4c39aed07844b1856482",
            "d8abf70993804f0eb79ecc9dbb90747a",
            "53b92feaf57b4954911bbd8fde2b785c",
            "c5edb27216a148e4b0966d2eea8db11a",
            "08d14aa383c34049957e11af75f11c6c",
            "2f62f5280ba14d2ba6d045186bf23b6b",
            "ed28ca1c36914941b26eedb539ebc15a",
            "9dbd5c5a69b346c48f785f8b4df64bbe",
            "d095f2bf3fdd406b8ef4d3e132fa419e",
            "bed83113487446b689a85d3614c29b02",
            "6c800c55262c420e9dc3fb17577257be",
            "84632ed32e2a411a94041e3a3c3f968d",
            "4f803c3b866c4273945a696c64aa6f54",
            "f98e5194a7834f2487a86b6244188c39",
            "8105ae83e0984e619a9eae63cfa389bc",
            "2deaad4f89f946ac8b9346722144b1d4",
            "b4ee7744ea5944fba44208e337d25e75",
            "1ba4c4a6f4f34899875f0dedf57d9894",
            "73270f9c4fad4b7b9dc83cc0557ebdb5",
            "a0dc40ec1e794ba5a8dd99fec208f388",
            "becead3262884d0ea2f6faddc904c3c5",
            "2a76933cb7044a4ba10f76c05f2e3bab",
            "8df56044b1144b2da122b2cdf3791a47",
            "fe486fd9b1084541862e606f446ec8f3",
            "91519a55951248839d70678f37f338eb",
            "2ede155f24554ddcb7acc1a645d76769",
            "9eacc4d80f4b469199b4c8e5387d23e9",
            "ce02fab2f25f4d69a88a7b865d19b12b",
            "b875ed3c7b174124815d456f45885c5a",
            "5c8c73de7d0546f2a07a6b5a0a801b4d",
            "b4a0eb63c9de498d831de83531642127",
            "f47b4eeee8504849ae05b3210f5060a1",
            "7be5b2b780ca4be8967ce593fac7ff8c",
            "8889b9a342274c22adc8d527c9fd8ce5",
            "debf993857764c389cc501396c0c7f85",
            "ff1a80a1150a46cc89681ec2b376d23a",
            "aa868756fb0d4dc6983d87a67ef4c88a",
            "741b1b1143ad4534aa905d4776ebe81d",
            "1f456e963483464b9c424fc140c61a67",
            "fd030f139995493e9c2132ee00feb83e",
            "dceb1c46f88c498cad68d1e34460a4ab",
            "cd0bbeeaa98e443b906e0862d99de637",
            "9990a5a6b3a44b33be1b97b4789ecceb",
            "631ef253802f434c9c02682705b34e2b",
            "0acc4e2a8e984e3ca76fb31f7222f399",
            "7142e7fd1d7f4ac6b015a881edf5e299",
            "9b3f97ae9d3348c58245f391f6ebcda1",
            "fb20c97f943a41659560c752748eb407",
            "af83e17d72534214a594508654ebd9f5",
            "67a93fa66c584ee6b50bbb190f6b8623",
            "26e6008f5d6942948ddc15a54fb15c19",
            "469fcbf71cb44dbc8431c1fb6a7ad0aa",
            "9d9263cddf794c7abbb3d6f11fe31cd2",
            "260d6b34c46a4ae1bf89047f513e49dc",
            "9bfb53ac59ac49f5925928e02bfde214",
            "28b7570294fc48dba419dca177e4f418",
            "e7a4ccb08ad746bab0ad2fbd211130ff",
            "fcf844bb6e0a4010928b078a19eb74b0",
            "1fb369254255430cb198b360ddda351c",
            "095a3b9987574a3ab4b1a6ec0c0ce7e3",
            "c92d2c24f94541c293ef4b80215d4dcc",
            "e460051c02e64f64a550e116a15cc8df",
            "f8953058ac764a1f85f2fe2d4da0d157",
            "75a5cba594f84b8aa62be3bc2cb53902",
            "b135e958ec8548f3a45554fd8f0a94b6",
            "4dea8200df2d471b8c83aaebc2cf63e5",
            "5c823b9779d848f08acf5e6981518971",
            "99a5de865333475e9aef975326aa9c98",
            "25eb6a3eba5949b3aa056f681db322ed",
            "e637ad5d4ef143928deec50be12ed7fe",
            "3e0081d857e649cdba2114be43f130e1",
            "95472c43a2df47719a6ddc9dacbd1d4b",
            "51bfe9df2a5047e397b8c3bf3118980c",
            "fb717ab359704cbda1b09bd34e2443c1",
            "7920c6e7a86c477886a3405aa6cbb48b",
            "a8e12b519aff4de6b8cdf89d5952b4dd",
            "8c5e5e9fe23e4d4c99f3ba8deac278f0",
            "9e4c78b40d014a639ff9aaff585a4b38",
            "7d0a07cf3881465b905c7277298c8f3b",
            "d67dec80c7f649edbecbf4f78b5521bd",
            "1e294fea229541069a079d4a818cf9f5",
            "37be5bce137e46fca992e0f021f9bfef",
            "efcba663fa9c472382baadf59bade547",
            "380b1b478574465c9052b1be0273e89c",
            "865a6cd5c0b34622a4852b42b693083b",
            "718c052c399e405085da86d00a73b04a",
            "32548fd2b28543168b1c0ea406548cb5",
            "17ea942ca31b4dfa8d7f4948fa311c14",
            "3711aae1a2614432a78b8cfe4dd38ad1",
            "8e94511bab4447aca415116ba8efd802",
            "4ac7b858799e414bb907d97516a6b78d",
            "a089e6d3a1af4a25af560425ac4a6be0",
            "e2ce192809814e4ba287de29506fd8fd",
            "c4a189d9ecff49e7ba52ba093ec2a5c2",
            "983dcea5f3814a39b705232b0d3da303",
            "7626615eda114a5fac91e1af8d5d3af3",
            "d50c83e66638453a828b4be71e9dcabc",
            "bf5cf91ecff64015ae188b1fd5c170b3",
            "27e1c22e235b4f5da2644ab6eceab112",
            "ac21ccc04b1a4d4190a58282246e3bc0",
            "0d92761780b3430e92ae8724d1a54d88",
            "889238551c254a25a0b11115dd1ad9a5",
            "eb9d5187176d4226af444e053b0ce39f",
            "fc1cf8fa7fe9490b876105212d04f2ca",
            "080619d8eb044f0abe984176ff76380f",
            "c5f1642f1dbc4139ae815afbf685c55e",
            "884e9dbf37ff49fc96665f73353d988e",
            "67958854f83d419ba6b0c6a72b9cb82c",
            "79ee77d67a314e3bafe727c66c00e89f",
            "f5a2d5e8297a4fc8b11a1db630cdfe98",
            "8d14cd4616ac4901a95a3d8f12d71a3e",
            "1c3af5bb96474dc39d57d23c9b1dca5b",
            "0bdb9943594b45e6b22baf5c9ae00355",
            "d95f4d1e53234211801d594f71277eb1",
            "6968c62059ad4ce986322fac9f768fcf",
            "ab22aa9e65f34b16bc0a34e7e84d1eb3",
            "a13d5e8a21554daf9647efd22a5ea127",
            "bc65f0bfdc7f46a9b47b19873dec6bc9",
            "a110f9aa79734b0d9a039ac72011feb4",
            "dec49946ca2e415385092119478256dd",
            "aed9072811f3460ca854f8a6cabbfdfa",
            "4100fd72401940b4acc3544948017cdd",
            "3859f7b00c514f928bfe38c0ed564a26",
            "a9d66c21f72c4374b4b7fc8e1f19940a",
            "a1c9adb9c7054c8fbc763dcdb9590e35",
            "7d2ef7f0e7e449c68e444b8dde47252e",
            "97bf03b9e8054157b52b53dbb6bc2e0a",
            "6b1174384b794254a7994a1ae39f62d9",
            "630d8384f0c3414da33972150461158f",
            "aad321cab8a5411ba264358b049a3cbe",
            "d4ac114e2122451cbfa512035f67cfba",
            "9bce6e555cf24d5fb52a906b7529ec58",
            "a6a724f5f7fd467b860412ec7496df75",
            "f937023709434655961e76058f9cd570",
            "0f4f3bf682214beeb9247f68c877211e",
            "a8925dd5ddf5481b8987ab1259c75c0d",
            "7660d8f8fab240a5b4f652afeea5e8fb",
            "7353ce707194414291ddbf8fa9a1bfd9",
            "7425ba24de614c6a85b520dcce21e074",
            "2597e9236dcc4da3880b023d68e56a49",
            "435242d31ca24a1f9a5e2245002846c4",
            "0ab8c40b836343068385606564934a24",
            "600a232eb6594d5b801f5ff9b54a2986",
            "6da995e96e364f3f878d9916e0f86f10",
            "f31f10e5c9b24540b13f70d9a1aa44c7",
            "04356ab1286a4addad97857daa375861",
            "4d42c72bb5a14266adb54a94127760f1",
            "a6e227097f254db596d137c340ed7013",
            "6b61b354c9c440a599edd10b676b015a",
            "b3ad67811a984c3399c2578b11f1d33e",
            "a78bf077f186457598d19b096530dcb7",
            "7b4b859454c744dfa20c4a9ebfcc73f6",
            "2654a177ab5643069acf4aea9c665c15",
            "3a3c7b559d274695879ef649b37f3750",
            "220d2c49c2d04f0b8d10897fac903890",
            "ffffc67cae7f4ca8acac4b5bfcc7a345",
            "dbf6dee65a874c50816372307b9bbe1d",
            "fbc4f94d13f64b5bbe068b103e3c5f96",
            "8de27e4f2a654b689f50335543bee59d",
            "733b8b5202b84951b2f47b3a74e8bb5a",
            "1d863f5179c741f6875bab8a0780a762",
            "8224189038d849c6bea9fa41d4c28f31",
            "5a65919062f249d4b5cefbff2ad85f26",
            "9fc46c5c71a34dd282e46471ed72d977",
            "c70f948eebb34a7591278ab99cf43beb",
            "f1c902942da74bafbfd1c25fc80b79d6",
            "e3918a58eced44f6bcf2f2d539fb1d4f",
            "4ea541accd4b447c908753905990541b",
            "1767ff92b2ee4a098a3999a6ec21d21b",
            "39276dcb93b841989fe8a305f1b4f022",
            "2c63b470f9264e969d9fd7e33b2135db"
          ]
        },
        "outputId": "f0ea98a6-32dd-4b9f-c0e2-f5a5c0eab3e6"
      },
      "outputs": [
        {
          "metadata": {
            "tags": null
          },
          "name": "stdout",
          "output_type": "stream",
          "text": [
            "\n",
            " Epoch 1 / 40\n",
            "  Batch    50  of    863.\n",
            "  Batch   100  of    863.\n",
            "  Batch   150  of    863.\n",
            "  Batch   200  of    863.\n",
            "  Batch   250  of    863.\n",
            "  Batch   300  of    863.\n",
            "  Batch   350  of    863.\n",
            "  Batch   400  of    863.\n",
            "  Batch   450  of    863.\n",
            "  Batch   500  of    863.\n",
            "  Batch   550  of    863.\n",
            "  Batch   600  of    863.\n",
            "  Batch   650  of    863.\n",
            "  Batch   700  of    863.\n",
            "  Batch   750  of    863.\n",
            "  Batch   800  of    863.\n",
            "  Batch   850  of    863.\n",
            "\n",
            "Evaluating...\n",
            "  Batch    50  of    185.\n",
            "  Batch   100  of    185.\n",
            "  Batch   150  of    185.\n",
            "\n",
            "Evaluating...\n",
            "  Batch    50  of    185.\n",
            "  Batch   100  of    185.\n",
            "  Batch   150  of    185.\n",
            "Saving model.\n"
          ]
        },
        {
          "data": {
            "application/vnd.jupyter.widget-view+json": {
              "model_id": "c82184af86e94e849a56bd28d0ac65a6",
              "version_major": 2,
              "version_minor": 0
            },
            "text/plain": [
              "  0%|          | 0/863 [00:00<?, ?it/s]"
            ]
          },
          "metadata": {},
          "output_type": "display_data"
        },
        {
          "data": {
            "application/vnd.jupyter.widget-view+json": {
              "model_id": "f80c7688f650473b8441c68856d2dfa5",
              "version_major": 2,
              "version_minor": 0
            },
            "text/plain": [
              "  0%|          | 0/185 [00:00<?, ?it/s]"
            ]
          },
          "metadata": {},
          "output_type": "display_data"
        },
        {
          "data": {
            "application/vnd.jupyter.widget-view+json": {
              "model_id": "63fbc867dfbd46cdacd690c870f6a3a5",
              "version_major": 2,
              "version_minor": 0
            },
            "text/plain": [
              "  0%|          | 0/185 [00:00<?, ?it/s]"
            ]
          },
          "metadata": {},
          "output_type": "display_data"
        },
        {
          "metadata": {
            "tags": null
          },
          "name": "stdout",
          "output_type": "stream",
          "text": [
            "\n",
            "Training Loss: 525.130\n",
            "\n",
            "Test Loss: 93.066\n",
            "Validation Loss: 93.091\n",
            "Training Perplexity: 1.838\n",
            "Test Perplexity: 1.654\n",
            "Validation Perplexity: 1.654\n",
            "Training Accuracy: 0.892\n",
            "Test Accuracy: 0.898\n",
            "Validation Accuracy: 0.899\n",
            "\n",
            " Epoch 2 / 40\n",
            "  Batch    50  of    863.\n",
            "  Batch   100  of    863.\n",
            "  Batch   150  of    863.\n",
            "  Batch   200  of    863.\n",
            "  Batch   250  of    863.\n",
            "  Batch   300  of    863.\n",
            "  Batch   350  of    863.\n",
            "  Batch   400  of    863.\n",
            "  Batch   450  of    863.\n",
            "  Batch   500  of    863.\n",
            "  Batch   550  of    863.\n",
            "  Batch   600  of    863.\n",
            "  Batch   650  of    863.\n",
            "  Batch   700  of    863.\n",
            "  Batch   750  of    863.\n",
            "  Batch   800  of    863.\n",
            "  Batch   850  of    863.\n",
            "\n",
            "Evaluating...\n",
            "  Batch    50  of    185.\n",
            "  Batch   100  of    185.\n",
            "  Batch   150  of    185.\n",
            "\n",
            "Evaluating...\n",
            "  Batch    50  of    185.\n",
            "  Batch   100  of    185.\n",
            "  Batch   150  of    185.\n",
            "Saving model.\n"
          ]
        },
        {
          "data": {
            "application/vnd.jupyter.widget-view+json": {
              "model_id": "515cd12c67c04eae853313edf1253da9",
              "version_major": 2,
              "version_minor": 0
            },
            "text/plain": [
              "  0%|          | 0/863 [00:00<?, ?it/s]"
            ]
          },
          "metadata": {},
          "output_type": "display_data"
        },
        {
          "data": {
            "application/vnd.jupyter.widget-view+json": {
              "model_id": "0e2ba2534c304dc8b112bc185f1dab6e",
              "version_major": 2,
              "version_minor": 0
            },
            "text/plain": [
              "  0%|          | 0/185 [00:00<?, ?it/s]"
            ]
          },
          "metadata": {},
          "output_type": "display_data"
        },
        {
          "data": {
            "application/vnd.jupyter.widget-view+json": {
              "model_id": "1a590f5d3ddd4979a2409952eb3b37f0",
              "version_major": 2,
              "version_minor": 0
            },
            "text/plain": [
              "  0%|          | 0/185 [00:00<?, ?it/s]"
            ]
          },
          "metadata": {},
          "output_type": "display_data"
        },
        {
          "metadata": {
            "tags": null
          },
          "name": "stdout",
          "output_type": "stream",
          "text": [
            "\n",
            "Training Loss: 399.555\n",
            "\n",
            "Test Loss: 66.221\n",
            "Validation Loss: 66.174\n",
            "Training Perplexity: 1.589\n",
            "Test Perplexity: 1.430\n",
            "Validation Perplexity: 1.430\n",
            "Training Accuracy: 0.901\n",
            "Test Accuracy: 0.902\n",
            "Validation Accuracy: 0.905\n",
            "\n",
            " Epoch 3 / 40\n",
            "  Batch    50  of    863.\n",
            "  Batch   100  of    863.\n",
            "  Batch   150  of    863.\n",
            "  Batch   200  of    863.\n",
            "  Batch   250  of    863.\n",
            "  Batch   300  of    863.\n",
            "  Batch   350  of    863.\n",
            "  Batch   400  of    863.\n",
            "  Batch   450  of    863.\n",
            "  Batch   500  of    863.\n",
            "  Batch   550  of    863.\n",
            "  Batch   600  of    863.\n",
            "  Batch   650  of    863.\n",
            "  Batch   700  of    863.\n",
            "  Batch   750  of    863.\n",
            "  Batch   800  of    863.\n",
            "  Batch   850  of    863.\n",
            "\n",
            "Evaluating...\n",
            "  Batch    50  of    185.\n",
            "  Batch   100  of    185.\n",
            "  Batch   150  of    185.\n",
            "\n",
            "Evaluating...\n",
            "  Batch    50  of    185.\n",
            "  Batch   100  of    185.\n",
            "  Batch   150  of    185.\n",
            "Saving model.\n"
          ]
        },
        {
          "data": {
            "application/vnd.jupyter.widget-view+json": {
              "model_id": "5c4d7979e77e42e2b0a807345538c88c",
              "version_major": 2,
              "version_minor": 0
            },
            "text/plain": [
              "  0%|          | 0/863 [00:00<?, ?it/s]"
            ]
          },
          "metadata": {},
          "output_type": "display_data"
        },
        {
          "data": {
            "application/vnd.jupyter.widget-view+json": {
              "model_id": "f4fcdd987066498d8de69d782ac28bb9",
              "version_major": 2,
              "version_minor": 0
            },
            "text/plain": [
              "  0%|          | 0/185 [00:00<?, ?it/s]"
            ]
          },
          "metadata": {},
          "output_type": "display_data"
        },
        {
          "data": {
            "application/vnd.jupyter.widget-view+json": {
              "model_id": "6293bf47cdda488386e291b9dd8c2dea",
              "version_major": 2,
              "version_minor": 0
            },
            "text/plain": [
              "  0%|          | 0/185 [00:00<?, ?it/s]"
            ]
          },
          "metadata": {},
          "output_type": "display_data"
        },
        {
          "metadata": {
            "tags": null
          },
          "name": "stdout",
          "output_type": "stream",
          "text": [
            "\n",
            "Training Loss: 312.994\n",
            "\n",
            "Test Loss: 51.331\n",
            "Validation Loss: 51.161\n",
            "Training Perplexity: 1.437\n",
            "Test Perplexity: 1.320\n",
            "Validation Perplexity: 1.319\n",
            "Training Accuracy: 0.910\n",
            "Test Accuracy: 0.913\n",
            "Validation Accuracy: 0.914\n",
            "\n",
            " Epoch 4 / 40\n",
            "  Batch    50  of    863.\n",
            "  Batch   100  of    863.\n",
            "  Batch   150  of    863.\n",
            "  Batch   200  of    863.\n",
            "  Batch   250  of    863.\n",
            "  Batch   300  of    863.\n",
            "  Batch   350  of    863.\n",
            "  Batch   400  of    863.\n",
            "  Batch   450  of    863.\n",
            "  Batch   500  of    863.\n",
            "  Batch   550  of    863.\n",
            "  Batch   600  of    863.\n",
            "  Batch   650  of    863.\n",
            "  Batch   700  of    863.\n",
            "  Batch   750  of    863.\n",
            "  Batch   800  of    863.\n",
            "  Batch   850  of    863.\n",
            "\n",
            "Evaluating...\n",
            "  Batch    50  of    185.\n",
            "  Batch   100  of    185.\n",
            "  Batch   150  of    185.\n",
            "\n",
            "Evaluating...\n",
            "  Batch    50  of    185.\n",
            "  Batch   100  of    185.\n",
            "  Batch   150  of    185.\n",
            "Saving model.\n"
          ]
        },
        {
          "data": {
            "application/vnd.jupyter.widget-view+json": {
              "model_id": "929994e43b654b3e90d76699460d5340",
              "version_major": 2,
              "version_minor": 0
            },
            "text/plain": [
              "  0%|          | 0/863 [00:00<?, ?it/s]"
            ]
          },
          "metadata": {},
          "output_type": "display_data"
        },
        {
          "data": {
            "application/vnd.jupyter.widget-view+json": {
              "model_id": "2c8216e611084cce8cfa1187d7de6343",
              "version_major": 2,
              "version_minor": 0
            },
            "text/plain": [
              "  0%|          | 0/185 [00:00<?, ?it/s]"
            ]
          },
          "metadata": {},
          "output_type": "display_data"
        },
        {
          "data": {
            "application/vnd.jupyter.widget-view+json": {
              "model_id": "87c7de939c1645c988fd0e54a6c5fc46",
              "version_major": 2,
              "version_minor": 0
            },
            "text/plain": [
              "  0%|          | 0/185 [00:00<?, ?it/s]"
            ]
          },
          "metadata": {},
          "output_type": "display_data"
        },
        {
          "metadata": {
            "tags": null
          },
          "name": "stdout",
          "output_type": "stream",
          "text": [
            "\n",
            "Training Loss: 261.639\n",
            "\n",
            "Test Loss: 43.658\n",
            "Validation Loss: 43.184\n",
            "Training Perplexity: 1.354\n",
            "Test Perplexity: 1.266\n",
            "Validation Perplexity: 1.263\n",
            "Training Accuracy: 0.920\n",
            "Test Accuracy: 0.922\n",
            "Validation Accuracy: 0.926\n",
            "\n",
            " Epoch 5 / 40\n",
            "  Batch    50  of    863.\n",
            "  Batch   100  of    863.\n",
            "  Batch   150  of    863.\n",
            "  Batch   200  of    863.\n",
            "  Batch   250  of    863.\n",
            "  Batch   300  of    863.\n",
            "  Batch   350  of    863.\n",
            "  Batch   400  of    863.\n",
            "  Batch   450  of    863.\n",
            "  Batch   500  of    863.\n",
            "  Batch   550  of    863.\n",
            "  Batch   600  of    863.\n",
            "  Batch   650  of    863.\n",
            "  Batch   700  of    863.\n",
            "  Batch   750  of    863.\n",
            "  Batch   800  of    863.\n",
            "  Batch   850  of    863.\n",
            "\n",
            "Evaluating...\n",
            "  Batch    50  of    185.\n",
            "  Batch   100  of    185.\n",
            "  Batch   150  of    185.\n",
            "\n",
            "Evaluating...\n",
            "  Batch    50  of    185.\n",
            "  Batch   100  of    185.\n",
            "  Batch   150  of    185.\n",
            "Saving model.\n"
          ]
        },
        {
          "data": {
            "application/vnd.jupyter.widget-view+json": {
              "model_id": "6f6d10175a7445d0ab1563432679073e",
              "version_major": 2,
              "version_minor": 0
            },
            "text/plain": [
              "  0%|          | 0/863 [00:00<?, ?it/s]"
            ]
          },
          "metadata": {},
          "output_type": "display_data"
        },
        {
          "data": {
            "application/vnd.jupyter.widget-view+json": {
              "model_id": "220663fe1f874209bb9a73d4f43eff61",
              "version_major": 2,
              "version_minor": 0
            },
            "text/plain": [
              "  0%|          | 0/185 [00:00<?, ?it/s]"
            ]
          },
          "metadata": {},
          "output_type": "display_data"
        },
        {
          "data": {
            "application/vnd.jupyter.widget-view+json": {
              "model_id": "dfe6cf5949ea46a1b1e1b0832f773b96",
              "version_major": 2,
              "version_minor": 0
            },
            "text/plain": [
              "  0%|          | 0/185 [00:00<?, ?it/s]"
            ]
          },
          "metadata": {},
          "output_type": "display_data"
        },
        {
          "metadata": {
            "tags": null
          },
          "name": "stdout",
          "output_type": "stream",
          "text": [
            "\n",
            "Training Loss: 233.886\n",
            "\n",
            "Test Loss: 40.506\n",
            "Validation Loss: 40.095\n",
            "Training Perplexity: 1.311\n",
            "Test Perplexity: 1.245\n",
            "Validation Perplexity: 1.242\n",
            "Training Accuracy: 0.914\n",
            "Test Accuracy: 0.914\n",
            "Validation Accuracy: 0.917\n",
            "\n",
            " Epoch 6 / 40\n",
            "  Batch    50  of    863.\n",
            "  Batch   100  of    863.\n",
            "  Batch   150  of    863.\n",
            "  Batch   200  of    863.\n",
            "  Batch   250  of    863.\n",
            "  Batch   300  of    863.\n",
            "  Batch   350  of    863.\n",
            "  Batch   400  of    863.\n",
            "  Batch   450  of    863.\n",
            "  Batch   500  of    863.\n",
            "  Batch   550  of    863.\n",
            "  Batch   600  of    863.\n",
            "  Batch   650  of    863.\n",
            "  Batch   700  of    863.\n",
            "  Batch   750  of    863.\n",
            "  Batch   800  of    863.\n",
            "  Batch   850  of    863.\n",
            "\n",
            "Evaluating...\n",
            "  Batch    50  of    185.\n",
            "  Batch   100  of    185.\n",
            "  Batch   150  of    185.\n",
            "\n",
            "Evaluating...\n",
            "  Batch    50  of    185.\n",
            "  Batch   100  of    185.\n",
            "  Batch   150  of    185.\n",
            "Saving model.\n"
          ]
        },
        {
          "data": {
            "application/vnd.jupyter.widget-view+json": {
              "model_id": "6a790ff267ad4af4ac8681e661b015d9",
              "version_major": 2,
              "version_minor": 0
            },
            "text/plain": [
              "  0%|          | 0/863 [00:00<?, ?it/s]"
            ]
          },
          "metadata": {},
          "output_type": "display_data"
        },
        {
          "data": {
            "application/vnd.jupyter.widget-view+json": {
              "model_id": "3f1df30e4fe741a18e1b4d6912dbf5b7",
              "version_major": 2,
              "version_minor": 0
            },
            "text/plain": [
              "  0%|          | 0/185 [00:00<?, ?it/s]"
            ]
          },
          "metadata": {},
          "output_type": "display_data"
        },
        {
          "data": {
            "application/vnd.jupyter.widget-view+json": {
              "model_id": "fe34bd8c18f045afa216c7c4ab073463",
              "version_major": 2,
              "version_minor": 0
            },
            "text/plain": [
              "  0%|          | 0/185 [00:00<?, ?it/s]"
            ]
          },
          "metadata": {},
          "output_type": "display_data"
        },
        {
          "metadata": {
            "tags": null
          },
          "name": "stdout",
          "output_type": "stream",
          "text": [
            "\n",
            "Training Loss: 218.009\n",
            "\n",
            "Test Loss: 36.850\n",
            "Validation Loss: 36.312\n",
            "Training Perplexity: 1.287\n",
            "Test Perplexity: 1.220\n",
            "Validation Perplexity: 1.217\n",
            "Training Accuracy: 0.923\n",
            "Test Accuracy: 0.923\n",
            "Validation Accuracy: 0.925\n",
            "\n",
            " Epoch 7 / 40\n",
            "  Batch    50  of    863.\n",
            "  Batch   100  of    863.\n",
            "  Batch   150  of    863.\n",
            "  Batch   200  of    863.\n",
            "  Batch   250  of    863.\n",
            "  Batch   300  of    863.\n",
            "  Batch   350  of    863.\n",
            "  Batch   400  of    863.\n",
            "  Batch   450  of    863.\n",
            "  Batch   500  of    863.\n",
            "  Batch   550  of    863.\n",
            "  Batch   600  of    863.\n",
            "  Batch   650  of    863.\n",
            "  Batch   700  of    863.\n",
            "  Batch   750  of    863.\n",
            "  Batch   800  of    863.\n",
            "  Batch   850  of    863.\n",
            "\n",
            "Evaluating...\n",
            "  Batch    50  of    185.\n",
            "  Batch   100  of    185.\n",
            "  Batch   150  of    185.\n",
            "\n",
            "Evaluating...\n",
            "  Batch    50  of    185.\n",
            "  Batch   100  of    185.\n",
            "  Batch   150  of    185.\n",
            "Saving model.\n"
          ]
        },
        {
          "data": {
            "application/vnd.jupyter.widget-view+json": {
              "model_id": "b345c0e2de4d47b186083e9fb5ab9620",
              "version_major": 2,
              "version_minor": 0
            },
            "text/plain": [
              "  0%|          | 0/863 [00:00<?, ?it/s]"
            ]
          },
          "metadata": {},
          "output_type": "display_data"
        },
        {
          "data": {
            "application/vnd.jupyter.widget-view+json": {
              "model_id": "91d7332281d3491a8fee382b3118ce42",
              "version_major": 2,
              "version_minor": 0
            },
            "text/plain": [
              "  0%|          | 0/185 [00:00<?, ?it/s]"
            ]
          },
          "metadata": {},
          "output_type": "display_data"
        },
        {
          "data": {
            "application/vnd.jupyter.widget-view+json": {
              "model_id": "a4deb6d444cc4c66a823a86d5cc5db6f",
              "version_major": 2,
              "version_minor": 0
            },
            "text/plain": [
              "  0%|          | 0/185 [00:00<?, ?it/s]"
            ]
          },
          "metadata": {},
          "output_type": "display_data"
        },
        {
          "metadata": {
            "tags": null
          },
          "name": "stdout",
          "output_type": "stream",
          "text": [
            "\n",
            "Training Loss: 210.292\n",
            "\n",
            "Test Loss: 35.109\n",
            "Validation Loss: 34.472\n",
            "Training Perplexity: 1.276\n",
            "Test Perplexity: 1.209\n",
            "Validation Perplexity: 1.205\n",
            "Training Accuracy: 0.924\n",
            "Test Accuracy: 0.926\n",
            "Validation Accuracy: 0.928\n",
            "\n",
            " Epoch 8 / 40\n",
            "  Batch    50  of    863.\n",
            "  Batch   100  of    863.\n",
            "  Batch   150  of    863.\n",
            "  Batch   200  of    863.\n",
            "  Batch   250  of    863.\n",
            "  Batch   300  of    863.\n",
            "  Batch   350  of    863.\n",
            "  Batch   400  of    863.\n",
            "  Batch   450  of    863.\n",
            "  Batch   500  of    863.\n",
            "  Batch   550  of    863.\n",
            "  Batch   600  of    863.\n",
            "  Batch   650  of    863.\n",
            "  Batch   700  of    863.\n",
            "  Batch   750  of    863.\n",
            "  Batch   800  of    863.\n",
            "  Batch   850  of    863.\n",
            "\n",
            "Evaluating...\n",
            "  Batch    50  of    185.\n",
            "  Batch   100  of    185.\n",
            "  Batch   150  of    185.\n",
            "\n",
            "Evaluating...\n",
            "  Batch    50  of    185.\n",
            "  Batch   100  of    185.\n",
            "  Batch   150  of    185.\n",
            "Saving model.\n"
          ]
        },
        {
          "data": {
            "application/vnd.jupyter.widget-view+json": {
              "model_id": "d760011b3e1e4c39aed07844b1856482",
              "version_major": 2,
              "version_minor": 0
            },
            "text/plain": [
              "  0%|          | 0/863 [00:00<?, ?it/s]"
            ]
          },
          "metadata": {},
          "output_type": "display_data"
        },
        {
          "data": {
            "application/vnd.jupyter.widget-view+json": {
              "model_id": "84632ed32e2a411a94041e3a3c3f968d",
              "version_major": 2,
              "version_minor": 0
            },
            "text/plain": [
              "  0%|          | 0/185 [00:00<?, ?it/s]"
            ]
          },
          "metadata": {},
          "output_type": "display_data"
        },
        {
          "data": {
            "application/vnd.jupyter.widget-view+json": {
              "model_id": "8df56044b1144b2da122b2cdf3791a47",
              "version_major": 2,
              "version_minor": 0
            },
            "text/plain": [
              "  0%|          | 0/185 [00:00<?, ?it/s]"
            ]
          },
          "metadata": {},
          "output_type": "display_data"
        },
        {
          "metadata": {
            "tags": null
          },
          "name": "stdout",
          "output_type": "stream",
          "text": [
            "\n",
            "Training Loss: 200.729\n",
            "\n",
            "Test Loss: 33.780\n",
            "Validation Loss: 33.038\n",
            "Training Perplexity: 1.262\n",
            "Test Perplexity: 1.200\n",
            "Validation Perplexity: 1.196\n",
            "Training Accuracy: 0.927\n",
            "Test Accuracy: 0.929\n",
            "Validation Accuracy: 0.931\n",
            "\n",
            " Epoch 9 / 40\n",
            "  Batch    50  of    863.\n",
            "  Batch   100  of    863.\n",
            "  Batch   150  of    863.\n",
            "  Batch   200  of    863.\n",
            "  Batch   250  of    863.\n",
            "  Batch   300  of    863.\n",
            "  Batch   350  of    863.\n",
            "  Batch   400  of    863.\n",
            "  Batch   450  of    863.\n",
            "  Batch   500  of    863.\n",
            "  Batch   550  of    863.\n",
            "  Batch   600  of    863.\n",
            "  Batch   650  of    863.\n",
            "  Batch   700  of    863.\n",
            "  Batch   750  of    863.\n",
            "  Batch   800  of    863.\n",
            "  Batch   850  of    863.\n",
            "\n",
            "Evaluating...\n",
            "  Batch    50  of    185.\n",
            "  Batch   100  of    185.\n",
            "  Batch   150  of    185.\n",
            "\n",
            "Evaluating...\n",
            "  Batch    50  of    185.\n",
            "  Batch   100  of    185.\n",
            "  Batch   150  of    185.\n",
            "Saving model.\n"
          ]
        },
        {
          "data": {
            "application/vnd.jupyter.widget-view+json": {
              "model_id": "8889b9a342274c22adc8d527c9fd8ce5",
              "version_major": 2,
              "version_minor": 0
            },
            "text/plain": [
              "  0%|          | 0/863 [00:00<?, ?it/s]"
            ]
          },
          "metadata": {},
          "output_type": "display_data"
        },
        {
          "data": {
            "application/vnd.jupyter.widget-view+json": {
              "model_id": "0acc4e2a8e984e3ca76fb31f7222f399",
              "version_major": 2,
              "version_minor": 0
            },
            "text/plain": [
              "  0%|          | 0/185 [00:00<?, ?it/s]"
            ]
          },
          "metadata": {},
          "output_type": "display_data"
        },
        {
          "data": {
            "application/vnd.jupyter.widget-view+json": {
              "model_id": "28b7570294fc48dba419dca177e4f418",
              "version_major": 2,
              "version_minor": 0
            },
            "text/plain": [
              "  0%|          | 0/185 [00:00<?, ?it/s]"
            ]
          },
          "metadata": {},
          "output_type": "display_data"
        },
        {
          "metadata": {
            "tags": null
          },
          "name": "stdout",
          "output_type": "stream",
          "text": [
            "\n",
            "Training Loss: 194.828\n",
            "\n",
            "Test Loss: 32.806\n",
            "Validation Loss: 31.997\n",
            "Training Perplexity: 1.253\n",
            "Test Perplexity: 1.194\n",
            "Validation Perplexity: 1.189\n",
            "Training Accuracy: 0.929\n",
            "Test Accuracy: 0.932\n",
            "Validation Accuracy: 0.933\n",
            "\n",
            " Epoch 10 / 40\n",
            "  Batch    50  of    863.\n",
            "  Batch   100  of    863.\n",
            "  Batch   150  of    863.\n",
            "  Batch   200  of    863.\n",
            "  Batch   250  of    863.\n",
            "  Batch   300  of    863.\n",
            "  Batch   350  of    863.\n",
            "  Batch   400  of    863.\n",
            "  Batch   450  of    863.\n",
            "  Batch   500  of    863.\n",
            "  Batch   550  of    863.\n",
            "  Batch   600  of    863.\n",
            "  Batch   650  of    863.\n",
            "  Batch   700  of    863.\n",
            "  Batch   750  of    863.\n",
            "  Batch   800  of    863.\n",
            "  Batch   850  of    863.\n",
            "\n",
            "Evaluating...\n",
            "  Batch    50  of    185.\n",
            "  Batch   100  of    185.\n",
            "  Batch   150  of    185.\n",
            "\n",
            "Evaluating...\n",
            "  Batch    50  of    185.\n",
            "  Batch   100  of    185.\n",
            "  Batch   150  of    185.\n",
            "Saving model.\n"
          ]
        },
        {
          "data": {
            "application/vnd.jupyter.widget-view+json": {
              "model_id": "5c823b9779d848f08acf5e6981518971",
              "version_major": 2,
              "version_minor": 0
            },
            "text/plain": [
              "  0%|          | 0/863 [00:00<?, ?it/s]"
            ]
          },
          "metadata": {},
          "output_type": "display_data"
        },
        {
          "data": {
            "application/vnd.jupyter.widget-view+json": {
              "model_id": "99a5de865333475e9aef975326aa9c98",
              "version_major": 2,
              "version_minor": 0
            },
            "text/plain": [
              "  0%|          | 0/185 [00:00<?, ?it/s]"
            ]
          },
          "metadata": {},
          "output_type": "display_data"
        },
        {
          "data": {
            "application/vnd.jupyter.widget-view+json": {
              "model_id": "25eb6a3eba5949b3aa056f681db322ed",
              "version_major": 2,
              "version_minor": 0
            },
            "text/plain": [
              "  0%|          | 0/185 [00:00<?, ?it/s]"
            ]
          },
          "metadata": {},
          "output_type": "display_data"
        },
        {
          "metadata": {
            "tags": null
          },
          "name": "stdout",
          "output_type": "stream",
          "text": [
            "\n",
            "Training Loss: 190.945\n",
            "\n",
            "Test Loss: 31.907\n",
            "Validation Loss: 31.013\n",
            "Training Perplexity: 1.248\n",
            "Test Perplexity: 1.188\n",
            "Validation Perplexity: 1.183\n",
            "Training Accuracy: 0.931\n",
            "Test Accuracy: 0.932\n",
            "Validation Accuracy: 0.934\n",
            "\n",
            " Epoch 11 / 40\n",
            "  Batch    50  of    863.\n",
            "  Batch   100  of    863.\n",
            "  Batch   150  of    863.\n",
            "  Batch   200  of    863.\n",
            "  Batch   250  of    863.\n",
            "  Batch   300  of    863.\n",
            "  Batch   350  of    863.\n",
            "  Batch   400  of    863.\n",
            "  Batch   450  of    863.\n",
            "  Batch   500  of    863.\n",
            "  Batch   550  of    863.\n",
            "  Batch   600  of    863.\n",
            "  Batch   650  of    863.\n",
            "  Batch   700  of    863.\n",
            "  Batch   750  of    863.\n",
            "  Batch   800  of    863.\n",
            "  Batch   850  of    863.\n",
            "\n",
            "Evaluating...\n",
            "  Batch    50  of    185.\n",
            "  Batch   100  of    185.\n",
            "  Batch   150  of    185.\n",
            "\n",
            "Evaluating...\n",
            "  Batch    50  of    185.\n",
            "  Batch   100  of    185.\n",
            "  Batch   150  of    185.\n",
            "Saving model.\n"
          ]
        },
        {
          "data": {
            "application/vnd.jupyter.widget-view+json": {
              "model_id": "e637ad5d4ef143928deec50be12ed7fe",
              "version_major": 2,
              "version_minor": 0
            },
            "text/plain": [
              "  0%|          | 0/863 [00:00<?, ?it/s]"
            ]
          },
          "metadata": {},
          "output_type": "display_data"
        },
        {
          "data": {
            "application/vnd.jupyter.widget-view+json": {
              "model_id": "3e0081d857e649cdba2114be43f130e1",
              "version_major": 2,
              "version_minor": 0
            },
            "text/plain": [
              "  0%|          | 0/185 [00:00<?, ?it/s]"
            ]
          },
          "metadata": {},
          "output_type": "display_data"
        },
        {
          "data": {
            "application/vnd.jupyter.widget-view+json": {
              "model_id": "95472c43a2df47719a6ddc9dacbd1d4b",
              "version_major": 2,
              "version_minor": 0
            },
            "text/plain": [
              "  0%|          | 0/185 [00:00<?, ?it/s]"
            ]
          },
          "metadata": {},
          "output_type": "display_data"
        },
        {
          "metadata": {
            "tags": null
          },
          "name": "stdout",
          "output_type": "stream",
          "text": [
            "\n",
            "Training Loss: 186.893\n",
            "\n",
            "Test Loss: 31.328\n",
            "Validation Loss: 30.361\n",
            "Training Perplexity: 1.242\n",
            "Test Perplexity: 1.185\n",
            "Validation Perplexity: 1.178\n",
            "Training Accuracy: 0.932\n",
            "Test Accuracy: 0.933\n",
            "Validation Accuracy: 0.934\n",
            "\n",
            " Epoch 12 / 40\n",
            "  Batch    50  of    863.\n",
            "  Batch   100  of    863.\n",
            "  Batch   150  of    863.\n",
            "  Batch   200  of    863.\n",
            "  Batch   250  of    863.\n",
            "  Batch   300  of    863.\n",
            "  Batch   350  of    863.\n",
            "  Batch   400  of    863.\n",
            "  Batch   450  of    863.\n",
            "  Batch   500  of    863.\n",
            "  Batch   550  of    863.\n",
            "  Batch   600  of    863.\n",
            "  Batch   650  of    863.\n",
            "  Batch   700  of    863.\n",
            "  Batch   750  of    863.\n",
            "  Batch   800  of    863.\n",
            "  Batch   850  of    863.\n",
            "\n",
            "Evaluating...\n",
            "  Batch    50  of    185.\n",
            "  Batch   100  of    185.\n",
            "  Batch   150  of    185.\n",
            "\n",
            "Evaluating...\n",
            "  Batch    50  of    185.\n",
            "  Batch   100  of    185.\n",
            "  Batch   150  of    185.\n",
            "Saving model.\n"
          ]
        },
        {
          "data": {
            "application/vnd.jupyter.widget-view+json": {
              "model_id": "51bfe9df2a5047e397b8c3bf3118980c",
              "version_major": 2,
              "version_minor": 0
            },
            "text/plain": [
              "  0%|          | 0/863 [00:00<?, ?it/s]"
            ]
          },
          "metadata": {},
          "output_type": "display_data"
        },
        {
          "data": {
            "application/vnd.jupyter.widget-view+json": {
              "model_id": "fb717ab359704cbda1b09bd34e2443c1",
              "version_major": 2,
              "version_minor": 0
            },
            "text/plain": [
              "  0%|          | 0/185 [00:00<?, ?it/s]"
            ]
          },
          "metadata": {},
          "output_type": "display_data"
        },
        {
          "data": {
            "application/vnd.jupyter.widget-view+json": {
              "model_id": "7920c6e7a86c477886a3405aa6cbb48b",
              "version_major": 2,
              "version_minor": 0
            },
            "text/plain": [
              "  0%|          | 0/185 [00:00<?, ?it/s]"
            ]
          },
          "metadata": {},
          "output_type": "display_data"
        },
        {
          "metadata": {
            "tags": null
          },
          "name": "stdout",
          "output_type": "stream",
          "text": [
            "\n",
            "Training Loss: 181.553\n",
            "\n",
            "Test Loss: 30.700\n",
            "Validation Loss: 29.668\n",
            "Training Perplexity: 1.234\n",
            "Test Perplexity: 1.181\n",
            "Validation Perplexity: 1.174\n",
            "Training Accuracy: 0.933\n",
            "Test Accuracy: 0.934\n",
            "Validation Accuracy: 0.934\n",
            "\n",
            " Epoch 13 / 40\n",
            "  Batch    50  of    863.\n",
            "  Batch   100  of    863.\n",
            "  Batch   150  of    863.\n",
            "  Batch   200  of    863.\n",
            "  Batch   250  of    863.\n",
            "  Batch   300  of    863.\n",
            "  Batch   350  of    863.\n",
            "  Batch   400  of    863.\n",
            "  Batch   450  of    863.\n",
            "  Batch   500  of    863.\n",
            "  Batch   550  of    863.\n",
            "  Batch   600  of    863.\n",
            "  Batch   650  of    863.\n",
            "  Batch   700  of    863.\n",
            "  Batch   750  of    863.\n",
            "  Batch   800  of    863.\n",
            "  Batch   850  of    863.\n",
            "\n",
            "Evaluating...\n",
            "  Batch    50  of    185.\n",
            "  Batch   100  of    185.\n",
            "  Batch   150  of    185.\n",
            "\n",
            "Evaluating...\n",
            "  Batch    50  of    185.\n",
            "  Batch   100  of    185.\n",
            "  Batch   150  of    185.\n"
          ]
        },
        {
          "data": {
            "application/vnd.jupyter.widget-view+json": {
              "model_id": "a8e12b519aff4de6b8cdf89d5952b4dd",
              "version_major": 2,
              "version_minor": 0
            },
            "text/plain": [
              "  0%|          | 0/863 [00:00<?, ?it/s]"
            ]
          },
          "metadata": {},
          "output_type": "display_data"
        },
        {
          "data": {
            "application/vnd.jupyter.widget-view+json": {
              "model_id": "8c5e5e9fe23e4d4c99f3ba8deac278f0",
              "version_major": 2,
              "version_minor": 0
            },
            "text/plain": [
              "  0%|          | 0/185 [00:00<?, ?it/s]"
            ]
          },
          "metadata": {},
          "output_type": "display_data"
        },
        {
          "data": {
            "application/vnd.jupyter.widget-view+json": {
              "model_id": "9e4c78b40d014a639ff9aaff585a4b38",
              "version_major": 2,
              "version_minor": 0
            },
            "text/plain": [
              "  0%|          | 0/185 [00:00<?, ?it/s]"
            ]
          },
          "metadata": {},
          "output_type": "display_data"
        },
        {
          "metadata": {
            "tags": null
          },
          "name": "stdout",
          "output_type": "stream",
          "text": [
            "\n",
            "Training Loss: 181.218\n",
            "\n",
            "Test Loss: 33.001\n",
            "Validation Loss: 31.946\n",
            "Training Perplexity: 1.234\n",
            "Test Perplexity: 1.195\n",
            "Validation Perplexity: 1.188\n",
            "Training Accuracy: 0.926\n",
            "Test Accuracy: 0.927\n",
            "Validation Accuracy: 0.929\n",
            "\n",
            " Epoch 14 / 40\n",
            "  Batch    50  of    863.\n",
            "  Batch   100  of    863.\n",
            "  Batch   150  of    863.\n",
            "  Batch   200  of    863.\n",
            "  Batch   250  of    863.\n",
            "  Batch   300  of    863.\n",
            "  Batch   350  of    863.\n",
            "  Batch   400  of    863.\n",
            "  Batch   450  of    863.\n",
            "  Batch   500  of    863.\n",
            "  Batch   550  of    863.\n",
            "  Batch   600  of    863.\n",
            "  Batch   650  of    863.\n",
            "  Batch   700  of    863.\n",
            "  Batch   750  of    863.\n",
            "  Batch   800  of    863.\n",
            "  Batch   850  of    863.\n",
            "\n",
            "Evaluating...\n",
            "  Batch    50  of    185.\n",
            "  Batch   100  of    185.\n",
            "  Batch   150  of    185.\n",
            "\n",
            "Evaluating...\n",
            "  Batch    50  of    185.\n",
            "  Batch   100  of    185.\n",
            "  Batch   150  of    185.\n",
            "Saving model.\n"
          ]
        },
        {
          "data": {
            "application/vnd.jupyter.widget-view+json": {
              "model_id": "7d0a07cf3881465b905c7277298c8f3b",
              "version_major": 2,
              "version_minor": 0
            },
            "text/plain": [
              "  0%|          | 0/863 [00:00<?, ?it/s]"
            ]
          },
          "metadata": {},
          "output_type": "display_data"
        },
        {
          "data": {
            "application/vnd.jupyter.widget-view+json": {
              "model_id": "d67dec80c7f649edbecbf4f78b5521bd",
              "version_major": 2,
              "version_minor": 0
            },
            "text/plain": [
              "  0%|          | 0/185 [00:00<?, ?it/s]"
            ]
          },
          "metadata": {},
          "output_type": "display_data"
        },
        {
          "data": {
            "application/vnd.jupyter.widget-view+json": {
              "model_id": "1e294fea229541069a079d4a818cf9f5",
              "version_major": 2,
              "version_minor": 0
            },
            "text/plain": [
              "  0%|          | 0/185 [00:00<?, ?it/s]"
            ]
          },
          "metadata": {},
          "output_type": "display_data"
        },
        {
          "metadata": {
            "tags": null
          },
          "name": "stdout",
          "output_type": "stream",
          "text": [
            "\n",
            "Training Loss: 178.677\n",
            "\n",
            "Test Loss: 29.855\n",
            "Validation Loss: 28.701\n",
            "Training Perplexity: 1.230\n",
            "Test Perplexity: 1.175\n",
            "Validation Perplexity: 1.168\n",
            "Training Accuracy: 0.934\n",
            "Test Accuracy: 0.935\n",
            "Validation Accuracy: 0.937\n",
            "\n",
            " Epoch 15 / 40\n",
            "  Batch    50  of    863.\n",
            "  Batch   100  of    863.\n",
            "  Batch   150  of    863.\n",
            "  Batch   200  of    863.\n",
            "  Batch   250  of    863.\n",
            "  Batch   300  of    863.\n",
            "  Batch   350  of    863.\n",
            "  Batch   400  of    863.\n",
            "  Batch   450  of    863.\n",
            "  Batch   500  of    863.\n",
            "  Batch   550  of    863.\n",
            "  Batch   600  of    863.\n",
            "  Batch   650  of    863.\n",
            "  Batch   700  of    863.\n",
            "  Batch   750  of    863.\n",
            "  Batch   800  of    863.\n",
            "  Batch   850  of    863.\n",
            "\n",
            "Evaluating...\n",
            "  Batch    50  of    185.\n",
            "  Batch   100  of    185.\n",
            "  Batch   150  of    185.\n",
            "\n",
            "Evaluating...\n",
            "  Batch    50  of    185.\n",
            "  Batch   100  of    185.\n",
            "  Batch   150  of    185.\n",
            "Saving model.\n"
          ]
        },
        {
          "data": {
            "application/vnd.jupyter.widget-view+json": {
              "model_id": "37be5bce137e46fca992e0f021f9bfef",
              "version_major": 2,
              "version_minor": 0
            },
            "text/plain": [
              "  0%|          | 0/863 [00:00<?, ?it/s]"
            ]
          },
          "metadata": {},
          "output_type": "display_data"
        },
        {
          "data": {
            "application/vnd.jupyter.widget-view+json": {
              "model_id": "efcba663fa9c472382baadf59bade547",
              "version_major": 2,
              "version_minor": 0
            },
            "text/plain": [
              "  0%|          | 0/185 [00:00<?, ?it/s]"
            ]
          },
          "metadata": {},
          "output_type": "display_data"
        },
        {
          "data": {
            "application/vnd.jupyter.widget-view+json": {
              "model_id": "380b1b478574465c9052b1be0273e89c",
              "version_major": 2,
              "version_minor": 0
            },
            "text/plain": [
              "  0%|          | 0/185 [00:00<?, ?it/s]"
            ]
          },
          "metadata": {},
          "output_type": "display_data"
        },
        {
          "metadata": {
            "tags": null
          },
          "name": "stdout",
          "output_type": "stream",
          "text": [
            "\n",
            "Training Loss: 174.304\n",
            "\n",
            "Test Loss: 29.465\n",
            "Validation Loss: 28.302\n",
            "Training Perplexity: 1.224\n",
            "Test Perplexity: 1.173\n",
            "Validation Perplexity: 1.165\n",
            "Training Accuracy: 0.935\n",
            "Test Accuracy: 0.936\n",
            "Validation Accuracy: 0.938\n",
            "\n",
            " Epoch 16 / 40\n",
            "  Batch    50  of    863.\n",
            "  Batch   100  of    863.\n",
            "  Batch   150  of    863.\n",
            "  Batch   200  of    863.\n",
            "  Batch   250  of    863.\n",
            "  Batch   300  of    863.\n",
            "  Batch   350  of    863.\n",
            "  Batch   400  of    863.\n",
            "  Batch   450  of    863.\n",
            "  Batch   500  of    863.\n",
            "  Batch   550  of    863.\n",
            "  Batch   600  of    863.\n",
            "  Batch   650  of    863.\n",
            "  Batch   700  of    863.\n",
            "  Batch   750  of    863.\n",
            "  Batch   800  of    863.\n",
            "  Batch   850  of    863.\n",
            "\n",
            "Evaluating...\n",
            "  Batch    50  of    185.\n",
            "  Batch   100  of    185.\n",
            "  Batch   150  of    185.\n",
            "\n",
            "Evaluating...\n",
            "  Batch    50  of    185.\n",
            "  Batch   100  of    185.\n",
            "  Batch   150  of    185.\n"
          ]
        },
        {
          "data": {
            "application/vnd.jupyter.widget-view+json": {
              "model_id": "865a6cd5c0b34622a4852b42b693083b",
              "version_major": 2,
              "version_minor": 0
            },
            "text/plain": [
              "  0%|          | 0/863 [00:00<?, ?it/s]"
            ]
          },
          "metadata": {},
          "output_type": "display_data"
        },
        {
          "data": {
            "application/vnd.jupyter.widget-view+json": {
              "model_id": "718c052c399e405085da86d00a73b04a",
              "version_major": 2,
              "version_minor": 0
            },
            "text/plain": [
              "  0%|          | 0/185 [00:00<?, ?it/s]"
            ]
          },
          "metadata": {},
          "output_type": "display_data"
        },
        {
          "data": {
            "application/vnd.jupyter.widget-view+json": {
              "model_id": "32548fd2b28543168b1c0ea406548cb5",
              "version_major": 2,
              "version_minor": 0
            },
            "text/plain": [
              "  0%|          | 0/185 [00:00<?, ?it/s]"
            ]
          },
          "metadata": {},
          "output_type": "display_data"
        },
        {
          "metadata": {
            "tags": null
          },
          "name": "stdout",
          "output_type": "stream",
          "text": [
            "\n",
            "Training Loss: 174.350\n",
            "\n",
            "Test Loss: 29.929\n",
            "Validation Loss: 28.622\n",
            "Training Perplexity: 1.224\n",
            "Test Perplexity: 1.176\n",
            "Validation Perplexity: 1.167\n",
            "Training Accuracy: 0.935\n",
            "Test Accuracy: 0.938\n",
            "Validation Accuracy: 0.939\n",
            "\n",
            " Epoch 17 / 40\n",
            "  Batch    50  of    863.\n",
            "  Batch   100  of    863.\n",
            "  Batch   150  of    863.\n",
            "  Batch   200  of    863.\n",
            "  Batch   250  of    863.\n",
            "  Batch   300  of    863.\n",
            "  Batch   350  of    863.\n",
            "  Batch   400  of    863.\n",
            "  Batch   450  of    863.\n",
            "  Batch   500  of    863.\n",
            "  Batch   550  of    863.\n",
            "  Batch   600  of    863.\n",
            "  Batch   650  of    863.\n",
            "  Batch   700  of    863.\n",
            "  Batch   750  of    863.\n",
            "  Batch   800  of    863.\n",
            "  Batch   850  of    863.\n",
            "\n",
            "Evaluating...\n",
            "  Batch    50  of    185.\n",
            "  Batch   100  of    185.\n",
            "  Batch   150  of    185.\n",
            "\n",
            "Evaluating...\n",
            "  Batch    50  of    185.\n",
            "  Batch   100  of    185.\n",
            "  Batch   150  of    185.\n",
            "Saving model.\n"
          ]
        },
        {
          "data": {
            "application/vnd.jupyter.widget-view+json": {
              "model_id": "17ea942ca31b4dfa8d7f4948fa311c14",
              "version_major": 2,
              "version_minor": 0
            },
            "text/plain": [
              "  0%|          | 0/863 [00:00<?, ?it/s]"
            ]
          },
          "metadata": {},
          "output_type": "display_data"
        },
        {
          "data": {
            "application/vnd.jupyter.widget-view+json": {
              "model_id": "3711aae1a2614432a78b8cfe4dd38ad1",
              "version_major": 2,
              "version_minor": 0
            },
            "text/plain": [
              "  0%|          | 0/185 [00:00<?, ?it/s]"
            ]
          },
          "metadata": {},
          "output_type": "display_data"
        },
        {
          "data": {
            "application/vnd.jupyter.widget-view+json": {
              "model_id": "8e94511bab4447aca415116ba8efd802",
              "version_major": 2,
              "version_minor": 0
            },
            "text/plain": [
              "  0%|          | 0/185 [00:00<?, ?it/s]"
            ]
          },
          "metadata": {},
          "output_type": "display_data"
        },
        {
          "metadata": {
            "tags": null
          },
          "name": "stdout",
          "output_type": "stream",
          "text": [
            "\n",
            "Training Loss: 172.123\n",
            "\n",
            "Test Loss: 29.496\n",
            "Validation Loss: 28.292\n",
            "Training Perplexity: 1.221\n",
            "Test Perplexity: 1.173\n",
            "Validation Perplexity: 1.165\n",
            "Training Accuracy: 0.934\n",
            "Test Accuracy: 0.936\n",
            "Validation Accuracy: 0.935\n",
            "\n",
            " Epoch 18 / 40\n",
            "  Batch    50  of    863.\n",
            "  Batch   100  of    863.\n",
            "  Batch   150  of    863.\n",
            "  Batch   200  of    863.\n",
            "  Batch   250  of    863.\n",
            "  Batch   300  of    863.\n",
            "  Batch   350  of    863.\n",
            "  Batch   400  of    863.\n",
            "  Batch   450  of    863.\n",
            "  Batch   500  of    863.\n",
            "  Batch   550  of    863.\n",
            "  Batch   600  of    863.\n",
            "  Batch   650  of    863.\n",
            "  Batch   700  of    863.\n",
            "  Batch   750  of    863.\n",
            "  Batch   800  of    863.\n",
            "  Batch   850  of    863.\n",
            "\n",
            "Evaluating...\n",
            "  Batch    50  of    185.\n",
            "  Batch   100  of    185.\n",
            "  Batch   150  of    185.\n",
            "\n",
            "Evaluating...\n",
            "  Batch    50  of    185.\n",
            "  Batch   100  of    185.\n",
            "  Batch   150  of    185.\n",
            "Saving model.\n"
          ]
        },
        {
          "data": {
            "application/vnd.jupyter.widget-view+json": {
              "model_id": "4ac7b858799e414bb907d97516a6b78d",
              "version_major": 2,
              "version_minor": 0
            },
            "text/plain": [
              "  0%|          | 0/863 [00:00<?, ?it/s]"
            ]
          },
          "metadata": {},
          "output_type": "display_data"
        },
        {
          "data": {
            "application/vnd.jupyter.widget-view+json": {
              "model_id": "889238551c254a25a0b11115dd1ad9a5",
              "version_major": 2,
              "version_minor": 0
            },
            "text/plain": [
              "  0%|          | 0/185 [00:00<?, ?it/s]"
            ]
          },
          "metadata": {},
          "output_type": "display_data"
        },
        {
          "data": {
            "application/vnd.jupyter.widget-view+json": {
              "model_id": "eb9d5187176d4226af444e053b0ce39f",
              "version_major": 2,
              "version_minor": 0
            },
            "text/plain": [
              "  0%|          | 0/185 [00:00<?, ?it/s]"
            ]
          },
          "metadata": {},
          "output_type": "display_data"
        },
        {
          "metadata": {
            "tags": null
          },
          "name": "stdout",
          "output_type": "stream",
          "text": [
            "\n",
            "Training Loss: 173.746\n",
            "\n",
            "Test Loss: 28.686\n",
            "Validation Loss: 27.438\n",
            "Training Perplexity: 1.223\n",
            "Test Perplexity: 1.168\n",
            "Validation Perplexity: 1.160\n",
            "Training Accuracy: 0.937\n",
            "Test Accuracy: 0.939\n",
            "Validation Accuracy: 0.940\n",
            "\n",
            " Epoch 19 / 40\n",
            "  Batch    50  of    863.\n",
            "  Batch   100  of    863.\n",
            "  Batch   150  of    863.\n",
            "  Batch   200  of    863.\n",
            "  Batch   250  of    863.\n",
            "  Batch   300  of    863.\n",
            "  Batch   350  of    863.\n",
            "  Batch   400  of    863.\n",
            "  Batch   450  of    863.\n",
            "  Batch   500  of    863.\n",
            "  Batch   550  of    863.\n",
            "  Batch   600  of    863.\n",
            "  Batch   650  of    863.\n",
            "  Batch   700  of    863.\n",
            "  Batch   750  of    863.\n",
            "  Batch   800  of    863.\n",
            "  Batch   850  of    863.\n",
            "\n",
            "Evaluating...\n",
            "  Batch    50  of    185.\n",
            "  Batch   100  of    185.\n",
            "  Batch   150  of    185.\n",
            "\n",
            "Evaluating...\n",
            "  Batch    50  of    185.\n",
            "  Batch   100  of    185.\n",
            "  Batch   150  of    185.\n",
            "Saving model.\n"
          ]
        },
        {
          "data": {
            "application/vnd.jupyter.widget-view+json": {
              "model_id": "fc1cf8fa7fe9490b876105212d04f2ca",
              "version_major": 2,
              "version_minor": 0
            },
            "text/plain": [
              "  0%|          | 0/863 [00:00<?, ?it/s]"
            ]
          },
          "metadata": {},
          "output_type": "display_data"
        },
        {
          "data": {
            "application/vnd.jupyter.widget-view+json": {
              "model_id": "080619d8eb044f0abe984176ff76380f",
              "version_major": 2,
              "version_minor": 0
            },
            "text/plain": [
              "  0%|          | 0/185 [00:00<?, ?it/s]"
            ]
          },
          "metadata": {},
          "output_type": "display_data"
        },
        {
          "data": {
            "application/vnd.jupyter.widget-view+json": {
              "model_id": "c5f1642f1dbc4139ae815afbf685c55e",
              "version_major": 2,
              "version_minor": 0
            },
            "text/plain": [
              "  0%|          | 0/185 [00:00<?, ?it/s]"
            ]
          },
          "metadata": {},
          "output_type": "display_data"
        },
        {
          "metadata": {
            "tags": null
          },
          "name": "stdout",
          "output_type": "stream",
          "text": [
            "\n",
            "Training Loss: 168.988\n",
            "\n",
            "Test Loss: 28.271\n",
            "Validation Loss: 26.997\n",
            "Training Perplexity: 1.216\n",
            "Test Perplexity: 1.165\n",
            "Validation Perplexity: 1.157\n",
            "Training Accuracy: 0.937\n",
            "Test Accuracy: 0.939\n",
            "Validation Accuracy: 0.941\n",
            "\n",
            " Epoch 20 / 40\n",
            "  Batch    50  of    863.\n",
            "  Batch   100  of    863.\n",
            "  Batch   150  of    863.\n",
            "  Batch   200  of    863.\n",
            "  Batch   250  of    863.\n",
            "  Batch   300  of    863.\n",
            "  Batch   350  of    863.\n",
            "  Batch   400  of    863.\n",
            "  Batch   450  of    863.\n",
            "  Batch   500  of    863.\n",
            "  Batch   550  of    863.\n",
            "  Batch   600  of    863.\n",
            "  Batch   650  of    863.\n",
            "  Batch   700  of    863.\n",
            "  Batch   750  of    863.\n",
            "  Batch   800  of    863.\n",
            "  Batch   850  of    863.\n",
            "\n",
            "Evaluating...\n",
            "  Batch    50  of    185.\n",
            "  Batch   100  of    185.\n",
            "  Batch   150  of    185.\n",
            "\n",
            "Evaluating...\n",
            "  Batch    50  of    185.\n",
            "  Batch   100  of    185.\n",
            "  Batch   150  of    185.\n",
            "Saving model.\n"
          ]
        },
        {
          "data": {
            "application/vnd.jupyter.widget-view+json": {
              "model_id": "884e9dbf37ff49fc96665f73353d988e",
              "version_major": 2,
              "version_minor": 0
            },
            "text/plain": [
              "  0%|          | 0/863 [00:00<?, ?it/s]"
            ]
          },
          "metadata": {},
          "output_type": "display_data"
        },
        {
          "data": {
            "application/vnd.jupyter.widget-view+json": {
              "model_id": "67958854f83d419ba6b0c6a72b9cb82c",
              "version_major": 2,
              "version_minor": 0
            },
            "text/plain": [
              "  0%|          | 0/185 [00:00<?, ?it/s]"
            ]
          },
          "metadata": {},
          "output_type": "display_data"
        },
        {
          "data": {
            "application/vnd.jupyter.widget-view+json": {
              "model_id": "79ee77d67a314e3bafe727c66c00e89f",
              "version_major": 2,
              "version_minor": 0
            },
            "text/plain": [
              "  0%|          | 0/185 [00:00<?, ?it/s]"
            ]
          },
          "metadata": {},
          "output_type": "display_data"
        },
        {
          "metadata": {
            "tags": null
          },
          "name": "stdout",
          "output_type": "stream",
          "text": [
            "\n",
            "Training Loss: 167.010\n",
            "\n",
            "Test Loss: 27.993\n",
            "Validation Loss: 26.687\n",
            "Training Perplexity: 1.214\n",
            "Test Perplexity: 1.163\n",
            "Validation Perplexity: 1.155\n",
            "Training Accuracy: 0.938\n",
            "Test Accuracy: 0.940\n",
            "Validation Accuracy: 0.940\n",
            "\n",
            " Epoch 21 / 40\n",
            "  Batch    50  of    863.\n",
            "  Batch   100  of    863.\n",
            "  Batch   150  of    863.\n",
            "  Batch   200  of    863.\n",
            "  Batch   250  of    863.\n",
            "  Batch   300  of    863.\n",
            "  Batch   350  of    863.\n",
            "  Batch   400  of    863.\n",
            "  Batch   450  of    863.\n",
            "  Batch   500  of    863.\n",
            "  Batch   550  of    863.\n",
            "  Batch   600  of    863.\n",
            "  Batch   650  of    863.\n",
            "  Batch   700  of    863.\n",
            "  Batch   750  of    863.\n",
            "  Batch   800  of    863.\n",
            "  Batch   850  of    863.\n",
            "\n",
            "Evaluating...\n",
            "  Batch    50  of    185.\n",
            "  Batch   100  of    185.\n",
            "  Batch   150  of    185.\n",
            "\n",
            "Evaluating...\n",
            "  Batch    50  of    185.\n",
            "  Batch   100  of    185.\n",
            "  Batch   150  of    185.\n"
          ]
        },
        {
          "data": {
            "application/vnd.jupyter.widget-view+json": {
              "model_id": "f5a2d5e8297a4fc8b11a1db630cdfe98",
              "version_major": 2,
              "version_minor": 0
            },
            "text/plain": [
              "  0%|          | 0/863 [00:00<?, ?it/s]"
            ]
          },
          "metadata": {},
          "output_type": "display_data"
        },
        {
          "data": {
            "application/vnd.jupyter.widget-view+json": {
              "model_id": "8d14cd4616ac4901a95a3d8f12d71a3e",
              "version_major": 2,
              "version_minor": 0
            },
            "text/plain": [
              "  0%|          | 0/185 [00:00<?, ?it/s]"
            ]
          },
          "metadata": {},
          "output_type": "display_data"
        },
        {
          "data": {
            "application/vnd.jupyter.widget-view+json": {
              "model_id": "1c3af5bb96474dc39d57d23c9b1dca5b",
              "version_major": 2,
              "version_minor": 0
            },
            "text/plain": [
              "  0%|          | 0/185 [00:00<?, ?it/s]"
            ]
          },
          "metadata": {},
          "output_type": "display_data"
        },
        {
          "metadata": {
            "tags": null
          },
          "name": "stdout",
          "output_type": "stream",
          "text": [
            "\n",
            "Training Loss: 166.132\n",
            "\n",
            "Test Loss: 28.576\n",
            "Validation Loss: 27.266\n",
            "Training Perplexity: 1.212\n",
            "Test Perplexity: 1.167\n",
            "Validation Perplexity: 1.159\n",
            "Training Accuracy: 0.936\n",
            "Test Accuracy: 0.939\n",
            "Validation Accuracy: 0.939\n",
            "\n",
            " Epoch 22 / 40\n",
            "  Batch    50  of    863.\n",
            "  Batch   100  of    863.\n",
            "  Batch   150  of    863.\n",
            "  Batch   200  of    863.\n",
            "  Batch   250  of    863.\n",
            "  Batch   300  of    863.\n",
            "  Batch   350  of    863.\n",
            "  Batch   400  of    863.\n",
            "  Batch   450  of    863.\n",
            "  Batch   500  of    863.\n",
            "  Batch   550  of    863.\n",
            "  Batch   600  of    863.\n",
            "  Batch   650  of    863.\n",
            "  Batch   700  of    863.\n",
            "  Batch   750  of    863.\n",
            "  Batch   800  of    863.\n",
            "  Batch   850  of    863.\n",
            "\n",
            "Evaluating...\n",
            "  Batch    50  of    185.\n",
            "  Batch   100  of    185.\n",
            "  Batch   150  of    185.\n",
            "\n",
            "Evaluating...\n",
            "  Batch    50  of    185.\n",
            "  Batch   100  of    185.\n",
            "  Batch   150  of    185.\n",
            "Saving model.\n"
          ]
        },
        {
          "data": {
            "application/vnd.jupyter.widget-view+json": {
              "model_id": "0bdb9943594b45e6b22baf5c9ae00355",
              "version_major": 2,
              "version_minor": 0
            },
            "text/plain": [
              "  0%|          | 0/863 [00:00<?, ?it/s]"
            ]
          },
          "metadata": {},
          "output_type": "display_data"
        },
        {
          "data": {
            "application/vnd.jupyter.widget-view+json": {
              "model_id": "d95f4d1e53234211801d594f71277eb1",
              "version_major": 2,
              "version_minor": 0
            },
            "text/plain": [
              "  0%|          | 0/185 [00:00<?, ?it/s]"
            ]
          },
          "metadata": {},
          "output_type": "display_data"
        },
        {
          "data": {
            "application/vnd.jupyter.widget-view+json": {
              "model_id": "6968c62059ad4ce986322fac9f768fcf",
              "version_major": 2,
              "version_minor": 0
            },
            "text/plain": [
              "  0%|          | 0/185 [00:00<?, ?it/s]"
            ]
          },
          "metadata": {},
          "output_type": "display_data"
        },
        {
          "metadata": {
            "tags": null
          },
          "name": "stdout",
          "output_type": "stream",
          "text": [
            "\n",
            "Training Loss: 164.205\n",
            "\n",
            "Test Loss: 27.548\n",
            "Validation Loss: 26.187\n",
            "Training Perplexity: 1.210\n",
            "Test Perplexity: 1.161\n",
            "Validation Perplexity: 1.152\n",
            "Training Accuracy: 0.940\n",
            "Test Accuracy: 0.940\n",
            "Validation Accuracy: 0.940\n",
            "\n",
            " Epoch 23 / 40\n",
            "  Batch    50  of    863.\n",
            "  Batch   100  of    863.\n",
            "  Batch   150  of    863.\n",
            "  Batch   200  of    863.\n",
            "  Batch   250  of    863.\n",
            "  Batch   300  of    863.\n",
            "  Batch   350  of    863.\n",
            "  Batch   400  of    863.\n",
            "  Batch   450  of    863.\n",
            "  Batch   500  of    863.\n",
            "  Batch   550  of    863.\n",
            "  Batch   600  of    863.\n",
            "  Batch   650  of    863.\n",
            "  Batch   700  of    863.\n",
            "  Batch   750  of    863.\n",
            "  Batch   800  of    863.\n",
            "  Batch   850  of    863.\n",
            "\n",
            "Evaluating...\n",
            "  Batch    50  of    185.\n",
            "  Batch   100  of    185.\n",
            "  Batch   150  of    185.\n",
            "\n",
            "Evaluating...\n",
            "  Batch    50  of    185.\n",
            "  Batch   100  of    185.\n",
            "  Batch   150  of    185.\n",
            "Saving model.\n"
          ]
        },
        {
          "data": {
            "application/vnd.jupyter.widget-view+json": {
              "model_id": "ab22aa9e65f34b16bc0a34e7e84d1eb3",
              "version_major": 2,
              "version_minor": 0
            },
            "text/plain": [
              "  0%|          | 0/863 [00:00<?, ?it/s]"
            ]
          },
          "metadata": {},
          "output_type": "display_data"
        },
        {
          "data": {
            "application/vnd.jupyter.widget-view+json": {
              "model_id": "a13d5e8a21554daf9647efd22a5ea127",
              "version_major": 2,
              "version_minor": 0
            },
            "text/plain": [
              "  0%|          | 0/185 [00:00<?, ?it/s]"
            ]
          },
          "metadata": {},
          "output_type": "display_data"
        },
        {
          "data": {
            "application/vnd.jupyter.widget-view+json": {
              "model_id": "bc65f0bfdc7f46a9b47b19873dec6bc9",
              "version_major": 2,
              "version_minor": 0
            },
            "text/plain": [
              "  0%|          | 0/185 [00:00<?, ?it/s]"
            ]
          },
          "metadata": {},
          "output_type": "display_data"
        },
        {
          "metadata": {
            "tags": null
          },
          "name": "stdout",
          "output_type": "stream",
          "text": [
            "\n",
            "Training Loss: 164.756\n",
            "\n",
            "Test Loss: 27.401\n",
            "Validation Loss: 26.045\n",
            "Training Perplexity: 1.210\n",
            "Test Perplexity: 1.160\n",
            "Validation Perplexity: 1.151\n",
            "Training Accuracy: 0.940\n",
            "Test Accuracy: 0.942\n",
            "Validation Accuracy: 0.942\n",
            "\n",
            " Epoch 24 / 40\n",
            "  Batch    50  of    863.\n",
            "  Batch   100  of    863.\n",
            "  Batch   150  of    863.\n",
            "  Batch   200  of    863.\n",
            "  Batch   250  of    863.\n",
            "  Batch   300  of    863.\n",
            "  Batch   350  of    863.\n",
            "  Batch   400  of    863.\n",
            "  Batch   450  of    863.\n",
            "  Batch   500  of    863.\n",
            "  Batch   550  of    863.\n",
            "  Batch   600  of    863.\n",
            "  Batch   650  of    863.\n",
            "  Batch   700  of    863.\n",
            "  Batch   750  of    863.\n",
            "  Batch   800  of    863.\n",
            "  Batch   850  of    863.\n",
            "\n",
            "Evaluating...\n",
            "  Batch    50  of    185.\n",
            "  Batch   100  of    185.\n",
            "  Batch   150  of    185.\n",
            "\n",
            "Evaluating...\n",
            "  Batch    50  of    185.\n",
            "  Batch   100  of    185.\n",
            "  Batch   150  of    185.\n",
            "Saving model.\n"
          ]
        },
        {
          "data": {
            "application/vnd.jupyter.widget-view+json": {
              "model_id": "a110f9aa79734b0d9a039ac72011feb4",
              "version_major": 2,
              "version_minor": 0
            },
            "text/plain": [
              "  0%|          | 0/863 [00:00<?, ?it/s]"
            ]
          },
          "metadata": {},
          "output_type": "display_data"
        },
        {
          "data": {
            "application/vnd.jupyter.widget-view+json": {
              "model_id": "dec49946ca2e415385092119478256dd",
              "version_major": 2,
              "version_minor": 0
            },
            "text/plain": [
              "  0%|          | 0/185 [00:00<?, ?it/s]"
            ]
          },
          "metadata": {},
          "output_type": "display_data"
        },
        {
          "data": {
            "application/vnd.jupyter.widget-view+json": {
              "model_id": "aed9072811f3460ca854f8a6cabbfdfa",
              "version_major": 2,
              "version_minor": 0
            },
            "text/plain": [
              "  0%|          | 0/185 [00:00<?, ?it/s]"
            ]
          },
          "metadata": {},
          "output_type": "display_data"
        },
        {
          "metadata": {
            "tags": null
          },
          "name": "stdout",
          "output_type": "stream",
          "text": [
            "\n",
            "Training Loss: 161.012\n",
            "\n",
            "Test Loss: 27.344\n",
            "Validation Loss: 25.973\n",
            "Training Perplexity: 1.205\n",
            "Test Perplexity: 1.159\n",
            "Validation Perplexity: 1.151\n",
            "Training Accuracy: 0.939\n",
            "Test Accuracy: 0.942\n",
            "Validation Accuracy: 0.942\n",
            "\n",
            " Epoch 25 / 40\n",
            "  Batch    50  of    863.\n",
            "  Batch   100  of    863.\n",
            "  Batch   150  of    863.\n",
            "  Batch   200  of    863.\n",
            "  Batch   250  of    863.\n",
            "  Batch   300  of    863.\n",
            "  Batch   350  of    863.\n",
            "  Batch   400  of    863.\n",
            "  Batch   450  of    863.\n",
            "  Batch   500  of    863.\n",
            "  Batch   550  of    863.\n",
            "  Batch   600  of    863.\n",
            "  Batch   650  of    863.\n",
            "  Batch   700  of    863.\n",
            "  Batch   750  of    863.\n",
            "  Batch   800  of    863.\n",
            "  Batch   850  of    863.\n",
            "\n",
            "Evaluating...\n",
            "  Batch    50  of    185.\n",
            "  Batch   100  of    185.\n",
            "  Batch   150  of    185.\n",
            "\n",
            "Evaluating...\n",
            "  Batch    50  of    185.\n",
            "  Batch   100  of    185.\n",
            "  Batch   150  of    185.\n",
            "Saving model.\n"
          ]
        },
        {
          "data": {
            "application/vnd.jupyter.widget-view+json": {
              "model_id": "4100fd72401940b4acc3544948017cdd",
              "version_major": 2,
              "version_minor": 0
            },
            "text/plain": [
              "  0%|          | 0/863 [00:00<?, ?it/s]"
            ]
          },
          "metadata": {},
          "output_type": "display_data"
        },
        {
          "data": {
            "application/vnd.jupyter.widget-view+json": {
              "model_id": "3859f7b00c514f928bfe38c0ed564a26",
              "version_major": 2,
              "version_minor": 0
            },
            "text/plain": [
              "  0%|          | 0/185 [00:00<?, ?it/s]"
            ]
          },
          "metadata": {},
          "output_type": "display_data"
        },
        {
          "data": {
            "application/vnd.jupyter.widget-view+json": {
              "model_id": "a9d66c21f72c4374b4b7fc8e1f19940a",
              "version_major": 2,
              "version_minor": 0
            },
            "text/plain": [
              "  0%|          | 0/185 [00:00<?, ?it/s]"
            ]
          },
          "metadata": {},
          "output_type": "display_data"
        },
        {
          "metadata": {
            "tags": null
          },
          "name": "stdout",
          "output_type": "stream",
          "text": [
            "\n",
            "Training Loss: 161.454\n",
            "\n",
            "Test Loss: 27.035\n",
            "Validation Loss: 25.647\n",
            "Training Perplexity: 1.206\n",
            "Test Perplexity: 1.157\n",
            "Validation Perplexity: 1.149\n",
            "Training Accuracy: 0.940\n",
            "Test Accuracy: 0.942\n",
            "Validation Accuracy: 0.943\n",
            "\n",
            " Epoch 26 / 40\n",
            "  Batch    50  of    863.\n",
            "  Batch   100  of    863.\n",
            "  Batch   150  of    863.\n",
            "  Batch   200  of    863.\n",
            "  Batch   250  of    863.\n",
            "  Batch   300  of    863.\n",
            "  Batch   350  of    863.\n",
            "  Batch   400  of    863.\n",
            "  Batch   450  of    863.\n",
            "  Batch   500  of    863.\n",
            "  Batch   550  of    863.\n",
            "  Batch   600  of    863.\n",
            "  Batch   650  of    863.\n",
            "  Batch   700  of    863.\n",
            "  Batch   750  of    863.\n",
            "  Batch   800  of    863.\n",
            "  Batch   850  of    863.\n",
            "\n",
            "Evaluating...\n",
            "  Batch    50  of    185.\n",
            "  Batch   100  of    185.\n",
            "  Batch   150  of    185.\n",
            "\n",
            "Evaluating...\n",
            "  Batch    50  of    185.\n",
            "  Batch   100  of    185.\n",
            "  Batch   150  of    185.\n",
            "Saving model.\n"
          ]
        },
        {
          "data": {
            "application/vnd.jupyter.widget-view+json": {
              "model_id": "a1c9adb9c7054c8fbc763dcdb9590e35",
              "version_major": 2,
              "version_minor": 0
            },
            "text/plain": [
              "  0%|          | 0/863 [00:00<?, ?it/s]"
            ]
          },
          "metadata": {},
          "output_type": "display_data"
        },
        {
          "data": {
            "application/vnd.jupyter.widget-view+json": {
              "model_id": "7d2ef7f0e7e449c68e444b8dde47252e",
              "version_major": 2,
              "version_minor": 0
            },
            "text/plain": [
              "  0%|          | 0/185 [00:00<?, ?it/s]"
            ]
          },
          "metadata": {},
          "output_type": "display_data"
        },
        {
          "data": {
            "application/vnd.jupyter.widget-view+json": {
              "model_id": "97bf03b9e8054157b52b53dbb6bc2e0a",
              "version_major": 2,
              "version_minor": 0
            },
            "text/plain": [
              "  0%|          | 0/185 [00:00<?, ?it/s]"
            ]
          },
          "metadata": {},
          "output_type": "display_data"
        },
        {
          "metadata": {
            "tags": null
          },
          "name": "stdout",
          "output_type": "stream",
          "text": [
            "\n",
            "Training Loss: 159.968\n",
            "\n",
            "Test Loss: 26.979\n",
            "Validation Loss: 25.539\n",
            "Training Perplexity: 1.204\n",
            "Test Perplexity: 1.157\n",
            "Validation Perplexity: 1.148\n",
            "Training Accuracy: 0.941\n",
            "Test Accuracy: 0.943\n",
            "Validation Accuracy: 0.943\n",
            "\n",
            " Epoch 27 / 40\n",
            "  Batch    50  of    863.\n",
            "  Batch   100  of    863.\n",
            "  Batch   150  of    863.\n",
            "  Batch   200  of    863.\n",
            "  Batch   250  of    863.\n",
            "  Batch   300  of    863.\n",
            "  Batch   350  of    863.\n",
            "  Batch   400  of    863.\n",
            "  Batch   450  of    863.\n",
            "  Batch   500  of    863.\n",
            "  Batch   550  of    863.\n",
            "  Batch   600  of    863.\n",
            "  Batch   650  of    863.\n",
            "  Batch   700  of    863.\n",
            "  Batch   750  of    863.\n",
            "  Batch   800  of    863.\n",
            "  Batch   850  of    863.\n",
            "\n",
            "Evaluating...\n",
            "  Batch    50  of    185.\n",
            "  Batch   100  of    185.\n",
            "  Batch   150  of    185.\n",
            "\n",
            "Evaluating...\n",
            "  Batch    50  of    185.\n",
            "  Batch   100  of    185.\n",
            "  Batch   150  of    185.\n"
          ]
        },
        {
          "data": {
            "application/vnd.jupyter.widget-view+json": {
              "model_id": "6b1174384b794254a7994a1ae39f62d9",
              "version_major": 2,
              "version_minor": 0
            },
            "text/plain": [
              "  0%|          | 0/863 [00:00<?, ?it/s]"
            ]
          },
          "metadata": {},
          "output_type": "display_data"
        },
        {
          "data": {
            "application/vnd.jupyter.widget-view+json": {
              "model_id": "630d8384f0c3414da33972150461158f",
              "version_major": 2,
              "version_minor": 0
            },
            "text/plain": [
              "  0%|          | 0/185 [00:00<?, ?it/s]"
            ]
          },
          "metadata": {},
          "output_type": "display_data"
        },
        {
          "data": {
            "application/vnd.jupyter.widget-view+json": {
              "model_id": "aad321cab8a5411ba264358b049a3cbe",
              "version_major": 2,
              "version_minor": 0
            },
            "text/plain": [
              "  0%|          | 0/185 [00:00<?, ?it/s]"
            ]
          },
          "metadata": {},
          "output_type": "display_data"
        },
        {
          "metadata": {
            "tags": null
          },
          "name": "stdout",
          "output_type": "stream",
          "text": [
            "\n",
            "Training Loss: 162.392\n",
            "\n",
            "Test Loss: 27.843\n",
            "Validation Loss: 26.393\n",
            "Training Perplexity: 1.207\n",
            "Test Perplexity: 1.162\n",
            "Validation Perplexity: 1.153\n",
            "Training Accuracy: 0.938\n",
            "Test Accuracy: 0.940\n",
            "Validation Accuracy: 0.940\n",
            "\n",
            " Epoch 28 / 40\n",
            "  Batch    50  of    863.\n",
            "  Batch   100  of    863.\n",
            "  Batch   150  of    863.\n",
            "  Batch   200  of    863.\n",
            "  Batch   250  of    863.\n",
            "  Batch   300  of    863.\n",
            "  Batch   350  of    863.\n",
            "  Batch   400  of    863.\n",
            "  Batch   450  of    863.\n",
            "  Batch   500  of    863.\n",
            "  Batch   550  of    863.\n",
            "  Batch   600  of    863.\n",
            "  Batch   650  of    863.\n",
            "  Batch   700  of    863.\n",
            "  Batch   750  of    863.\n",
            "  Batch   800  of    863.\n",
            "  Batch   850  of    863.\n",
            "\n",
            "Evaluating...\n",
            "  Batch    50  of    185.\n",
            "  Batch   100  of    185.\n",
            "  Batch   150  of    185.\n",
            "\n",
            "Evaluating...\n",
            "  Batch    50  of    185.\n",
            "  Batch   100  of    185.\n",
            "  Batch   150  of    185.\n",
            "Saving model.\n"
          ]
        },
        {
          "data": {
            "application/vnd.jupyter.widget-view+json": {
              "model_id": "d4ac114e2122451cbfa512035f67cfba",
              "version_major": 2,
              "version_minor": 0
            },
            "text/plain": [
              "  0%|          | 0/863 [00:00<?, ?it/s]"
            ]
          },
          "metadata": {},
          "output_type": "display_data"
        },
        {
          "data": {
            "application/vnd.jupyter.widget-view+json": {
              "model_id": "9bce6e555cf24d5fb52a906b7529ec58",
              "version_major": 2,
              "version_minor": 0
            },
            "text/plain": [
              "  0%|          | 0/185 [00:00<?, ?it/s]"
            ]
          },
          "metadata": {},
          "output_type": "display_data"
        },
        {
          "data": {
            "application/vnd.jupyter.widget-view+json": {
              "model_id": "a6a724f5f7fd467b860412ec7496df75",
              "version_major": 2,
              "version_minor": 0
            },
            "text/plain": [
              "  0%|          | 0/185 [00:00<?, ?it/s]"
            ]
          },
          "metadata": {},
          "output_type": "display_data"
        },
        {
          "metadata": {
            "tags": null
          },
          "name": "stdout",
          "output_type": "stream",
          "text": [
            "\n",
            "Training Loss: 158.563\n",
            "\n",
            "Test Loss: 26.575\n",
            "Validation Loss: 25.102\n",
            "Training Perplexity: 1.202\n",
            "Test Perplexity: 1.154\n",
            "Validation Perplexity: 1.145\n",
            "Training Accuracy: 0.942\n",
            "Test Accuracy: 0.945\n",
            "Validation Accuracy: 0.944\n",
            "\n",
            " Epoch 29 / 40\n",
            "  Batch    50  of    863.\n",
            "  Batch   100  of    863.\n",
            "  Batch   150  of    863.\n",
            "  Batch   200  of    863.\n",
            "  Batch   250  of    863.\n",
            "  Batch   300  of    863.\n",
            "  Batch   350  of    863.\n",
            "  Batch   400  of    863.\n",
            "  Batch   450  of    863.\n",
            "  Batch   500  of    863.\n",
            "  Batch   550  of    863.\n",
            "  Batch   600  of    863.\n",
            "  Batch   650  of    863.\n",
            "  Batch   700  of    863.\n",
            "  Batch   750  of    863.\n",
            "  Batch   800  of    863.\n",
            "  Batch   850  of    863.\n",
            "\n",
            "Evaluating...\n",
            "  Batch    50  of    185.\n",
            "  Batch   100  of    185.\n",
            "  Batch   150  of    185.\n",
            "\n",
            "Evaluating...\n",
            "  Batch    50  of    185.\n",
            "  Batch   100  of    185.\n",
            "  Batch   150  of    185.\n",
            "Saving model.\n"
          ]
        },
        {
          "data": {
            "application/vnd.jupyter.widget-view+json": {
              "model_id": "f937023709434655961e76058f9cd570",
              "version_major": 2,
              "version_minor": 0
            },
            "text/plain": [
              "  0%|          | 0/863 [00:00<?, ?it/s]"
            ]
          },
          "metadata": {},
          "output_type": "display_data"
        },
        {
          "data": {
            "application/vnd.jupyter.widget-view+json": {
              "model_id": "0f4f3bf682214beeb9247f68c877211e",
              "version_major": 2,
              "version_minor": 0
            },
            "text/plain": [
              "  0%|          | 0/185 [00:00<?, ?it/s]"
            ]
          },
          "metadata": {},
          "output_type": "display_data"
        },
        {
          "data": {
            "application/vnd.jupyter.widget-view+json": {
              "model_id": "a8925dd5ddf5481b8987ab1259c75c0d",
              "version_major": 2,
              "version_minor": 0
            },
            "text/plain": [
              "  0%|          | 0/185 [00:00<?, ?it/s]"
            ]
          },
          "metadata": {},
          "output_type": "display_data"
        },
        {
          "metadata": {
            "tags": null
          },
          "name": "stdout",
          "output_type": "stream",
          "text": [
            "\n",
            "Training Loss: 158.853\n",
            "\n",
            "Test Loss: 26.215\n",
            "Validation Loss: 24.729\n",
            "Training Perplexity: 1.202\n",
            "Test Perplexity: 1.152\n",
            "Validation Perplexity: 1.143\n",
            "Training Accuracy: 0.943\n",
            "Test Accuracy: 0.945\n",
            "Validation Accuracy: 0.945\n",
            "\n",
            " Epoch 30 / 40\n",
            "  Batch    50  of    863.\n",
            "  Batch   100  of    863.\n",
            "  Batch   150  of    863.\n",
            "  Batch   200  of    863.\n",
            "  Batch   250  of    863.\n",
            "  Batch   300  of    863.\n",
            "  Batch   350  of    863.\n",
            "  Batch   400  of    863.\n",
            "  Batch   450  of    863.\n",
            "  Batch   500  of    863.\n",
            "  Batch   550  of    863.\n",
            "  Batch   600  of    863.\n",
            "  Batch   650  of    863.\n",
            "  Batch   700  of    863.\n",
            "  Batch   750  of    863.\n",
            "  Batch   800  of    863.\n",
            "  Batch   850  of    863.\n",
            "\n",
            "Evaluating...\n",
            "  Batch    50  of    185.\n",
            "  Batch   100  of    185.\n",
            "  Batch   150  of    185.\n",
            "\n",
            "Evaluating...\n",
            "  Batch    50  of    185.\n",
            "  Batch   100  of    185.\n",
            "  Batch   150  of    185.\n"
          ]
        },
        {
          "data": {
            "application/vnd.jupyter.widget-view+json": {
              "model_id": "7660d8f8fab240a5b4f652afeea5e8fb",
              "version_major": 2,
              "version_minor": 0
            },
            "text/plain": [
              "  0%|          | 0/863 [00:00<?, ?it/s]"
            ]
          },
          "metadata": {},
          "output_type": "display_data"
        },
        {
          "data": {
            "application/vnd.jupyter.widget-view+json": {
              "model_id": "7353ce707194414291ddbf8fa9a1bfd9",
              "version_major": 2,
              "version_minor": 0
            },
            "text/plain": [
              "  0%|          | 0/185 [00:00<?, ?it/s]"
            ]
          },
          "metadata": {},
          "output_type": "display_data"
        },
        {
          "data": {
            "application/vnd.jupyter.widget-view+json": {
              "model_id": "7425ba24de614c6a85b520dcce21e074",
              "version_major": 2,
              "version_minor": 0
            },
            "text/plain": [
              "  0%|          | 0/185 [00:00<?, ?it/s]"
            ]
          },
          "metadata": {},
          "output_type": "display_data"
        },
        {
          "metadata": {
            "tags": null
          },
          "name": "stdout",
          "output_type": "stream",
          "text": [
            "\n",
            "Training Loss: 156.674\n",
            "\n",
            "Test Loss: 26.688\n",
            "Validation Loss: 25.208\n",
            "Training Perplexity: 1.199\n",
            "Test Perplexity: 1.155\n",
            "Validation Perplexity: 1.146\n",
            "Training Accuracy: 0.941\n",
            "Test Accuracy: 0.943\n",
            "Validation Accuracy: 0.942\n",
            "\n",
            " Epoch 31 / 40\n",
            "  Batch    50  of    863.\n",
            "  Batch   100  of    863.\n",
            "  Batch   150  of    863.\n",
            "  Batch   200  of    863.\n",
            "  Batch   250  of    863.\n",
            "  Batch   300  of    863.\n",
            "  Batch   350  of    863.\n",
            "  Batch   400  of    863.\n",
            "  Batch   450  of    863.\n",
            "  Batch   500  of    863.\n",
            "  Batch   550  of    863.\n",
            "  Batch   600  of    863.\n",
            "  Batch   650  of    863.\n",
            "  Batch   700  of    863.\n",
            "  Batch   750  of    863.\n",
            "  Batch   800  of    863.\n",
            "  Batch   850  of    863.\n",
            "\n",
            "Evaluating...\n",
            "  Batch    50  of    185.\n",
            "  Batch   100  of    185.\n",
            "  Batch   150  of    185.\n",
            "\n",
            "Evaluating...\n",
            "  Batch    50  of    185.\n",
            "  Batch   100  of    185.\n",
            "  Batch   150  of    185.\n",
            "Saving model.\n"
          ]
        },
        {
          "data": {
            "application/vnd.jupyter.widget-view+json": {
              "model_id": "2597e9236dcc4da3880b023d68e56a49",
              "version_major": 2,
              "version_minor": 0
            },
            "text/plain": [
              "  0%|          | 0/863 [00:00<?, ?it/s]"
            ]
          },
          "metadata": {},
          "output_type": "display_data"
        },
        {
          "data": {
            "application/vnd.jupyter.widget-view+json": {
              "model_id": "435242d31ca24a1f9a5e2245002846c4",
              "version_major": 2,
              "version_minor": 0
            },
            "text/plain": [
              "  0%|          | 0/185 [00:00<?, ?it/s]"
            ]
          },
          "metadata": {},
          "output_type": "display_data"
        },
        {
          "data": {
            "application/vnd.jupyter.widget-view+json": {
              "model_id": "0ab8c40b836343068385606564934a24",
              "version_major": 2,
              "version_minor": 0
            },
            "text/plain": [
              "  0%|          | 0/185 [00:00<?, ?it/s]"
            ]
          },
          "metadata": {},
          "output_type": "display_data"
        },
        {
          "metadata": {
            "tags": null
          },
          "name": "stdout",
          "output_type": "stream",
          "text": [
            "\n",
            "Training Loss: 158.905\n",
            "\n",
            "Test Loss: 25.837\n",
            "Validation Loss: 24.328\n",
            "Training Perplexity: 1.202\n",
            "Test Perplexity: 1.150\n",
            "Validation Perplexity: 1.141\n",
            "Training Accuracy: 0.944\n",
            "Test Accuracy: 0.945\n",
            "Validation Accuracy: 0.946\n",
            "\n",
            " Epoch 32 / 40\n",
            "  Batch    50  of    863.\n",
            "  Batch   100  of    863.\n",
            "  Batch   150  of    863.\n",
            "  Batch   200  of    863.\n",
            "  Batch   250  of    863.\n",
            "  Batch   300  of    863.\n",
            "  Batch   350  of    863.\n",
            "  Batch   400  of    863.\n",
            "  Batch   450  of    863.\n",
            "  Batch   500  of    863.\n",
            "  Batch   550  of    863.\n",
            "  Batch   600  of    863.\n",
            "  Batch   650  of    863.\n",
            "  Batch   700  of    863.\n",
            "  Batch   750  of    863.\n",
            "  Batch   800  of    863.\n",
            "  Batch   850  of    863.\n",
            "\n",
            "Evaluating...\n",
            "  Batch    50  of    185.\n",
            "  Batch   100  of    185.\n",
            "  Batch   150  of    185.\n",
            "\n",
            "Evaluating...\n",
            "  Batch    50  of    185.\n",
            "  Batch   100  of    185.\n",
            "  Batch   150  of    185.\n"
          ]
        },
        {
          "data": {
            "application/vnd.jupyter.widget-view+json": {
              "model_id": "600a232eb6594d5b801f5ff9b54a2986",
              "version_major": 2,
              "version_minor": 0
            },
            "text/plain": [
              "  0%|          | 0/863 [00:00<?, ?it/s]"
            ]
          },
          "metadata": {},
          "output_type": "display_data"
        },
        {
          "data": {
            "application/vnd.jupyter.widget-view+json": {
              "model_id": "6da995e96e364f3f878d9916e0f86f10",
              "version_major": 2,
              "version_minor": 0
            },
            "text/plain": [
              "  0%|          | 0/185 [00:00<?, ?it/s]"
            ]
          },
          "metadata": {},
          "output_type": "display_data"
        },
        {
          "data": {
            "application/vnd.jupyter.widget-view+json": {
              "model_id": "f31f10e5c9b24540b13f70d9a1aa44c7",
              "version_major": 2,
              "version_minor": 0
            },
            "text/plain": [
              "  0%|          | 0/185 [00:00<?, ?it/s]"
            ]
          },
          "metadata": {},
          "output_type": "display_data"
        },
        {
          "metadata": {
            "tags": null
          },
          "name": "stdout",
          "output_type": "stream",
          "text": [
            "\n",
            "Training Loss: 155.690\n",
            "\n",
            "Test Loss: 26.239\n",
            "Validation Loss: 24.695\n",
            "Training Perplexity: 1.198\n",
            "Test Perplexity: 1.152\n",
            "Validation Perplexity: 1.143\n",
            "Training Accuracy: 0.943\n",
            "Test Accuracy: 0.943\n",
            "Validation Accuracy: 0.946\n",
            "\n",
            " Epoch 33 / 40\n",
            "  Batch    50  of    863.\n",
            "  Batch   100  of    863.\n",
            "  Batch   150  of    863.\n",
            "  Batch   200  of    863.\n",
            "  Batch   250  of    863.\n",
            "  Batch   300  of    863.\n",
            "  Batch   350  of    863.\n",
            "  Batch   400  of    863.\n",
            "  Batch   450  of    863.\n",
            "  Batch   500  of    863.\n",
            "  Batch   550  of    863.\n",
            "  Batch   600  of    863.\n",
            "  Batch   650  of    863.\n",
            "  Batch   700  of    863.\n",
            "  Batch   750  of    863.\n",
            "  Batch   800  of    863.\n",
            "  Batch   850  of    863.\n",
            "\n",
            "Evaluating...\n",
            "  Batch    50  of    185.\n",
            "  Batch   100  of    185.\n",
            "  Batch   150  of    185.\n",
            "\n",
            "Evaluating...\n",
            "  Batch    50  of    185.\n",
            "  Batch   100  of    185.\n",
            "  Batch   150  of    185.\n"
          ]
        },
        {
          "data": {
            "application/vnd.jupyter.widget-view+json": {
              "model_id": "04356ab1286a4addad97857daa375861",
              "version_major": 2,
              "version_minor": 0
            },
            "text/plain": [
              "  0%|          | 0/863 [00:00<?, ?it/s]"
            ]
          },
          "metadata": {},
          "output_type": "display_data"
        },
        {
          "data": {
            "application/vnd.jupyter.widget-view+json": {
              "model_id": "4d42c72bb5a14266adb54a94127760f1",
              "version_major": 2,
              "version_minor": 0
            },
            "text/plain": [
              "  0%|          | 0/185 [00:00<?, ?it/s]"
            ]
          },
          "metadata": {},
          "output_type": "display_data"
        },
        {
          "data": {
            "application/vnd.jupyter.widget-view+json": {
              "model_id": "a6e227097f254db596d137c340ed7013",
              "version_major": 2,
              "version_minor": 0
            },
            "text/plain": [
              "  0%|          | 0/185 [00:00<?, ?it/s]"
            ]
          },
          "metadata": {},
          "output_type": "display_data"
        },
        {
          "metadata": {
            "tags": null
          },
          "name": "stdout",
          "output_type": "stream",
          "text": [
            "\n",
            "Training Loss: 157.051\n",
            "\n",
            "Test Loss: 27.099\n",
            "Validation Loss: 25.584\n",
            "Training Perplexity: 1.200\n",
            "Test Perplexity: 1.158\n",
            "Validation Perplexity: 1.148\n",
            "Training Accuracy: 0.940\n",
            "Test Accuracy: 0.942\n",
            "Validation Accuracy: 0.942\n",
            "\n",
            " Epoch 34 / 40\n",
            "  Batch    50  of    863.\n",
            "  Batch   100  of    863.\n",
            "  Batch   150  of    863.\n",
            "  Batch   200  of    863.\n",
            "  Batch   250  of    863.\n",
            "  Batch   300  of    863.\n",
            "  Batch   350  of    863.\n",
            "  Batch   400  of    863.\n",
            "  Batch   450  of    863.\n",
            "  Batch   500  of    863.\n",
            "  Batch   550  of    863.\n",
            "  Batch   600  of    863.\n",
            "  Batch   650  of    863.\n",
            "  Batch   700  of    863.\n",
            "  Batch   750  of    863.\n",
            "  Batch   800  of    863.\n",
            "  Batch   850  of    863.\n",
            "\n",
            "Evaluating...\n",
            "  Batch    50  of    185.\n",
            "  Batch   100  of    185.\n",
            "  Batch   150  of    185.\n",
            "\n",
            "Evaluating...\n",
            "  Batch    50  of    185.\n",
            "  Batch   100  of    185.\n",
            "  Batch   150  of    185.\n"
          ]
        },
        {
          "data": {
            "application/vnd.jupyter.widget-view+json": {
              "model_id": "6b61b354c9c440a599edd10b676b015a",
              "version_major": 2,
              "version_minor": 0
            },
            "text/plain": [
              "  0%|          | 0/863 [00:00<?, ?it/s]"
            ]
          },
          "metadata": {},
          "output_type": "display_data"
        },
        {
          "data": {
            "application/vnd.jupyter.widget-view+json": {
              "model_id": "b3ad67811a984c3399c2578b11f1d33e",
              "version_major": 2,
              "version_minor": 0
            },
            "text/plain": [
              "  0%|          | 0/185 [00:00<?, ?it/s]"
            ]
          },
          "metadata": {},
          "output_type": "display_data"
        },
        {
          "data": {
            "application/vnd.jupyter.widget-view+json": {
              "model_id": "a78bf077f186457598d19b096530dcb7",
              "version_major": 2,
              "version_minor": 0
            },
            "text/plain": [
              "  0%|          | 0/185 [00:00<?, ?it/s]"
            ]
          },
          "metadata": {},
          "output_type": "display_data"
        },
        {
          "metadata": {
            "tags": null
          },
          "name": "stdout",
          "output_type": "stream",
          "text": [
            "\n",
            "Training Loss: 155.214\n",
            "\n",
            "Test Loss: 26.707\n",
            "Validation Loss: 25.214\n",
            "Training Perplexity: 1.197\n",
            "Test Perplexity: 1.155\n",
            "Validation Perplexity: 1.146\n",
            "Training Accuracy: 0.940\n",
            "Test Accuracy: 0.943\n",
            "Validation Accuracy: 0.943\n",
            "\n",
            " Epoch 35 / 40\n",
            "  Batch    50  of    863.\n",
            "  Batch   100  of    863.\n",
            "  Batch   150  of    863.\n",
            "  Batch   200  of    863.\n",
            "  Batch   250  of    863.\n",
            "  Batch   300  of    863.\n",
            "  Batch   350  of    863.\n",
            "  Batch   400  of    863.\n",
            "  Batch   450  of    863.\n",
            "  Batch   500  of    863.\n",
            "  Batch   550  of    863.\n",
            "  Batch   600  of    863.\n",
            "  Batch   650  of    863.\n",
            "  Batch   700  of    863.\n",
            "  Batch   750  of    863.\n",
            "  Batch   800  of    863.\n",
            "  Batch   850  of    863.\n",
            "\n",
            "Evaluating...\n",
            "  Batch    50  of    185.\n",
            "  Batch   100  of    185.\n",
            "  Batch   150  of    185.\n",
            "\n",
            "Evaluating...\n",
            "  Batch    50  of    185.\n",
            "  Batch   100  of    185.\n",
            "  Batch   150  of    185.\n",
            "Saving model.\n"
          ]
        },
        {
          "data": {
            "application/vnd.jupyter.widget-view+json": {
              "model_id": "7b4b859454c744dfa20c4a9ebfcc73f6",
              "version_major": 2,
              "version_minor": 0
            },
            "text/plain": [
              "  0%|          | 0/863 [00:00<?, ?it/s]"
            ]
          },
          "metadata": {},
          "output_type": "display_data"
        },
        {
          "data": {
            "application/vnd.jupyter.widget-view+json": {
              "model_id": "2654a177ab5643069acf4aea9c665c15",
              "version_major": 2,
              "version_minor": 0
            },
            "text/plain": [
              "  0%|          | 0/185 [00:00<?, ?it/s]"
            ]
          },
          "metadata": {},
          "output_type": "display_data"
        },
        {
          "data": {
            "application/vnd.jupyter.widget-view+json": {
              "model_id": "3a3c7b559d274695879ef649b37f3750",
              "version_major": 2,
              "version_minor": 0
            },
            "text/plain": [
              "  0%|          | 0/185 [00:00<?, ?it/s]"
            ]
          },
          "metadata": {},
          "output_type": "display_data"
        },
        {
          "metadata": {
            "tags": null
          },
          "name": "stdout",
          "output_type": "stream",
          "text": [
            "\n",
            "Training Loss: 154.725\n",
            "\n",
            "Test Loss: 25.335\n",
            "Validation Loss: 23.775\n",
            "Training Perplexity: 1.196\n",
            "Test Perplexity: 1.147\n",
            "Validation Perplexity: 1.137\n",
            "Training Accuracy: 0.945\n",
            "Test Accuracy: 0.946\n",
            "Validation Accuracy: 0.948\n",
            "\n",
            " Epoch 36 / 40\n",
            "  Batch    50  of    863.\n",
            "  Batch   100  of    863.\n",
            "  Batch   150  of    863.\n",
            "  Batch   200  of    863.\n",
            "  Batch   250  of    863.\n",
            "  Batch   300  of    863.\n",
            "  Batch   350  of    863.\n",
            "  Batch   400  of    863.\n",
            "  Batch   450  of    863.\n",
            "  Batch   500  of    863.\n",
            "  Batch   550  of    863.\n",
            "  Batch   600  of    863.\n",
            "  Batch   650  of    863.\n",
            "  Batch   700  of    863.\n",
            "  Batch   750  of    863.\n",
            "  Batch   800  of    863.\n",
            "  Batch   850  of    863.\n",
            "\n",
            "Evaluating...\n",
            "  Batch    50  of    185.\n",
            "  Batch   100  of    185.\n",
            "  Batch   150  of    185.\n",
            "\n",
            "Evaluating...\n",
            "  Batch    50  of    185.\n",
            "  Batch   100  of    185.\n",
            "  Batch   150  of    185.\n"
          ]
        },
        {
          "data": {
            "application/vnd.jupyter.widget-view+json": {
              "model_id": "220d2c49c2d04f0b8d10897fac903890",
              "version_major": 2,
              "version_minor": 0
            },
            "text/plain": [
              "  0%|          | 0/863 [00:00<?, ?it/s]"
            ]
          },
          "metadata": {},
          "output_type": "display_data"
        },
        {
          "data": {
            "application/vnd.jupyter.widget-view+json": {
              "model_id": "ffffc67cae7f4ca8acac4b5bfcc7a345",
              "version_major": 2,
              "version_minor": 0
            },
            "text/plain": [
              "  0%|          | 0/185 [00:00<?, ?it/s]"
            ]
          },
          "metadata": {},
          "output_type": "display_data"
        },
        {
          "data": {
            "application/vnd.jupyter.widget-view+json": {
              "model_id": "dbf6dee65a874c50816372307b9bbe1d",
              "version_major": 2,
              "version_minor": 0
            },
            "text/plain": [
              "  0%|          | 0/185 [00:00<?, ?it/s]"
            ]
          },
          "metadata": {},
          "output_type": "display_data"
        },
        {
          "metadata": {
            "tags": null
          },
          "name": "stdout",
          "output_type": "stream",
          "text": [
            "\n",
            "Training Loss: 154.867\n",
            "\n",
            "Test Loss: 25.656\n",
            "Validation Loss: 24.110\n",
            "Training Perplexity: 1.197\n",
            "Test Perplexity: 1.149\n",
            "Validation Perplexity: 1.139\n",
            "Training Accuracy: 0.943\n",
            "Test Accuracy: 0.945\n",
            "Validation Accuracy: 0.947\n",
            "\n",
            " Epoch 37 / 40\n",
            "  Batch    50  of    863.\n",
            "  Batch   100  of    863.\n",
            "  Batch   150  of    863.\n",
            "  Batch   200  of    863.\n",
            "  Batch   250  of    863.\n",
            "  Batch   300  of    863.\n",
            "  Batch   350  of    863.\n",
            "  Batch   400  of    863.\n",
            "  Batch   450  of    863.\n",
            "  Batch   500  of    863.\n",
            "  Batch   550  of    863.\n",
            "  Batch   600  of    863.\n",
            "  Batch   650  of    863.\n",
            "  Batch   700  of    863.\n",
            "  Batch   750  of    863.\n",
            "  Batch   800  of    863.\n",
            "  Batch   850  of    863.\n",
            "\n",
            "Evaluating...\n",
            "  Batch    50  of    185.\n",
            "  Batch   100  of    185.\n",
            "  Batch   150  of    185.\n",
            "\n",
            "Evaluating...\n",
            "  Batch    50  of    185.\n",
            "  Batch   100  of    185.\n",
            "  Batch   150  of    185.\n",
            "Saving model.\n"
          ]
        },
        {
          "data": {
            "application/vnd.jupyter.widget-view+json": {
              "model_id": "fbc4f94d13f64b5bbe068b103e3c5f96",
              "version_major": 2,
              "version_minor": 0
            },
            "text/plain": [
              "  0%|          | 0/863 [00:00<?, ?it/s]"
            ]
          },
          "metadata": {},
          "output_type": "display_data"
        },
        {
          "data": {
            "application/vnd.jupyter.widget-view+json": {
              "model_id": "8de27e4f2a654b689f50335543bee59d",
              "version_major": 2,
              "version_minor": 0
            },
            "text/plain": [
              "  0%|          | 0/185 [00:00<?, ?it/s]"
            ]
          },
          "metadata": {},
          "output_type": "display_data"
        },
        {
          "data": {
            "application/vnd.jupyter.widget-view+json": {
              "model_id": "733b8b5202b84951b2f47b3a74e8bb5a",
              "version_major": 2,
              "version_minor": 0
            },
            "text/plain": [
              "  0%|          | 0/185 [00:00<?, ?it/s]"
            ]
          },
          "metadata": {},
          "output_type": "display_data"
        },
        {
          "metadata": {
            "tags": null
          },
          "name": "stdout",
          "output_type": "stream",
          "text": [
            "\n",
            "Training Loss: 152.796\n",
            "\n",
            "Test Loss: 25.190\n",
            "Validation Loss: 23.659\n",
            "Training Perplexity: 1.194\n",
            "Test Perplexity: 1.146\n",
            "Validation Perplexity: 1.136\n",
            "Training Accuracy: 0.945\n",
            "Test Accuracy: 0.947\n",
            "Validation Accuracy: 0.948\n",
            "\n",
            " Epoch 38 / 40\n",
            "  Batch    50  of    863.\n",
            "  Batch   100  of    863.\n",
            "  Batch   150  of    863.\n",
            "  Batch   200  of    863.\n",
            "  Batch   250  of    863.\n",
            "  Batch   300  of    863.\n",
            "  Batch   350  of    863.\n",
            "  Batch   400  of    863.\n",
            "  Batch   450  of    863.\n",
            "  Batch   500  of    863.\n",
            "  Batch   550  of    863.\n",
            "  Batch   600  of    863.\n",
            "  Batch   650  of    863.\n",
            "  Batch   700  of    863.\n",
            "  Batch   750  of    863.\n",
            "  Batch   800  of    863.\n",
            "  Batch   850  of    863.\n",
            "\n",
            "Evaluating...\n",
            "  Batch    50  of    185.\n",
            "  Batch   100  of    185.\n",
            "  Batch   150  of    185.\n",
            "\n",
            "Evaluating...\n",
            "  Batch    50  of    185.\n",
            "  Batch   100  of    185.\n",
            "  Batch   150  of    185.\n",
            "Saving model.\n"
          ]
        },
        {
          "data": {
            "application/vnd.jupyter.widget-view+json": {
              "model_id": "1d863f5179c741f6875bab8a0780a762",
              "version_major": 2,
              "version_minor": 0
            },
            "text/plain": [
              "  0%|          | 0/863 [00:00<?, ?it/s]"
            ]
          },
          "metadata": {},
          "output_type": "display_data"
        }
      ],
      "source": [
        "\n",
        "best_valid_loss = float('inf')\n",
        "train_losses=[]\n",
        "valid_losses=[]\n",
        "test_losses = []\n",
        "train_per = []\n",
        "valid_per = []\n",
        "train_acc_list = []\n",
        "valid_acc_list = []\n",
        "test_per = []\n",
        "test_acc_list = []\n",
        "\n",
        "for epoch in range(epochs):\n",
        "    print('\\n Epoch {:} / {:}'.format(epoch + 1, epochs))\n",
        "    train_loss, avg_train_loss = train()\n",
        "    valid_loss, avg_valid_loss = evaluate(val_dataloader)\n",
        "    test_loss, avg_test_loss = evaluate(test_dataloader)\n",
        "    if valid_loss < best_valid_loss:\n",
        "        print(\"Saving model.\")\n",
        "        best_valid_loss = valid_loss\n",
        "        torch.save(model.state_dict(), 'model_weights.pt')\n",
        "\n",
        "    train_perplexity = np.exp(avg_train_loss)\n",
        "    val_perplexity = np.exp(avg_valid_loss)\n",
        "    test_perplexity = np.exp(avg_test_loss)\n",
        "\n",
        "\n",
        "    acc_train = find_accuracy(model, train_dataloader, device=device, batch_size=batch_size)\n",
        "    acc_val = find_accuracy(model, val_dataloader, device=device, batch_size=batch_size)\n",
        "    acc_test = find_accuracy(model, test_dataloader, device=device, batch_size=batch_size)\n",
        "\n",
        "\n",
        "    train_per.append(train_perplexity)\n",
        "    valid_per.append(val_perplexity)\n",
        "    test_per.append(test_perplexity)\n",
        "\n",
        "    train_acc_list.append(acc_train)\n",
        "    valid_acc_list.append(acc_val)\n",
        "    test_acc_list.append(acc_test)\n",
        "\n",
        "    train_losses.append(avg_train_loss)\n",
        "    valid_losses.append(avg_valid_loss)\n",
        "    test_losses.append(avg_test_loss)\n",
        "\n",
        "\n",
        "    print(f'\\nTraining Loss: {train_loss:.3f}')\n",
        "    print(f'\\nTest Loss: {test_loss:.3f}')\n",
        "    print(f'Validation Loss: {valid_loss:.3f}')\n",
        "    print(f'Training Perplexity: {train_perplexity:.3f}')\n",
        "    print(f'Test Perplexity: {test_perplexity:.3f}')\n",
        "    print(f'Validation Perplexity: {val_perplexity:.3f}')\n",
        "    print(f'Training Accuracy: {acc_train:.3f}')\n",
        "    print(f'Test Accuracy: {acc_test:.3f}')\n",
        "    print(f'Validation Accuracy: {acc_val:.3f}')"
      ]
    },
    {
      "cell_type": "markdown",
      "metadata": {
        "id": "Qp7jw9a6qiPt"
      },
      "source": [
        "### Model performance"
      ]
    },
    {
      "cell_type": "markdown",
      "metadata": {
        "id": "Kz5yQYC8mvQz"
      },
      "source": []
    },
    {
      "cell_type": "markdown",
      "metadata": {
        "id": "P95XPCMoq8nN"
      },
      "source": [
        "## Fake News Predictions"
      ]
    },
    {
      "cell_type": "code",
      "execution_count": null,
      "metadata": {
        "id": "5j5tAtpFCijZ"
      },
      "outputs": [],
      "source": [
        "def plot(epochs, train_per, valid_per, train_acc_list, valid_acc_list, outputdir):\n",
        "    #### Plot train and validation loss ####\n",
        "    x_range = range(1, epochs+1)\n",
        "    fig = plt.figure(figsize=(10, 4))\n",
        "    ax1 = fig.add_subplot(121)\n",
        "    ax1.plot(x_range, train_per, label='train_perplexity')\n",
        "    ax1.plot(x_range, valid_per, label='validation_perplexity')\n",
        "    ax1.set_title('Perplexity vs Epoch')\n",
        "    ax1.set_xlabel('Epoch')\n",
        "    ax1.set_ylabel('Perplexity')\n",
        "    ax1.grid(True)\n",
        "    ax1.legend()\n",
        "\n",
        "    ax2 = fig.add_subplot(122)\n",
        "    ax2.plot(x_range, train_acc_list, label='train_accuracy')\n",
        "    ax2.plot(x_range, valid_acc_list, label='validation_accuracy')\n",
        "    ax2.set_title('Accuracy vs Epoch')\n",
        "    ax2.set_xlabel('Epoch')\n",
        "    ax2.set_ylabel('Accuracy')\n",
        "    ax2.grid(True)\n",
        "    ax2.legend()\n",
        "\n",
        "    plt.tight_layout()\n",
        "    plt.savefig(outputdir+'perplexity_acc_curves.png')\n"
      ]
    },
    {
      "cell_type": "code",
      "execution_count": null,
      "metadata": {
        "id": "WAAFXRmpDqyc"
      },
      "outputs": [],
      "source": [
        "\n",
        "\n"
      ]
    },
    {
      "cell_type": "code",
      "execution_count": null,
      "metadata": {
        "id": "1r4AIChBDcdy"
      },
      "outputs": [],
      "source": [
        "filename = f\"retestBERTClassifier-{model.__class__.__name__}-LR{lr}-E{epochs}-D{DROPOUT*100}-B{batch_size}-WeightDecay{weight_decay}\"\n",
        "outputdir = os.path.join(os.getcwd(), 'BenchmarkResults', filename)\n",
        "print(outputdir)"
      ]
    },
    {
      "cell_type": "code",
      "execution_count": null,
      "metadata": {
        "id": "1fVcPQH5oTc6"
      },
      "outputs": [],
      "source": [
        "# load weights of best model\n",
        "path = f'model_weights.pt'\n",
        "model.load_state_dict(torch.load(path))"
      ]
    },
    {
      "cell_type": "code",
      "execution_count": null,
      "metadata": {
        "id": "uzT4HStIWxYj"
      },
      "outputs": [],
      "source": [
        "valid_acc_list"
      ]
    },
    {
      "cell_type": "code",
      "execution_count": null,
      "metadata": {
        "id": "2Zwlb9Y5DpA4"
      },
      "outputs": [],
      "source": [
        "plot(epochs, train_per, valid_per, train_acc_list, valid_acc_list, outputdir)"
      ]
    },
    {
      "cell_type": "code",
      "execution_count": null,
      "metadata": {
        "id": "vooQxtj5UBt-"
      },
      "outputs": [],
      "source": [
        "# testing on unseen data\n",
        "unseen_news_text_random = [\"A precautionary message that one can catch fire due to hand sanitizer as it has a high amount of alcohol. The message also shows the hands of a lady who after applying sanitizer went near the stove and ended up burning her hands.\",  # Fake\n",
        "                    \"A Pentagon study found that people who get the flu vaccine are 36% more likely to get COVID-19.\",               # Fake\n",
        "                    \"The total number of confirmed cases of COVID-19 is now 1212 which is the number we report to the World Health Organization. There is no one in New Zealand receiving hospital-level care for COVID-19.\",           # True\n",
        "                    \"Our total number of confirmed cases remains at 1205 which is the number we report to the World Health Organization.\"                          # True\n",
        "                    ]\n",
        "\n",
        "# tokenize and encode sequences in the test set\n",
        "#MAX_LENGHT = 15\n",
        "tokens_unseen = tokenizer.batch_encode_plus(\n",
        "    unseen_news_text_random,\n",
        "    max_length = MAX_LENGTH,\n",
        "    pad_to_max_length=True,\n",
        "    truncation=True\n",
        ")\n",
        "\n",
        "unseen_seq = torch.tensor(tokens_unseen['input_ids']).to(device)\n",
        "unseen_mask = torch.tensor(tokens_unseen['attention_mask']).to(device)\n",
        "\n",
        "with torch.no_grad():\n",
        "  preds = model(unseen_seq, unseen_mask)\n",
        "  preds = preds.detach().cpu().numpy()\n",
        "\n",
        "preds = np.argmax(preds, axis = 1)\n",
        "preds"
      ]
    },
    {
      "cell_type": "code",
      "execution_count": null,
      "metadata": {
        "id": "JJ6YQTRXD7OF"
      },
      "outputs": [],
      "source": []
    },
    {
      "cell_type": "code",
      "execution_count": null,
      "metadata": {
        "id": "aRgRYquAoWbu"
      },
      "outputs": [],
      "source": [
        "with torch.no_grad():\n",
        "  preds = model(test_seq.to(device), test_mask.to(device))\n",
        "  preds = preds.detach().cpu().numpy()\n",
        "\n",
        "preds = np.argmax(preds, axis = 1)\n",
        "print(classification_report(test_y, preds))"
      ]
    },
    {
      "cell_type": "code",
      "execution_count": null,
      "metadata": {
        "id": "v_YjZIPnm_Sd"
      },
      "outputs": [],
      "source": [
        "plt.title(\"Loss\")\n",
        "plt.plot(train_losses, label=\"Training\")\n",
        "plt.plot(valid_losses, label=\"Validation\")\n",
        "plt.xlabel(\"Epochs\")\n",
        "plt.ylabel(\"Loss\")\n",
        "plt.legend()"
      ]
    },
    {
      "cell_type": "code",
      "source": [
        "acc_val = find_accuracy(model, test_dataloader, device=device, batch_size=batch_size)"
      ],
      "metadata": {
        "id": "VFR5gQzX21kg"
      },
      "execution_count": null,
      "outputs": []
    },
    {
      "cell_type": "code",
      "source": [
        "acc_val\n"
      ],
      "metadata": {
        "id": "4jVyuUCY23cW"
      },
      "execution_count": null,
      "outputs": []
    },
    {
      "cell_type": "code",
      "source": [
        "def evaluate_test():\n",
        "  print(\"\\nEvaluating...\")\n",
        "  model.eval()\n",
        "  total_loss, total_accuracy = 0, 0\n",
        "  for step,batch in enumerate(test_dataloader):\n",
        "    if step % 50 == 0 and not step == 0:\n",
        "\n",
        "\n",
        "      print('  Batch {:>5,}  of  {:>5,}.'.format(step, len(test_dataloader)))\n",
        "\n",
        "    batch = [t for t in batch]\n",
        "    sent_id, mask, labels = batch\n",
        "    sent_id = sent_id.to(device)\n",
        "    mask = mask.to(device)\n",
        "    labels = labels.to(device)\n",
        "    with torch.no_grad():\n",
        "      preds = model(sent_id, mask)\n",
        "      loss = cross_entropy(preds,labels)\n",
        "      total_loss = total_loss + loss.item()\n",
        "      preds = preds.detach().cpu().numpy()\n",
        "  avg_loss = total_loss / len(test_dataloader)\n",
        "  return total_loss, avg_loss"
      ],
      "metadata": {
        "id": "MjfCTCbo3SW8"
      },
      "execution_count": null,
      "outputs": []
    },
    {
      "cell_type": "code",
      "source": [
        "test_loss, avg_test_loss = evaluate_test()\n",
        "test_perplexity = np.exp(avg_test_loss)\n"
      ],
      "metadata": {
        "id": "PVV4peQR4Cas"
      },
      "execution_count": null,
      "outputs": []
    },
    {
      "cell_type": "code",
      "source": [
        "print(test_perplexity)"
      ],
      "metadata": {
        "id": "g4JVfML14DzZ"
      },
      "execution_count": null,
      "outputs": []
    },
    {
      "cell_type": "code",
      "source": [],
      "metadata": {
        "id": "otSC8KE14YT0"
      },
      "execution_count": null,
      "outputs": []
    }
  ],
  "metadata": {
    "accelerator": "GPU",
    "colab": {
      "provenance": []
    },
    "kernelspec": {
      "display_name": "Python 3",
      "name": "python3"
    },
    "language_info": {
      "name": "python"
    },
    "widgets": {
      "application/vnd.jupyter.widget-state+json": {
        "c82184af86e94e849a56bd28d0ac65a6": {
          "model_module": "@jupyter-widgets/controls",
          "model_name": "HBoxModel",
          "model_module_version": "1.5.0",
          "state": {
            "_dom_classes": [],
            "_model_module": "@jupyter-widgets/controls",
            "_model_module_version": "1.5.0",
            "_model_name": "HBoxModel",
            "_view_count": null,
            "_view_module": "@jupyter-widgets/controls",
            "_view_module_version": "1.5.0",
            "_view_name": "HBoxView",
            "box_style": "",
            "children": [
              "IPY_MODEL_30f7fe30330d460db5f367528792c091",
              "IPY_MODEL_937b6671984546dcb4d66af6bc068c1d",
              "IPY_MODEL_bbc0477ec1b046e2bfd71ed1d75a5040"
            ],
            "layout": "IPY_MODEL_5feaebc567ef408cadc9b2e8bbdf6aca"
          }
        },
        "30f7fe30330d460db5f367528792c091": {
          "model_module": "@jupyter-widgets/controls",
          "model_name": "HTMLModel",
          "model_module_version": "1.5.0",
          "state": {
            "_dom_classes": [],
            "_model_module": "@jupyter-widgets/controls",
            "_model_module_version": "1.5.0",
            "_model_name": "HTMLModel",
            "_view_count": null,
            "_view_module": "@jupyter-widgets/controls",
            "_view_module_version": "1.5.0",
            "_view_name": "HTMLView",
            "description": "",
            "description_tooltip": null,
            "layout": "IPY_MODEL_cad97118106544999147d4cfff328a88",
            "placeholder": "​",
            "style": "IPY_MODEL_7565c51217ea4a15a0e912a7f5d73e2c",
            "value": "Batch: 863, Correct items: 2.0000: 100%"
          }
        },
        "937b6671984546dcb4d66af6bc068c1d": {
          "model_module": "@jupyter-widgets/controls",
          "model_name": "FloatProgressModel",
          "model_module_version": "1.5.0",
          "state": {
            "_dom_classes": [],
            "_model_module": "@jupyter-widgets/controls",
            "_model_module_version": "1.5.0",
            "_model_name": "FloatProgressModel",
            "_view_count": null,
            "_view_module": "@jupyter-widgets/controls",
            "_view_module_version": "1.5.0",
            "_view_name": "ProgressView",
            "bar_style": "success",
            "description": "",
            "description_tooltip": null,
            "layout": "IPY_MODEL_6ae81c63898744a5b74ade063ee1cb4d",
            "max": 863,
            "min": 0,
            "orientation": "horizontal",
            "style": "IPY_MODEL_7f4a3b0009534ed1a745c9e6976c3083",
            "value": 863
          }
        },
        "bbc0477ec1b046e2bfd71ed1d75a5040": {
          "model_module": "@jupyter-widgets/controls",
          "model_name": "HTMLModel",
          "model_module_version": "1.5.0",
          "state": {
            "_dom_classes": [],
            "_model_module": "@jupyter-widgets/controls",
            "_model_module_version": "1.5.0",
            "_model_name": "HTMLModel",
            "_view_count": null,
            "_view_module": "@jupyter-widgets/controls",
            "_view_module_version": "1.5.0",
            "_view_name": "HTMLView",
            "description": "",
            "description_tooltip": null,
            "layout": "IPY_MODEL_1956c58505aa461f994e1ec84b707058",
            "placeholder": "​",
            "style": "IPY_MODEL_1681b0aa820f46b792eb3bbf7c6b3eb4",
            "value": " 863/863 [00:27&lt;00:00, 33.23it/s]"
          }
        },
        "5feaebc567ef408cadc9b2e8bbdf6aca": {
          "model_module": "@jupyter-widgets/base",
          "model_name": "LayoutModel",
          "model_module_version": "1.2.0",
          "state": {
            "_model_module": "@jupyter-widgets/base",
            "_model_module_version": "1.2.0",
            "_model_name": "LayoutModel",
            "_view_count": null,
            "_view_module": "@jupyter-widgets/base",
            "_view_module_version": "1.2.0",
            "_view_name": "LayoutView",
            "align_content": null,
            "align_items": null,
            "align_self": null,
            "border": null,
            "bottom": null,
            "display": null,
            "flex": null,
            "flex_flow": null,
            "grid_area": null,
            "grid_auto_columns": null,
            "grid_auto_flow": null,
            "grid_auto_rows": null,
            "grid_column": null,
            "grid_gap": null,
            "grid_row": null,
            "grid_template_areas": null,
            "grid_template_columns": null,
            "grid_template_rows": null,
            "height": null,
            "justify_content": null,
            "justify_items": null,
            "left": null,
            "margin": null,
            "max_height": null,
            "max_width": null,
            "min_height": null,
            "min_width": null,
            "object_fit": null,
            "object_position": null,
            "order": null,
            "overflow": null,
            "overflow_x": null,
            "overflow_y": null,
            "padding": null,
            "right": null,
            "top": null,
            "visibility": null,
            "width": null
          }
        },
        "cad97118106544999147d4cfff328a88": {
          "model_module": "@jupyter-widgets/base",
          "model_name": "LayoutModel",
          "model_module_version": "1.2.0",
          "state": {
            "_model_module": "@jupyter-widgets/base",
            "_model_module_version": "1.2.0",
            "_model_name": "LayoutModel",
            "_view_count": null,
            "_view_module": "@jupyter-widgets/base",
            "_view_module_version": "1.2.0",
            "_view_name": "LayoutView",
            "align_content": null,
            "align_items": null,
            "align_self": null,
            "border": null,
            "bottom": null,
            "display": null,
            "flex": null,
            "flex_flow": null,
            "grid_area": null,
            "grid_auto_columns": null,
            "grid_auto_flow": null,
            "grid_auto_rows": null,
            "grid_column": null,
            "grid_gap": null,
            "grid_row": null,
            "grid_template_areas": null,
            "grid_template_columns": null,
            "grid_template_rows": null,
            "height": null,
            "justify_content": null,
            "justify_items": null,
            "left": null,
            "margin": null,
            "max_height": null,
            "max_width": null,
            "min_height": null,
            "min_width": null,
            "object_fit": null,
            "object_position": null,
            "order": null,
            "overflow": null,
            "overflow_x": null,
            "overflow_y": null,
            "padding": null,
            "right": null,
            "top": null,
            "visibility": null,
            "width": null
          }
        },
        "7565c51217ea4a15a0e912a7f5d73e2c": {
          "model_module": "@jupyter-widgets/controls",
          "model_name": "DescriptionStyleModel",
          "model_module_version": "1.5.0",
          "state": {
            "_model_module": "@jupyter-widgets/controls",
            "_model_module_version": "1.5.0",
            "_model_name": "DescriptionStyleModel",
            "_view_count": null,
            "_view_module": "@jupyter-widgets/base",
            "_view_module_version": "1.2.0",
            "_view_name": "StyleView",
            "description_width": ""
          }
        },
        "6ae81c63898744a5b74ade063ee1cb4d": {
          "model_module": "@jupyter-widgets/base",
          "model_name": "LayoutModel",
          "model_module_version": "1.2.0",
          "state": {
            "_model_module": "@jupyter-widgets/base",
            "_model_module_version": "1.2.0",
            "_model_name": "LayoutModel",
            "_view_count": null,
            "_view_module": "@jupyter-widgets/base",
            "_view_module_version": "1.2.0",
            "_view_name": "LayoutView",
            "align_content": null,
            "align_items": null,
            "align_self": null,
            "border": null,
            "bottom": null,
            "display": null,
            "flex": null,
            "flex_flow": null,
            "grid_area": null,
            "grid_auto_columns": null,
            "grid_auto_flow": null,
            "grid_auto_rows": null,
            "grid_column": null,
            "grid_gap": null,
            "grid_row": null,
            "grid_template_areas": null,
            "grid_template_columns": null,
            "grid_template_rows": null,
            "height": null,
            "justify_content": null,
            "justify_items": null,
            "left": null,
            "margin": null,
            "max_height": null,
            "max_width": null,
            "min_height": null,
            "min_width": null,
            "object_fit": null,
            "object_position": null,
            "order": null,
            "overflow": null,
            "overflow_x": null,
            "overflow_y": null,
            "padding": null,
            "right": null,
            "top": null,
            "visibility": null,
            "width": null
          }
        },
        "7f4a3b0009534ed1a745c9e6976c3083": {
          "model_module": "@jupyter-widgets/controls",
          "model_name": "ProgressStyleModel",
          "model_module_version": "1.5.0",
          "state": {
            "_model_module": "@jupyter-widgets/controls",
            "_model_module_version": "1.5.0",
            "_model_name": "ProgressStyleModel",
            "_view_count": null,
            "_view_module": "@jupyter-widgets/base",
            "_view_module_version": "1.2.0",
            "_view_name": "StyleView",
            "bar_color": null,
            "description_width": ""
          }
        },
        "1956c58505aa461f994e1ec84b707058": {
          "model_module": "@jupyter-widgets/base",
          "model_name": "LayoutModel",
          "model_module_version": "1.2.0",
          "state": {
            "_model_module": "@jupyter-widgets/base",
            "_model_module_version": "1.2.0",
            "_model_name": "LayoutModel",
            "_view_count": null,
            "_view_module": "@jupyter-widgets/base",
            "_view_module_version": "1.2.0",
            "_view_name": "LayoutView",
            "align_content": null,
            "align_items": null,
            "align_self": null,
            "border": null,
            "bottom": null,
            "display": null,
            "flex": null,
            "flex_flow": null,
            "grid_area": null,
            "grid_auto_columns": null,
            "grid_auto_flow": null,
            "grid_auto_rows": null,
            "grid_column": null,
            "grid_gap": null,
            "grid_row": null,
            "grid_template_areas": null,
            "grid_template_columns": null,
            "grid_template_rows": null,
            "height": null,
            "justify_content": null,
            "justify_items": null,
            "left": null,
            "margin": null,
            "max_height": null,
            "max_width": null,
            "min_height": null,
            "min_width": null,
            "object_fit": null,
            "object_position": null,
            "order": null,
            "overflow": null,
            "overflow_x": null,
            "overflow_y": null,
            "padding": null,
            "right": null,
            "top": null,
            "visibility": null,
            "width": null
          }
        },
        "1681b0aa820f46b792eb3bbf7c6b3eb4": {
          "model_module": "@jupyter-widgets/controls",
          "model_name": "DescriptionStyleModel",
          "model_module_version": "1.5.0",
          "state": {
            "_model_module": "@jupyter-widgets/controls",
            "_model_module_version": "1.5.0",
            "_model_name": "DescriptionStyleModel",
            "_view_count": null,
            "_view_module": "@jupyter-widgets/base",
            "_view_module_version": "1.2.0",
            "_view_name": "StyleView",
            "description_width": ""
          }
        },
        "f80c7688f650473b8441c68856d2dfa5": {
          "model_module": "@jupyter-widgets/controls",
          "model_name": "HBoxModel",
          "model_module_version": "1.5.0",
          "state": {
            "_dom_classes": [],
            "_model_module": "@jupyter-widgets/controls",
            "_model_module_version": "1.5.0",
            "_model_name": "HBoxModel",
            "_view_count": null,
            "_view_module": "@jupyter-widgets/controls",
            "_view_module_version": "1.5.0",
            "_view_name": "HBoxView",
            "box_style": "",
            "children": [
              "IPY_MODEL_a06d27814ef44907b3c0c87baddd4c17",
              "IPY_MODEL_b398bbe9bfd848d3a4dafcc1393966cd",
              "IPY_MODEL_87099d06da60413080cdcc60ca020e43"
            ],
            "layout": "IPY_MODEL_1f11aa222e274ed9bd3e52fdd78a17b5"
          }
        },
        "a06d27814ef44907b3c0c87baddd4c17": {
          "model_module": "@jupyter-widgets/controls",
          "model_name": "HTMLModel",
          "model_module_version": "1.5.0",
          "state": {
            "_dom_classes": [],
            "_model_module": "@jupyter-widgets/controls",
            "_model_module_version": "1.5.0",
            "_model_name": "HTMLModel",
            "_view_count": null,
            "_view_module": "@jupyter-widgets/controls",
            "_view_module_version": "1.5.0",
            "_view_name": "HTMLView",
            "description": "",
            "description_tooltip": null,
            "layout": "IPY_MODEL_7d76fac1ca114d6588bbea411931a7fb",
            "placeholder": "​",
            "style": "IPY_MODEL_4aa071bd624f439f9c1024ba81f04909",
            "value": "Batch: 185, Correct items: 20.0000: 100%"
          }
        },
        "b398bbe9bfd848d3a4dafcc1393966cd": {
          "model_module": "@jupyter-widgets/controls",
          "model_name": "FloatProgressModel",
          "model_module_version": "1.5.0",
          "state": {
            "_dom_classes": [],
            "_model_module": "@jupyter-widgets/controls",
            "_model_module_version": "1.5.0",
            "_model_name": "FloatProgressModel",
            "_view_count": null,
            "_view_module": "@jupyter-widgets/controls",
            "_view_module_version": "1.5.0",
            "_view_name": "ProgressView",
            "bar_style": "success",
            "description": "",
            "description_tooltip": null,
            "layout": "IPY_MODEL_bd64e2cbc2cb453c912999a4ff7f89f8",
            "max": 185,
            "min": 0,
            "orientation": "horizontal",
            "style": "IPY_MODEL_0c51f0dd16514ec8af23361dc4eb705c",
            "value": 185
          }
        },
        "87099d06da60413080cdcc60ca020e43": {
          "model_module": "@jupyter-widgets/controls",
          "model_name": "HTMLModel",
          "model_module_version": "1.5.0",
          "state": {
            "_dom_classes": [],
            "_model_module": "@jupyter-widgets/controls",
            "_model_module_version": "1.5.0",
            "_model_name": "HTMLModel",
            "_view_count": null,
            "_view_module": "@jupyter-widgets/controls",
            "_view_module_version": "1.5.0",
            "_view_name": "HTMLView",
            "description": "",
            "description_tooltip": null,
            "layout": "IPY_MODEL_345c728270e64454a26ea434ed87a9c7",
            "placeholder": "​",
            "style": "IPY_MODEL_39036fa1e46c4ce28724dbd000c0af8d",
            "value": " 185/185 [00:05&lt;00:00, 33.97it/s]"
          }
        },
        "1f11aa222e274ed9bd3e52fdd78a17b5": {
          "model_module": "@jupyter-widgets/base",
          "model_name": "LayoutModel",
          "model_module_version": "1.2.0",
          "state": {
            "_model_module": "@jupyter-widgets/base",
            "_model_module_version": "1.2.0",
            "_model_name": "LayoutModel",
            "_view_count": null,
            "_view_module": "@jupyter-widgets/base",
            "_view_module_version": "1.2.0",
            "_view_name": "LayoutView",
            "align_content": null,
            "align_items": null,
            "align_self": null,
            "border": null,
            "bottom": null,
            "display": null,
            "flex": null,
            "flex_flow": null,
            "grid_area": null,
            "grid_auto_columns": null,
            "grid_auto_flow": null,
            "grid_auto_rows": null,
            "grid_column": null,
            "grid_gap": null,
            "grid_row": null,
            "grid_template_areas": null,
            "grid_template_columns": null,
            "grid_template_rows": null,
            "height": null,
            "justify_content": null,
            "justify_items": null,
            "left": null,
            "margin": null,
            "max_height": null,
            "max_width": null,
            "min_height": null,
            "min_width": null,
            "object_fit": null,
            "object_position": null,
            "order": null,
            "overflow": null,
            "overflow_x": null,
            "overflow_y": null,
            "padding": null,
            "right": null,
            "top": null,
            "visibility": null,
            "width": null
          }
        },
        "7d76fac1ca114d6588bbea411931a7fb": {
          "model_module": "@jupyter-widgets/base",
          "model_name": "LayoutModel",
          "model_module_version": "1.2.0",
          "state": {
            "_model_module": "@jupyter-widgets/base",
            "_model_module_version": "1.2.0",
            "_model_name": "LayoutModel",
            "_view_count": null,
            "_view_module": "@jupyter-widgets/base",
            "_view_module_version": "1.2.0",
            "_view_name": "LayoutView",
            "align_content": null,
            "align_items": null,
            "align_self": null,
            "border": null,
            "bottom": null,
            "display": null,
            "flex": null,
            "flex_flow": null,
            "grid_area": null,
            "grid_auto_columns": null,
            "grid_auto_flow": null,
            "grid_auto_rows": null,
            "grid_column": null,
            "grid_gap": null,
            "grid_row": null,
            "grid_template_areas": null,
            "grid_template_columns": null,
            "grid_template_rows": null,
            "height": null,
            "justify_content": null,
            "justify_items": null,
            "left": null,
            "margin": null,
            "max_height": null,
            "max_width": null,
            "min_height": null,
            "min_width": null,
            "object_fit": null,
            "object_position": null,
            "order": null,
            "overflow": null,
            "overflow_x": null,
            "overflow_y": null,
            "padding": null,
            "right": null,
            "top": null,
            "visibility": null,
            "width": null
          }
        },
        "4aa071bd624f439f9c1024ba81f04909": {
          "model_module": "@jupyter-widgets/controls",
          "model_name": "DescriptionStyleModel",
          "model_module_version": "1.5.0",
          "state": {
            "_model_module": "@jupyter-widgets/controls",
            "_model_module_version": "1.5.0",
            "_model_name": "DescriptionStyleModel",
            "_view_count": null,
            "_view_module": "@jupyter-widgets/base",
            "_view_module_version": "1.2.0",
            "_view_name": "StyleView",
            "description_width": ""
          }
        },
        "bd64e2cbc2cb453c912999a4ff7f89f8": {
          "model_module": "@jupyter-widgets/base",
          "model_name": "LayoutModel",
          "model_module_version": "1.2.0",
          "state": {
            "_model_module": "@jupyter-widgets/base",
            "_model_module_version": "1.2.0",
            "_model_name": "LayoutModel",
            "_view_count": null,
            "_view_module": "@jupyter-widgets/base",
            "_view_module_version": "1.2.0",
            "_view_name": "LayoutView",
            "align_content": null,
            "align_items": null,
            "align_self": null,
            "border": null,
            "bottom": null,
            "display": null,
            "flex": null,
            "flex_flow": null,
            "grid_area": null,
            "grid_auto_columns": null,
            "grid_auto_flow": null,
            "grid_auto_rows": null,
            "grid_column": null,
            "grid_gap": null,
            "grid_row": null,
            "grid_template_areas": null,
            "grid_template_columns": null,
            "grid_template_rows": null,
            "height": null,
            "justify_content": null,
            "justify_items": null,
            "left": null,
            "margin": null,
            "max_height": null,
            "max_width": null,
            "min_height": null,
            "min_width": null,
            "object_fit": null,
            "object_position": null,
            "order": null,
            "overflow": null,
            "overflow_x": null,
            "overflow_y": null,
            "padding": null,
            "right": null,
            "top": null,
            "visibility": null,
            "width": null
          }
        },
        "0c51f0dd16514ec8af23361dc4eb705c": {
          "model_module": "@jupyter-widgets/controls",
          "model_name": "ProgressStyleModel",
          "model_module_version": "1.5.0",
          "state": {
            "_model_module": "@jupyter-widgets/controls",
            "_model_module_version": "1.5.0",
            "_model_name": "ProgressStyleModel",
            "_view_count": null,
            "_view_module": "@jupyter-widgets/base",
            "_view_module_version": "1.2.0",
            "_view_name": "StyleView",
            "bar_color": null,
            "description_width": ""
          }
        },
        "345c728270e64454a26ea434ed87a9c7": {
          "model_module": "@jupyter-widgets/base",
          "model_name": "LayoutModel",
          "model_module_version": "1.2.0",
          "state": {
            "_model_module": "@jupyter-widgets/base",
            "_model_module_version": "1.2.0",
            "_model_name": "LayoutModel",
            "_view_count": null,
            "_view_module": "@jupyter-widgets/base",
            "_view_module_version": "1.2.0",
            "_view_name": "LayoutView",
            "align_content": null,
            "align_items": null,
            "align_self": null,
            "border": null,
            "bottom": null,
            "display": null,
            "flex": null,
            "flex_flow": null,
            "grid_area": null,
            "grid_auto_columns": null,
            "grid_auto_flow": null,
            "grid_auto_rows": null,
            "grid_column": null,
            "grid_gap": null,
            "grid_row": null,
            "grid_template_areas": null,
            "grid_template_columns": null,
            "grid_template_rows": null,
            "height": null,
            "justify_content": null,
            "justify_items": null,
            "left": null,
            "margin": null,
            "max_height": null,
            "max_width": null,
            "min_height": null,
            "min_width": null,
            "object_fit": null,
            "object_position": null,
            "order": null,
            "overflow": null,
            "overflow_x": null,
            "overflow_y": null,
            "padding": null,
            "right": null,
            "top": null,
            "visibility": null,
            "width": null
          }
        },
        "39036fa1e46c4ce28724dbd000c0af8d": {
          "model_module": "@jupyter-widgets/controls",
          "model_name": "DescriptionStyleModel",
          "model_module_version": "1.5.0",
          "state": {
            "_model_module": "@jupyter-widgets/controls",
            "_model_module_version": "1.5.0",
            "_model_name": "DescriptionStyleModel",
            "_view_count": null,
            "_view_module": "@jupyter-widgets/base",
            "_view_module_version": "1.2.0",
            "_view_name": "StyleView",
            "description_width": ""
          }
        },
        "63fbc867dfbd46cdacd690c870f6a3a5": {
          "model_module": "@jupyter-widgets/controls",
          "model_name": "HBoxModel",
          "model_module_version": "1.5.0",
          "state": {
            "_dom_classes": [],
            "_model_module": "@jupyter-widgets/controls",
            "_model_module_version": "1.5.0",
            "_model_name": "HBoxModel",
            "_view_count": null,
            "_view_module": "@jupyter-widgets/controls",
            "_view_module_version": "1.5.0",
            "_view_name": "HBoxView",
            "box_style": "",
            "children": [
              "IPY_MODEL_fc83041602aa4a049b5744c5cd8f19ce",
              "IPY_MODEL_ea95e729c8ae43b092b0fa727b49cb38",
              "IPY_MODEL_ced30dee5ad94827afdfcbdcdc215904"
            ],
            "layout": "IPY_MODEL_1436beaeef2d480393718aa2412f7c5d"
          }
        },
        "fc83041602aa4a049b5744c5cd8f19ce": {
          "model_module": "@jupyter-widgets/controls",
          "model_name": "HTMLModel",
          "model_module_version": "1.5.0",
          "state": {
            "_dom_classes": [],
            "_model_module": "@jupyter-widgets/controls",
            "_model_module_version": "1.5.0",
            "_model_name": "HTMLModel",
            "_view_count": null,
            "_view_module": "@jupyter-widgets/controls",
            "_view_module_version": "1.5.0",
            "_view_name": "HTMLView",
            "description": "",
            "description_tooltip": null,
            "layout": "IPY_MODEL_0ee704f3d7864959b30df6758bd856b7",
            "placeholder": "​",
            "style": "IPY_MODEL_8a9ba73c7648479d89e59813375a2be8",
            "value": "Batch: 185, Correct items: 23.0000: 100%"
          }
        },
        "ea95e729c8ae43b092b0fa727b49cb38": {
          "model_module": "@jupyter-widgets/controls",
          "model_name": "FloatProgressModel",
          "model_module_version": "1.5.0",
          "state": {
            "_dom_classes": [],
            "_model_module": "@jupyter-widgets/controls",
            "_model_module_version": "1.5.0",
            "_model_name": "FloatProgressModel",
            "_view_count": null,
            "_view_module": "@jupyter-widgets/controls",
            "_view_module_version": "1.5.0",
            "_view_name": "ProgressView",
            "bar_style": "success",
            "description": "",
            "description_tooltip": null,
            "layout": "IPY_MODEL_e84d1be868804f1a8e7aee35c4cfa395",
            "max": 185,
            "min": 0,
            "orientation": "horizontal",
            "style": "IPY_MODEL_42b2d21d271a499b858105b682695c8b",
            "value": 185
          }
        },
        "ced30dee5ad94827afdfcbdcdc215904": {
          "model_module": "@jupyter-widgets/controls",
          "model_name": "HTMLModel",
          "model_module_version": "1.5.0",
          "state": {
            "_dom_classes": [],
            "_model_module": "@jupyter-widgets/controls",
            "_model_module_version": "1.5.0",
            "_model_name": "HTMLModel",
            "_view_count": null,
            "_view_module": "@jupyter-widgets/controls",
            "_view_module_version": "1.5.0",
            "_view_name": "HTMLView",
            "description": "",
            "description_tooltip": null,
            "layout": "IPY_MODEL_c256db7811c64d4d831dafc29122888a",
            "placeholder": "​",
            "style": "IPY_MODEL_58b3a7308e444773b5d5d8eaf99e2136",
            "value": " 185/185 [00:05&lt;00:00, 32.96it/s]"
          }
        },
        "1436beaeef2d480393718aa2412f7c5d": {
          "model_module": "@jupyter-widgets/base",
          "model_name": "LayoutModel",
          "model_module_version": "1.2.0",
          "state": {
            "_model_module": "@jupyter-widgets/base",
            "_model_module_version": "1.2.0",
            "_model_name": "LayoutModel",
            "_view_count": null,
            "_view_module": "@jupyter-widgets/base",
            "_view_module_version": "1.2.0",
            "_view_name": "LayoutView",
            "align_content": null,
            "align_items": null,
            "align_self": null,
            "border": null,
            "bottom": null,
            "display": null,
            "flex": null,
            "flex_flow": null,
            "grid_area": null,
            "grid_auto_columns": null,
            "grid_auto_flow": null,
            "grid_auto_rows": null,
            "grid_column": null,
            "grid_gap": null,
            "grid_row": null,
            "grid_template_areas": null,
            "grid_template_columns": null,
            "grid_template_rows": null,
            "height": null,
            "justify_content": null,
            "justify_items": null,
            "left": null,
            "margin": null,
            "max_height": null,
            "max_width": null,
            "min_height": null,
            "min_width": null,
            "object_fit": null,
            "object_position": null,
            "order": null,
            "overflow": null,
            "overflow_x": null,
            "overflow_y": null,
            "padding": null,
            "right": null,
            "top": null,
            "visibility": null,
            "width": null
          }
        },
        "0ee704f3d7864959b30df6758bd856b7": {
          "model_module": "@jupyter-widgets/base",
          "model_name": "LayoutModel",
          "model_module_version": "1.2.0",
          "state": {
            "_model_module": "@jupyter-widgets/base",
            "_model_module_version": "1.2.0",
            "_model_name": "LayoutModel",
            "_view_count": null,
            "_view_module": "@jupyter-widgets/base",
            "_view_module_version": "1.2.0",
            "_view_name": "LayoutView",
            "align_content": null,
            "align_items": null,
            "align_self": null,
            "border": null,
            "bottom": null,
            "display": null,
            "flex": null,
            "flex_flow": null,
            "grid_area": null,
            "grid_auto_columns": null,
            "grid_auto_flow": null,
            "grid_auto_rows": null,
            "grid_column": null,
            "grid_gap": null,
            "grid_row": null,
            "grid_template_areas": null,
            "grid_template_columns": null,
            "grid_template_rows": null,
            "height": null,
            "justify_content": null,
            "justify_items": null,
            "left": null,
            "margin": null,
            "max_height": null,
            "max_width": null,
            "min_height": null,
            "min_width": null,
            "object_fit": null,
            "object_position": null,
            "order": null,
            "overflow": null,
            "overflow_x": null,
            "overflow_y": null,
            "padding": null,
            "right": null,
            "top": null,
            "visibility": null,
            "width": null
          }
        },
        "8a9ba73c7648479d89e59813375a2be8": {
          "model_module": "@jupyter-widgets/controls",
          "model_name": "DescriptionStyleModel",
          "model_module_version": "1.5.0",
          "state": {
            "_model_module": "@jupyter-widgets/controls",
            "_model_module_version": "1.5.0",
            "_model_name": "DescriptionStyleModel",
            "_view_count": null,
            "_view_module": "@jupyter-widgets/base",
            "_view_module_version": "1.2.0",
            "_view_name": "StyleView",
            "description_width": ""
          }
        },
        "e84d1be868804f1a8e7aee35c4cfa395": {
          "model_module": "@jupyter-widgets/base",
          "model_name": "LayoutModel",
          "model_module_version": "1.2.0",
          "state": {
            "_model_module": "@jupyter-widgets/base",
            "_model_module_version": "1.2.0",
            "_model_name": "LayoutModel",
            "_view_count": null,
            "_view_module": "@jupyter-widgets/base",
            "_view_module_version": "1.2.0",
            "_view_name": "LayoutView",
            "align_content": null,
            "align_items": null,
            "align_self": null,
            "border": null,
            "bottom": null,
            "display": null,
            "flex": null,
            "flex_flow": null,
            "grid_area": null,
            "grid_auto_columns": null,
            "grid_auto_flow": null,
            "grid_auto_rows": null,
            "grid_column": null,
            "grid_gap": null,
            "grid_row": null,
            "grid_template_areas": null,
            "grid_template_columns": null,
            "grid_template_rows": null,
            "height": null,
            "justify_content": null,
            "justify_items": null,
            "left": null,
            "margin": null,
            "max_height": null,
            "max_width": null,
            "min_height": null,
            "min_width": null,
            "object_fit": null,
            "object_position": null,
            "order": null,
            "overflow": null,
            "overflow_x": null,
            "overflow_y": null,
            "padding": null,
            "right": null,
            "top": null,
            "visibility": null,
            "width": null
          }
        },
        "42b2d21d271a499b858105b682695c8b": {
          "model_module": "@jupyter-widgets/controls",
          "model_name": "ProgressStyleModel",
          "model_module_version": "1.5.0",
          "state": {
            "_model_module": "@jupyter-widgets/controls",
            "_model_module_version": "1.5.0",
            "_model_name": "ProgressStyleModel",
            "_view_count": null,
            "_view_module": "@jupyter-widgets/base",
            "_view_module_version": "1.2.0",
            "_view_name": "StyleView",
            "bar_color": null,
            "description_width": ""
          }
        },
        "c256db7811c64d4d831dafc29122888a": {
          "model_module": "@jupyter-widgets/base",
          "model_name": "LayoutModel",
          "model_module_version": "1.2.0",
          "state": {
            "_model_module": "@jupyter-widgets/base",
            "_model_module_version": "1.2.0",
            "_model_name": "LayoutModel",
            "_view_count": null,
            "_view_module": "@jupyter-widgets/base",
            "_view_module_version": "1.2.0",
            "_view_name": "LayoutView",
            "align_content": null,
            "align_items": null,
            "align_self": null,
            "border": null,
            "bottom": null,
            "display": null,
            "flex": null,
            "flex_flow": null,
            "grid_area": null,
            "grid_auto_columns": null,
            "grid_auto_flow": null,
            "grid_auto_rows": null,
            "grid_column": null,
            "grid_gap": null,
            "grid_row": null,
            "grid_template_areas": null,
            "grid_template_columns": null,
            "grid_template_rows": null,
            "height": null,
            "justify_content": null,
            "justify_items": null,
            "left": null,
            "margin": null,
            "max_height": null,
            "max_width": null,
            "min_height": null,
            "min_width": null,
            "object_fit": null,
            "object_position": null,
            "order": null,
            "overflow": null,
            "overflow_x": null,
            "overflow_y": null,
            "padding": null,
            "right": null,
            "top": null,
            "visibility": null,
            "width": null
          }
        },
        "58b3a7308e444773b5d5d8eaf99e2136": {
          "model_module": "@jupyter-widgets/controls",
          "model_name": "DescriptionStyleModel",
          "model_module_version": "1.5.0",
          "state": {
            "_model_module": "@jupyter-widgets/controls",
            "_model_module_version": "1.5.0",
            "_model_name": "DescriptionStyleModel",
            "_view_count": null,
            "_view_module": "@jupyter-widgets/base",
            "_view_module_version": "1.2.0",
            "_view_name": "StyleView",
            "description_width": ""
          }
        },
        "6a790ff267ad4af4ac8681e661b015d9": {
          "model_module": "@jupyter-widgets/controls",
          "model_name": "HBoxModel",
          "model_module_version": "1.5.0",
          "state": {
            "_dom_classes": [],
            "_model_module": "@jupyter-widgets/controls",
            "_model_module_version": "1.5.0",
            "_model_name": "HBoxModel",
            "_view_count": null,
            "_view_module": "@jupyter-widgets/controls",
            "_view_module_version": "1.5.0",
            "_view_name": "HBoxView",
            "box_style": "",
            "children": [
              "IPY_MODEL_f4a5a81fca8340208db4fd4fc2d4def7",
              "IPY_MODEL_150de948116d46658d42764b75179d49",
              "IPY_MODEL_dfd992d77b01473ca84021a73a467de7"
            ],
            "layout": "IPY_MODEL_b953dd982eac4083951de6ba35c93e46"
          }
        },
        "f4a5a81fca8340208db4fd4fc2d4def7": {
          "model_module": "@jupyter-widgets/controls",
          "model_name": "HTMLModel",
          "model_module_version": "1.5.0",
          "state": {
            "_dom_classes": [],
            "_model_module": "@jupyter-widgets/controls",
            "_model_module_version": "1.5.0",
            "_model_name": "HTMLModel",
            "_view_count": null,
            "_view_module": "@jupyter-widgets/controls",
            "_view_module_version": "1.5.0",
            "_view_name": "HTMLView",
            "description": "",
            "description_tooltip": null,
            "layout": "IPY_MODEL_390c2a91574144a4ba2b9cb06bf3055b",
            "placeholder": "​",
            "style": "IPY_MODEL_b761b133a2b94b02b5e8c33c5d0de9ef",
            "value": "Batch: 863, Correct items: 2.0000: 100%"
          }
        },
        "150de948116d46658d42764b75179d49": {
          "model_module": "@jupyter-widgets/controls",
          "model_name": "FloatProgressModel",
          "model_module_version": "1.5.0",
          "state": {
            "_dom_classes": [],
            "_model_module": "@jupyter-widgets/controls",
            "_model_module_version": "1.5.0",
            "_model_name": "FloatProgressModel",
            "_view_count": null,
            "_view_module": "@jupyter-widgets/controls",
            "_view_module_version": "1.5.0",
            "_view_name": "ProgressView",
            "bar_style": "success",
            "description": "",
            "description_tooltip": null,
            "layout": "IPY_MODEL_7e863c9b5cda451da6aac9e40ab7e4ce",
            "max": 863,
            "min": 0,
            "orientation": "horizontal",
            "style": "IPY_MODEL_ebbf2a529d4148a9b9c21f8ad3341224",
            "value": 863
          }
        },
        "dfd992d77b01473ca84021a73a467de7": {
          "model_module": "@jupyter-widgets/controls",
          "model_name": "HTMLModel",
          "model_module_version": "1.5.0",
          "state": {
            "_dom_classes": [],
            "_model_module": "@jupyter-widgets/controls",
            "_model_module_version": "1.5.0",
            "_model_name": "HTMLModel",
            "_view_count": null,
            "_view_module": "@jupyter-widgets/controls",
            "_view_module_version": "1.5.0",
            "_view_name": "HTMLView",
            "description": "",
            "description_tooltip": null,
            "layout": "IPY_MODEL_064ee940636840519a5094a3d4cfccb7",
            "placeholder": "​",
            "style": "IPY_MODEL_af4f567d01684db4952d0ba3fe6b99e3",
            "value": " 863/863 [00:26&lt;00:00, 33.28it/s]"
          }
        },
        "b953dd982eac4083951de6ba35c93e46": {
          "model_module": "@jupyter-widgets/base",
          "model_name": "LayoutModel",
          "model_module_version": "1.2.0",
          "state": {
            "_model_module": "@jupyter-widgets/base",
            "_model_module_version": "1.2.0",
            "_model_name": "LayoutModel",
            "_view_count": null,
            "_view_module": "@jupyter-widgets/base",
            "_view_module_version": "1.2.0",
            "_view_name": "LayoutView",
            "align_content": null,
            "align_items": null,
            "align_self": null,
            "border": null,
            "bottom": null,
            "display": null,
            "flex": null,
            "flex_flow": null,
            "grid_area": null,
            "grid_auto_columns": null,
            "grid_auto_flow": null,
            "grid_auto_rows": null,
            "grid_column": null,
            "grid_gap": null,
            "grid_row": null,
            "grid_template_areas": null,
            "grid_template_columns": null,
            "grid_template_rows": null,
            "height": null,
            "justify_content": null,
            "justify_items": null,
            "left": null,
            "margin": null,
            "max_height": null,
            "max_width": null,
            "min_height": null,
            "min_width": null,
            "object_fit": null,
            "object_position": null,
            "order": null,
            "overflow": null,
            "overflow_x": null,
            "overflow_y": null,
            "padding": null,
            "right": null,
            "top": null,
            "visibility": null,
            "width": null
          }
        },
        "390c2a91574144a4ba2b9cb06bf3055b": {
          "model_module": "@jupyter-widgets/base",
          "model_name": "LayoutModel",
          "model_module_version": "1.2.0",
          "state": {
            "_model_module": "@jupyter-widgets/base",
            "_model_module_version": "1.2.0",
            "_model_name": "LayoutModel",
            "_view_count": null,
            "_view_module": "@jupyter-widgets/base",
            "_view_module_version": "1.2.0",
            "_view_name": "LayoutView",
            "align_content": null,
            "align_items": null,
            "align_self": null,
            "border": null,
            "bottom": null,
            "display": null,
            "flex": null,
            "flex_flow": null,
            "grid_area": null,
            "grid_auto_columns": null,
            "grid_auto_flow": null,
            "grid_auto_rows": null,
            "grid_column": null,
            "grid_gap": null,
            "grid_row": null,
            "grid_template_areas": null,
            "grid_template_columns": null,
            "grid_template_rows": null,
            "height": null,
            "justify_content": null,
            "justify_items": null,
            "left": null,
            "margin": null,
            "max_height": null,
            "max_width": null,
            "min_height": null,
            "min_width": null,
            "object_fit": null,
            "object_position": null,
            "order": null,
            "overflow": null,
            "overflow_x": null,
            "overflow_y": null,
            "padding": null,
            "right": null,
            "top": null,
            "visibility": null,
            "width": null
          }
        },
        "b761b133a2b94b02b5e8c33c5d0de9ef": {
          "model_module": "@jupyter-widgets/controls",
          "model_name": "DescriptionStyleModel",
          "model_module_version": "1.5.0",
          "state": {
            "_model_module": "@jupyter-widgets/controls",
            "_model_module_version": "1.5.0",
            "_model_name": "DescriptionStyleModel",
            "_view_count": null,
            "_view_module": "@jupyter-widgets/base",
            "_view_module_version": "1.2.0",
            "_view_name": "StyleView",
            "description_width": ""
          }
        },
        "7e863c9b5cda451da6aac9e40ab7e4ce": {
          "model_module": "@jupyter-widgets/base",
          "model_name": "LayoutModel",
          "model_module_version": "1.2.0",
          "state": {
            "_model_module": "@jupyter-widgets/base",
            "_model_module_version": "1.2.0",
            "_model_name": "LayoutModel",
            "_view_count": null,
            "_view_module": "@jupyter-widgets/base",
            "_view_module_version": "1.2.0",
            "_view_name": "LayoutView",
            "align_content": null,
            "align_items": null,
            "align_self": null,
            "border": null,
            "bottom": null,
            "display": null,
            "flex": null,
            "flex_flow": null,
            "grid_area": null,
            "grid_auto_columns": null,
            "grid_auto_flow": null,
            "grid_auto_rows": null,
            "grid_column": null,
            "grid_gap": null,
            "grid_row": null,
            "grid_template_areas": null,
            "grid_template_columns": null,
            "grid_template_rows": null,
            "height": null,
            "justify_content": null,
            "justify_items": null,
            "left": null,
            "margin": null,
            "max_height": null,
            "max_width": null,
            "min_height": null,
            "min_width": null,
            "object_fit": null,
            "object_position": null,
            "order": null,
            "overflow": null,
            "overflow_x": null,
            "overflow_y": null,
            "padding": null,
            "right": null,
            "top": null,
            "visibility": null,
            "width": null
          }
        },
        "ebbf2a529d4148a9b9c21f8ad3341224": {
          "model_module": "@jupyter-widgets/controls",
          "model_name": "ProgressStyleModel",
          "model_module_version": "1.5.0",
          "state": {
            "_model_module": "@jupyter-widgets/controls",
            "_model_module_version": "1.5.0",
            "_model_name": "ProgressStyleModel",
            "_view_count": null,
            "_view_module": "@jupyter-widgets/base",
            "_view_module_version": "1.2.0",
            "_view_name": "StyleView",
            "bar_color": null,
            "description_width": ""
          }
        },
        "064ee940636840519a5094a3d4cfccb7": {
          "model_module": "@jupyter-widgets/base",
          "model_name": "LayoutModel",
          "model_module_version": "1.2.0",
          "state": {
            "_model_module": "@jupyter-widgets/base",
            "_model_module_version": "1.2.0",
            "_model_name": "LayoutModel",
            "_view_count": null,
            "_view_module": "@jupyter-widgets/base",
            "_view_module_version": "1.2.0",
            "_view_name": "LayoutView",
            "align_content": null,
            "align_items": null,
            "align_self": null,
            "border": null,
            "bottom": null,
            "display": null,
            "flex": null,
            "flex_flow": null,
            "grid_area": null,
            "grid_auto_columns": null,
            "grid_auto_flow": null,
            "grid_auto_rows": null,
            "grid_column": null,
            "grid_gap": null,
            "grid_row": null,
            "grid_template_areas": null,
            "grid_template_columns": null,
            "grid_template_rows": null,
            "height": null,
            "justify_content": null,
            "justify_items": null,
            "left": null,
            "margin": null,
            "max_height": null,
            "max_width": null,
            "min_height": null,
            "min_width": null,
            "object_fit": null,
            "object_position": null,
            "order": null,
            "overflow": null,
            "overflow_x": null,
            "overflow_y": null,
            "padding": null,
            "right": null,
            "top": null,
            "visibility": null,
            "width": null
          }
        },
        "af4f567d01684db4952d0ba3fe6b99e3": {
          "model_module": "@jupyter-widgets/controls",
          "model_name": "DescriptionStyleModel",
          "model_module_version": "1.5.0",
          "state": {
            "_model_module": "@jupyter-widgets/controls",
            "_model_module_version": "1.5.0",
            "_model_name": "DescriptionStyleModel",
            "_view_count": null,
            "_view_module": "@jupyter-widgets/base",
            "_view_module_version": "1.2.0",
            "_view_name": "StyleView",
            "description_width": ""
          }
        },
        "3f1df30e4fe741a18e1b4d6912dbf5b7": {
          "model_module": "@jupyter-widgets/controls",
          "model_name": "HBoxModel",
          "model_module_version": "1.5.0",
          "state": {
            "_dom_classes": [],
            "_model_module": "@jupyter-widgets/controls",
            "_model_module_version": "1.5.0",
            "_model_name": "HBoxModel",
            "_view_count": null,
            "_view_module": "@jupyter-widgets/controls",
            "_view_module_version": "1.5.0",
            "_view_name": "HBoxView",
            "box_style": "",
            "children": [
              "IPY_MODEL_14897a4c0ee44f4bb38501685a9b6605",
              "IPY_MODEL_77e089ff5dad42da943f956ede108edb",
              "IPY_MODEL_eb879bbff7b643d0857bee4c3487f894"
            ],
            "layout": "IPY_MODEL_3f74ce9bed114e4b8d49d590e39c0a0e"
          }
        },
        "14897a4c0ee44f4bb38501685a9b6605": {
          "model_module": "@jupyter-widgets/controls",
          "model_name": "HTMLModel",
          "model_module_version": "1.5.0",
          "state": {
            "_dom_classes": [],
            "_model_module": "@jupyter-widgets/controls",
            "_model_module_version": "1.5.0",
            "_model_name": "HTMLModel",
            "_view_count": null,
            "_view_module": "@jupyter-widgets/controls",
            "_view_module_version": "1.5.0",
            "_view_name": "HTMLView",
            "description": "",
            "description_tooltip": null,
            "layout": "IPY_MODEL_3b7de3c4d9d34701b772ac4488beb672",
            "placeholder": "​",
            "style": "IPY_MODEL_e113c446241b48c488eb4854c4f99629",
            "value": "Batch: 185, Correct items: 20.0000: 100%"
          }
        },
        "77e089ff5dad42da943f956ede108edb": {
          "model_module": "@jupyter-widgets/controls",
          "model_name": "FloatProgressModel",
          "model_module_version": "1.5.0",
          "state": {
            "_dom_classes": [],
            "_model_module": "@jupyter-widgets/controls",
            "_model_module_version": "1.5.0",
            "_model_name": "FloatProgressModel",
            "_view_count": null,
            "_view_module": "@jupyter-widgets/controls",
            "_view_module_version": "1.5.0",
            "_view_name": "ProgressView",
            "bar_style": "success",
            "description": "",
            "description_tooltip": null,
            "layout": "IPY_MODEL_5a26ca283d2c456c98ebb796e955bef3",
            "max": 185,
            "min": 0,
            "orientation": "horizontal",
            "style": "IPY_MODEL_4798001b97964cce96e32fda57fd965f",
            "value": 185
          }
        },
        "eb879bbff7b643d0857bee4c3487f894": {
          "model_module": "@jupyter-widgets/controls",
          "model_name": "HTMLModel",
          "model_module_version": "1.5.0",
          "state": {
            "_dom_classes": [],
            "_model_module": "@jupyter-widgets/controls",
            "_model_module_version": "1.5.0",
            "_model_name": "HTMLModel",
            "_view_count": null,
            "_view_module": "@jupyter-widgets/controls",
            "_view_module_version": "1.5.0",
            "_view_name": "HTMLView",
            "description": "",
            "description_tooltip": null,
            "layout": "IPY_MODEL_96d4aea7ce834f919442387496ba8644",
            "placeholder": "​",
            "style": "IPY_MODEL_5e1b00311c654d6f99181cf6c00d070c",
            "value": " 185/185 [00:05&lt;00:00, 32.87it/s]"
          }
        },
        "3f74ce9bed114e4b8d49d590e39c0a0e": {
          "model_module": "@jupyter-widgets/base",
          "model_name": "LayoutModel",
          "model_module_version": "1.2.0",
          "state": {
            "_model_module": "@jupyter-widgets/base",
            "_model_module_version": "1.2.0",
            "_model_name": "LayoutModel",
            "_view_count": null,
            "_view_module": "@jupyter-widgets/base",
            "_view_module_version": "1.2.0",
            "_view_name": "LayoutView",
            "align_content": null,
            "align_items": null,
            "align_self": null,
            "border": null,
            "bottom": null,
            "display": null,
            "flex": null,
            "flex_flow": null,
            "grid_area": null,
            "grid_auto_columns": null,
            "grid_auto_flow": null,
            "grid_auto_rows": null,
            "grid_column": null,
            "grid_gap": null,
            "grid_row": null,
            "grid_template_areas": null,
            "grid_template_columns": null,
            "grid_template_rows": null,
            "height": null,
            "justify_content": null,
            "justify_items": null,
            "left": null,
            "margin": null,
            "max_height": null,
            "max_width": null,
            "min_height": null,
            "min_width": null,
            "object_fit": null,
            "object_position": null,
            "order": null,
            "overflow": null,
            "overflow_x": null,
            "overflow_y": null,
            "padding": null,
            "right": null,
            "top": null,
            "visibility": null,
            "width": null
          }
        },
        "3b7de3c4d9d34701b772ac4488beb672": {
          "model_module": "@jupyter-widgets/base",
          "model_name": "LayoutModel",
          "model_module_version": "1.2.0",
          "state": {
            "_model_module": "@jupyter-widgets/base",
            "_model_module_version": "1.2.0",
            "_model_name": "LayoutModel",
            "_view_count": null,
            "_view_module": "@jupyter-widgets/base",
            "_view_module_version": "1.2.0",
            "_view_name": "LayoutView",
            "align_content": null,
            "align_items": null,
            "align_self": null,
            "border": null,
            "bottom": null,
            "display": null,
            "flex": null,
            "flex_flow": null,
            "grid_area": null,
            "grid_auto_columns": null,
            "grid_auto_flow": null,
            "grid_auto_rows": null,
            "grid_column": null,
            "grid_gap": null,
            "grid_row": null,
            "grid_template_areas": null,
            "grid_template_columns": null,
            "grid_template_rows": null,
            "height": null,
            "justify_content": null,
            "justify_items": null,
            "left": null,
            "margin": null,
            "max_height": null,
            "max_width": null,
            "min_height": null,
            "min_width": null,
            "object_fit": null,
            "object_position": null,
            "order": null,
            "overflow": null,
            "overflow_x": null,
            "overflow_y": null,
            "padding": null,
            "right": null,
            "top": null,
            "visibility": null,
            "width": null
          }
        },
        "e113c446241b48c488eb4854c4f99629": {
          "model_module": "@jupyter-widgets/controls",
          "model_name": "DescriptionStyleModel",
          "model_module_version": "1.5.0",
          "state": {
            "_model_module": "@jupyter-widgets/controls",
            "_model_module_version": "1.5.0",
            "_model_name": "DescriptionStyleModel",
            "_view_count": null,
            "_view_module": "@jupyter-widgets/base",
            "_view_module_version": "1.2.0",
            "_view_name": "StyleView",
            "description_width": ""
          }
        },
        "5a26ca283d2c456c98ebb796e955bef3": {
          "model_module": "@jupyter-widgets/base",
          "model_name": "LayoutModel",
          "model_module_version": "1.2.0",
          "state": {
            "_model_module": "@jupyter-widgets/base",
            "_model_module_version": "1.2.0",
            "_model_name": "LayoutModel",
            "_view_count": null,
            "_view_module": "@jupyter-widgets/base",
            "_view_module_version": "1.2.0",
            "_view_name": "LayoutView",
            "align_content": null,
            "align_items": null,
            "align_self": null,
            "border": null,
            "bottom": null,
            "display": null,
            "flex": null,
            "flex_flow": null,
            "grid_area": null,
            "grid_auto_columns": null,
            "grid_auto_flow": null,
            "grid_auto_rows": null,
            "grid_column": null,
            "grid_gap": null,
            "grid_row": null,
            "grid_template_areas": null,
            "grid_template_columns": null,
            "grid_template_rows": null,
            "height": null,
            "justify_content": null,
            "justify_items": null,
            "left": null,
            "margin": null,
            "max_height": null,
            "max_width": null,
            "min_height": null,
            "min_width": null,
            "object_fit": null,
            "object_position": null,
            "order": null,
            "overflow": null,
            "overflow_x": null,
            "overflow_y": null,
            "padding": null,
            "right": null,
            "top": null,
            "visibility": null,
            "width": null
          }
        },
        "4798001b97964cce96e32fda57fd965f": {
          "model_module": "@jupyter-widgets/controls",
          "model_name": "ProgressStyleModel",
          "model_module_version": "1.5.0",
          "state": {
            "_model_module": "@jupyter-widgets/controls",
            "_model_module_version": "1.5.0",
            "_model_name": "ProgressStyleModel",
            "_view_count": null,
            "_view_module": "@jupyter-widgets/base",
            "_view_module_version": "1.2.0",
            "_view_name": "StyleView",
            "bar_color": null,
            "description_width": ""
          }
        },
        "96d4aea7ce834f919442387496ba8644": {
          "model_module": "@jupyter-widgets/base",
          "model_name": "LayoutModel",
          "model_module_version": "1.2.0",
          "state": {
            "_model_module": "@jupyter-widgets/base",
            "_model_module_version": "1.2.0",
            "_model_name": "LayoutModel",
            "_view_count": null,
            "_view_module": "@jupyter-widgets/base",
            "_view_module_version": "1.2.0",
            "_view_name": "LayoutView",
            "align_content": null,
            "align_items": null,
            "align_self": null,
            "border": null,
            "bottom": null,
            "display": null,
            "flex": null,
            "flex_flow": null,
            "grid_area": null,
            "grid_auto_columns": null,
            "grid_auto_flow": null,
            "grid_auto_rows": null,
            "grid_column": null,
            "grid_gap": null,
            "grid_row": null,
            "grid_template_areas": null,
            "grid_template_columns": null,
            "grid_template_rows": null,
            "height": null,
            "justify_content": null,
            "justify_items": null,
            "left": null,
            "margin": null,
            "max_height": null,
            "max_width": null,
            "min_height": null,
            "min_width": null,
            "object_fit": null,
            "object_position": null,
            "order": null,
            "overflow": null,
            "overflow_x": null,
            "overflow_y": null,
            "padding": null,
            "right": null,
            "top": null,
            "visibility": null,
            "width": null
          }
        },
        "5e1b00311c654d6f99181cf6c00d070c": {
          "model_module": "@jupyter-widgets/controls",
          "model_name": "DescriptionStyleModel",
          "model_module_version": "1.5.0",
          "state": {
            "_model_module": "@jupyter-widgets/controls",
            "_model_module_version": "1.5.0",
            "_model_name": "DescriptionStyleModel",
            "_view_count": null,
            "_view_module": "@jupyter-widgets/base",
            "_view_module_version": "1.2.0",
            "_view_name": "StyleView",
            "description_width": ""
          }
        },
        "fe34bd8c18f045afa216c7c4ab073463": {
          "model_module": "@jupyter-widgets/controls",
          "model_name": "HBoxModel",
          "model_module_version": "1.5.0",
          "state": {
            "_dom_classes": [],
            "_model_module": "@jupyter-widgets/controls",
            "_model_module_version": "1.5.0",
            "_model_name": "HBoxModel",
            "_view_count": null,
            "_view_module": "@jupyter-widgets/controls",
            "_view_module_version": "1.5.0",
            "_view_name": "HBoxView",
            "box_style": "",
            "children": [
              "IPY_MODEL_c11f093f08da4bde982f6cc0bc70f696",
              "IPY_MODEL_93c2fe160f4d45cf956b9dc12f114e34",
              "IPY_MODEL_d3c86728ec374184a55d0e496d023ec0"
            ],
            "layout": "IPY_MODEL_1fce785255d54230a2a4e402069381be"
          }
        },
        "c11f093f08da4bde982f6cc0bc70f696": {
          "model_module": "@jupyter-widgets/controls",
          "model_name": "HTMLModel",
          "model_module_version": "1.5.0",
          "state": {
            "_dom_classes": [],
            "_model_module": "@jupyter-widgets/controls",
            "_model_module_version": "1.5.0",
            "_model_name": "HTMLModel",
            "_view_count": null,
            "_view_module": "@jupyter-widgets/controls",
            "_view_module_version": "1.5.0",
            "_view_name": "HTMLView",
            "description": "",
            "description_tooltip": null,
            "layout": "IPY_MODEL_72b3d18f34144b3d838480578a8dce5d",
            "placeholder": "​",
            "style": "IPY_MODEL_238e6f8d0ba242f2be39d15a822273a4",
            "value": "Batch: 185, Correct items: 23.0000: 100%"
          }
        },
        "93c2fe160f4d45cf956b9dc12f114e34": {
          "model_module": "@jupyter-widgets/controls",
          "model_name": "FloatProgressModel",
          "model_module_version": "1.5.0",
          "state": {
            "_dom_classes": [],
            "_model_module": "@jupyter-widgets/controls",
            "_model_module_version": "1.5.0",
            "_model_name": "FloatProgressModel",
            "_view_count": null,
            "_view_module": "@jupyter-widgets/controls",
            "_view_module_version": "1.5.0",
            "_view_name": "ProgressView",
            "bar_style": "success",
            "description": "",
            "description_tooltip": null,
            "layout": "IPY_MODEL_3815f9829b484183bf557168a3fb552a",
            "max": 185,
            "min": 0,
            "orientation": "horizontal",
            "style": "IPY_MODEL_6dafab1891944537a19bb577fec2e721",
            "value": 185
          }
        },
        "d3c86728ec374184a55d0e496d023ec0": {
          "model_module": "@jupyter-widgets/controls",
          "model_name": "HTMLModel",
          "model_module_version": "1.5.0",
          "state": {
            "_dom_classes": [],
            "_model_module": "@jupyter-widgets/controls",
            "_model_module_version": "1.5.0",
            "_model_name": "HTMLModel",
            "_view_count": null,
            "_view_module": "@jupyter-widgets/controls",
            "_view_module_version": "1.5.0",
            "_view_name": "HTMLView",
            "description": "",
            "description_tooltip": null,
            "layout": "IPY_MODEL_4bf423d3dca3463e9f53fe6b8b4e5c46",
            "placeholder": "​",
            "style": "IPY_MODEL_01579e5920f647048e77259f41969f7c",
            "value": " 185/185 [00:05&lt;00:00, 34.19it/s]"
          }
        },
        "1fce785255d54230a2a4e402069381be": {
          "model_module": "@jupyter-widgets/base",
          "model_name": "LayoutModel",
          "model_module_version": "1.2.0",
          "state": {
            "_model_module": "@jupyter-widgets/base",
            "_model_module_version": "1.2.0",
            "_model_name": "LayoutModel",
            "_view_count": null,
            "_view_module": "@jupyter-widgets/base",
            "_view_module_version": "1.2.0",
            "_view_name": "LayoutView",
            "align_content": null,
            "align_items": null,
            "align_self": null,
            "border": null,
            "bottom": null,
            "display": null,
            "flex": null,
            "flex_flow": null,
            "grid_area": null,
            "grid_auto_columns": null,
            "grid_auto_flow": null,
            "grid_auto_rows": null,
            "grid_column": null,
            "grid_gap": null,
            "grid_row": null,
            "grid_template_areas": null,
            "grid_template_columns": null,
            "grid_template_rows": null,
            "height": null,
            "justify_content": null,
            "justify_items": null,
            "left": null,
            "margin": null,
            "max_height": null,
            "max_width": null,
            "min_height": null,
            "min_width": null,
            "object_fit": null,
            "object_position": null,
            "order": null,
            "overflow": null,
            "overflow_x": null,
            "overflow_y": null,
            "padding": null,
            "right": null,
            "top": null,
            "visibility": null,
            "width": null
          }
        },
        "72b3d18f34144b3d838480578a8dce5d": {
          "model_module": "@jupyter-widgets/base",
          "model_name": "LayoutModel",
          "model_module_version": "1.2.0",
          "state": {
            "_model_module": "@jupyter-widgets/base",
            "_model_module_version": "1.2.0",
            "_model_name": "LayoutModel",
            "_view_count": null,
            "_view_module": "@jupyter-widgets/base",
            "_view_module_version": "1.2.0",
            "_view_name": "LayoutView",
            "align_content": null,
            "align_items": null,
            "align_self": null,
            "border": null,
            "bottom": null,
            "display": null,
            "flex": null,
            "flex_flow": null,
            "grid_area": null,
            "grid_auto_columns": null,
            "grid_auto_flow": null,
            "grid_auto_rows": null,
            "grid_column": null,
            "grid_gap": null,
            "grid_row": null,
            "grid_template_areas": null,
            "grid_template_columns": null,
            "grid_template_rows": null,
            "height": null,
            "justify_content": null,
            "justify_items": null,
            "left": null,
            "margin": null,
            "max_height": null,
            "max_width": null,
            "min_height": null,
            "min_width": null,
            "object_fit": null,
            "object_position": null,
            "order": null,
            "overflow": null,
            "overflow_x": null,
            "overflow_y": null,
            "padding": null,
            "right": null,
            "top": null,
            "visibility": null,
            "width": null
          }
        },
        "238e6f8d0ba242f2be39d15a822273a4": {
          "model_module": "@jupyter-widgets/controls",
          "model_name": "DescriptionStyleModel",
          "model_module_version": "1.5.0",
          "state": {
            "_model_module": "@jupyter-widgets/controls",
            "_model_module_version": "1.5.0",
            "_model_name": "DescriptionStyleModel",
            "_view_count": null,
            "_view_module": "@jupyter-widgets/base",
            "_view_module_version": "1.2.0",
            "_view_name": "StyleView",
            "description_width": ""
          }
        },
        "3815f9829b484183bf557168a3fb552a": {
          "model_module": "@jupyter-widgets/base",
          "model_name": "LayoutModel",
          "model_module_version": "1.2.0",
          "state": {
            "_model_module": "@jupyter-widgets/base",
            "_model_module_version": "1.2.0",
            "_model_name": "LayoutModel",
            "_view_count": null,
            "_view_module": "@jupyter-widgets/base",
            "_view_module_version": "1.2.0",
            "_view_name": "LayoutView",
            "align_content": null,
            "align_items": null,
            "align_self": null,
            "border": null,
            "bottom": null,
            "display": null,
            "flex": null,
            "flex_flow": null,
            "grid_area": null,
            "grid_auto_columns": null,
            "grid_auto_flow": null,
            "grid_auto_rows": null,
            "grid_column": null,
            "grid_gap": null,
            "grid_row": null,
            "grid_template_areas": null,
            "grid_template_columns": null,
            "grid_template_rows": null,
            "height": null,
            "justify_content": null,
            "justify_items": null,
            "left": null,
            "margin": null,
            "max_height": null,
            "max_width": null,
            "min_height": null,
            "min_width": null,
            "object_fit": null,
            "object_position": null,
            "order": null,
            "overflow": null,
            "overflow_x": null,
            "overflow_y": null,
            "padding": null,
            "right": null,
            "top": null,
            "visibility": null,
            "width": null
          }
        },
        "6dafab1891944537a19bb577fec2e721": {
          "model_module": "@jupyter-widgets/controls",
          "model_name": "ProgressStyleModel",
          "model_module_version": "1.5.0",
          "state": {
            "_model_module": "@jupyter-widgets/controls",
            "_model_module_version": "1.5.0",
            "_model_name": "ProgressStyleModel",
            "_view_count": null,
            "_view_module": "@jupyter-widgets/base",
            "_view_module_version": "1.2.0",
            "_view_name": "StyleView",
            "bar_color": null,
            "description_width": ""
          }
        },
        "4bf423d3dca3463e9f53fe6b8b4e5c46": {
          "model_module": "@jupyter-widgets/base",
          "model_name": "LayoutModel",
          "model_module_version": "1.2.0",
          "state": {
            "_model_module": "@jupyter-widgets/base",
            "_model_module_version": "1.2.0",
            "_model_name": "LayoutModel",
            "_view_count": null,
            "_view_module": "@jupyter-widgets/base",
            "_view_module_version": "1.2.0",
            "_view_name": "LayoutView",
            "align_content": null,
            "align_items": null,
            "align_self": null,
            "border": null,
            "bottom": null,
            "display": null,
            "flex": null,
            "flex_flow": null,
            "grid_area": null,
            "grid_auto_columns": null,
            "grid_auto_flow": null,
            "grid_auto_rows": null,
            "grid_column": null,
            "grid_gap": null,
            "grid_row": null,
            "grid_template_areas": null,
            "grid_template_columns": null,
            "grid_template_rows": null,
            "height": null,
            "justify_content": null,
            "justify_items": null,
            "left": null,
            "margin": null,
            "max_height": null,
            "max_width": null,
            "min_height": null,
            "min_width": null,
            "object_fit": null,
            "object_position": null,
            "order": null,
            "overflow": null,
            "overflow_x": null,
            "overflow_y": null,
            "padding": null,
            "right": null,
            "top": null,
            "visibility": null,
            "width": null
          }
        },
        "01579e5920f647048e77259f41969f7c": {
          "model_module": "@jupyter-widgets/controls",
          "model_name": "DescriptionStyleModel",
          "model_module_version": "1.5.0",
          "state": {
            "_model_module": "@jupyter-widgets/controls",
            "_model_module_version": "1.5.0",
            "_model_name": "DescriptionStyleModel",
            "_view_count": null,
            "_view_module": "@jupyter-widgets/base",
            "_view_module_version": "1.2.0",
            "_view_name": "StyleView",
            "description_width": ""
          }
        },
        "b345c0e2de4d47b186083e9fb5ab9620": {
          "model_module": "@jupyter-widgets/controls",
          "model_name": "HBoxModel",
          "model_module_version": "1.5.0",
          "state": {
            "_dom_classes": [],
            "_model_module": "@jupyter-widgets/controls",
            "_model_module_version": "1.5.0",
            "_model_name": "HBoxModel",
            "_view_count": null,
            "_view_module": "@jupyter-widgets/controls",
            "_view_module_version": "1.5.0",
            "_view_name": "HBoxView",
            "box_style": "",
            "children": [
              "IPY_MODEL_7e82bd04da4744ae99f03ffe5a9e3350",
              "IPY_MODEL_742907575b794cfc9ade0742469df9c5",
              "IPY_MODEL_80964bd09a3c4336bbbd9662cc3aa2f7"
            ],
            "layout": "IPY_MODEL_0020333082a2449ea4d37884ccec0695"
          }
        },
        "7e82bd04da4744ae99f03ffe5a9e3350": {
          "model_module": "@jupyter-widgets/controls",
          "model_name": "HTMLModel",
          "model_module_version": "1.5.0",
          "state": {
            "_dom_classes": [],
            "_model_module": "@jupyter-widgets/controls",
            "_model_module_version": "1.5.0",
            "_model_name": "HTMLModel",
            "_view_count": null,
            "_view_module": "@jupyter-widgets/controls",
            "_view_module_version": "1.5.0",
            "_view_name": "HTMLView",
            "description": "",
            "description_tooltip": null,
            "layout": "IPY_MODEL_9c006c0797654ab08ad3949dd83edab7",
            "placeholder": "​",
            "style": "IPY_MODEL_493b204857a9486e9763f3d05e3a8699",
            "value": "Batch: 863, Correct items: 2.0000: 100%"
          }
        },
        "742907575b794cfc9ade0742469df9c5": {
          "model_module": "@jupyter-widgets/controls",
          "model_name": "FloatProgressModel",
          "model_module_version": "1.5.0",
          "state": {
            "_dom_classes": [],
            "_model_module": "@jupyter-widgets/controls",
            "_model_module_version": "1.5.0",
            "_model_name": "FloatProgressModel",
            "_view_count": null,
            "_view_module": "@jupyter-widgets/controls",
            "_view_module_version": "1.5.0",
            "_view_name": "ProgressView",
            "bar_style": "success",
            "description": "",
            "description_tooltip": null,
            "layout": "IPY_MODEL_20a61b70cbee4b22b0ecc79a784e9f5a",
            "max": 863,
            "min": 0,
            "orientation": "horizontal",
            "style": "IPY_MODEL_c8caf6ce6b5b42dfa151e7882ee8e92b",
            "value": 863
          }
        },
        "80964bd09a3c4336bbbd9662cc3aa2f7": {
          "model_module": "@jupyter-widgets/controls",
          "model_name": "HTMLModel",
          "model_module_version": "1.5.0",
          "state": {
            "_dom_classes": [],
            "_model_module": "@jupyter-widgets/controls",
            "_model_module_version": "1.5.0",
            "_model_name": "HTMLModel",
            "_view_count": null,
            "_view_module": "@jupyter-widgets/controls",
            "_view_module_version": "1.5.0",
            "_view_name": "HTMLView",
            "description": "",
            "description_tooltip": null,
            "layout": "IPY_MODEL_38e84c364f6d45b6a6d6441160b56d57",
            "placeholder": "​",
            "style": "IPY_MODEL_f83b22a7931d4f928843638dc172100a",
            "value": " 863/863 [00:26&lt;00:00, 34.64it/s]"
          }
        },
        "0020333082a2449ea4d37884ccec0695": {
          "model_module": "@jupyter-widgets/base",
          "model_name": "LayoutModel",
          "model_module_version": "1.2.0",
          "state": {
            "_model_module": "@jupyter-widgets/base",
            "_model_module_version": "1.2.0",
            "_model_name": "LayoutModel",
            "_view_count": null,
            "_view_module": "@jupyter-widgets/base",
            "_view_module_version": "1.2.0",
            "_view_name": "LayoutView",
            "align_content": null,
            "align_items": null,
            "align_self": null,
            "border": null,
            "bottom": null,
            "display": null,
            "flex": null,
            "flex_flow": null,
            "grid_area": null,
            "grid_auto_columns": null,
            "grid_auto_flow": null,
            "grid_auto_rows": null,
            "grid_column": null,
            "grid_gap": null,
            "grid_row": null,
            "grid_template_areas": null,
            "grid_template_columns": null,
            "grid_template_rows": null,
            "height": null,
            "justify_content": null,
            "justify_items": null,
            "left": null,
            "margin": null,
            "max_height": null,
            "max_width": null,
            "min_height": null,
            "min_width": null,
            "object_fit": null,
            "object_position": null,
            "order": null,
            "overflow": null,
            "overflow_x": null,
            "overflow_y": null,
            "padding": null,
            "right": null,
            "top": null,
            "visibility": null,
            "width": null
          }
        },
        "9c006c0797654ab08ad3949dd83edab7": {
          "model_module": "@jupyter-widgets/base",
          "model_name": "LayoutModel",
          "model_module_version": "1.2.0",
          "state": {
            "_model_module": "@jupyter-widgets/base",
            "_model_module_version": "1.2.0",
            "_model_name": "LayoutModel",
            "_view_count": null,
            "_view_module": "@jupyter-widgets/base",
            "_view_module_version": "1.2.0",
            "_view_name": "LayoutView",
            "align_content": null,
            "align_items": null,
            "align_self": null,
            "border": null,
            "bottom": null,
            "display": null,
            "flex": null,
            "flex_flow": null,
            "grid_area": null,
            "grid_auto_columns": null,
            "grid_auto_flow": null,
            "grid_auto_rows": null,
            "grid_column": null,
            "grid_gap": null,
            "grid_row": null,
            "grid_template_areas": null,
            "grid_template_columns": null,
            "grid_template_rows": null,
            "height": null,
            "justify_content": null,
            "justify_items": null,
            "left": null,
            "margin": null,
            "max_height": null,
            "max_width": null,
            "min_height": null,
            "min_width": null,
            "object_fit": null,
            "object_position": null,
            "order": null,
            "overflow": null,
            "overflow_x": null,
            "overflow_y": null,
            "padding": null,
            "right": null,
            "top": null,
            "visibility": null,
            "width": null
          }
        },
        "493b204857a9486e9763f3d05e3a8699": {
          "model_module": "@jupyter-widgets/controls",
          "model_name": "DescriptionStyleModel",
          "model_module_version": "1.5.0",
          "state": {
            "_model_module": "@jupyter-widgets/controls",
            "_model_module_version": "1.5.0",
            "_model_name": "DescriptionStyleModel",
            "_view_count": null,
            "_view_module": "@jupyter-widgets/base",
            "_view_module_version": "1.2.0",
            "_view_name": "StyleView",
            "description_width": ""
          }
        },
        "20a61b70cbee4b22b0ecc79a784e9f5a": {
          "model_module": "@jupyter-widgets/base",
          "model_name": "LayoutModel",
          "model_module_version": "1.2.0",
          "state": {
            "_model_module": "@jupyter-widgets/base",
            "_model_module_version": "1.2.0",
            "_model_name": "LayoutModel",
            "_view_count": null,
            "_view_module": "@jupyter-widgets/base",
            "_view_module_version": "1.2.0",
            "_view_name": "LayoutView",
            "align_content": null,
            "align_items": null,
            "align_self": null,
            "border": null,
            "bottom": null,
            "display": null,
            "flex": null,
            "flex_flow": null,
            "grid_area": null,
            "grid_auto_columns": null,
            "grid_auto_flow": null,
            "grid_auto_rows": null,
            "grid_column": null,
            "grid_gap": null,
            "grid_row": null,
            "grid_template_areas": null,
            "grid_template_columns": null,
            "grid_template_rows": null,
            "height": null,
            "justify_content": null,
            "justify_items": null,
            "left": null,
            "margin": null,
            "max_height": null,
            "max_width": null,
            "min_height": null,
            "min_width": null,
            "object_fit": null,
            "object_position": null,
            "order": null,
            "overflow": null,
            "overflow_x": null,
            "overflow_y": null,
            "padding": null,
            "right": null,
            "top": null,
            "visibility": null,
            "width": null
          }
        },
        "c8caf6ce6b5b42dfa151e7882ee8e92b": {
          "model_module": "@jupyter-widgets/controls",
          "model_name": "ProgressStyleModel",
          "model_module_version": "1.5.0",
          "state": {
            "_model_module": "@jupyter-widgets/controls",
            "_model_module_version": "1.5.0",
            "_model_name": "ProgressStyleModel",
            "_view_count": null,
            "_view_module": "@jupyter-widgets/base",
            "_view_module_version": "1.2.0",
            "_view_name": "StyleView",
            "bar_color": null,
            "description_width": ""
          }
        },
        "38e84c364f6d45b6a6d6441160b56d57": {
          "model_module": "@jupyter-widgets/base",
          "model_name": "LayoutModel",
          "model_module_version": "1.2.0",
          "state": {
            "_model_module": "@jupyter-widgets/base",
            "_model_module_version": "1.2.0",
            "_model_name": "LayoutModel",
            "_view_count": null,
            "_view_module": "@jupyter-widgets/base",
            "_view_module_version": "1.2.0",
            "_view_name": "LayoutView",
            "align_content": null,
            "align_items": null,
            "align_self": null,
            "border": null,
            "bottom": null,
            "display": null,
            "flex": null,
            "flex_flow": null,
            "grid_area": null,
            "grid_auto_columns": null,
            "grid_auto_flow": null,
            "grid_auto_rows": null,
            "grid_column": null,
            "grid_gap": null,
            "grid_row": null,
            "grid_template_areas": null,
            "grid_template_columns": null,
            "grid_template_rows": null,
            "height": null,
            "justify_content": null,
            "justify_items": null,
            "left": null,
            "margin": null,
            "max_height": null,
            "max_width": null,
            "min_height": null,
            "min_width": null,
            "object_fit": null,
            "object_position": null,
            "order": null,
            "overflow": null,
            "overflow_x": null,
            "overflow_y": null,
            "padding": null,
            "right": null,
            "top": null,
            "visibility": null,
            "width": null
          }
        },
        "f83b22a7931d4f928843638dc172100a": {
          "model_module": "@jupyter-widgets/controls",
          "model_name": "DescriptionStyleModel",
          "model_module_version": "1.5.0",
          "state": {
            "_model_module": "@jupyter-widgets/controls",
            "_model_module_version": "1.5.0",
            "_model_name": "DescriptionStyleModel",
            "_view_count": null,
            "_view_module": "@jupyter-widgets/base",
            "_view_module_version": "1.2.0",
            "_view_name": "StyleView",
            "description_width": ""
          }
        },
        "91d7332281d3491a8fee382b3118ce42": {
          "model_module": "@jupyter-widgets/controls",
          "model_name": "HBoxModel",
          "model_module_version": "1.5.0",
          "state": {
            "_dom_classes": [],
            "_model_module": "@jupyter-widgets/controls",
            "_model_module_version": "1.5.0",
            "_model_name": "HBoxModel",
            "_view_count": null,
            "_view_module": "@jupyter-widgets/controls",
            "_view_module_version": "1.5.0",
            "_view_name": "HBoxView",
            "box_style": "",
            "children": [
              "IPY_MODEL_e39b4f352db64fa0958f5b41afd4e4ea",
              "IPY_MODEL_707eab2b681a4d4f9a122d43f6c52a9b",
              "IPY_MODEL_86a3595f6673414f842e592340b002e5"
            ],
            "layout": "IPY_MODEL_9f33786569d1468d974807fb65ce17db"
          }
        },
        "e39b4f352db64fa0958f5b41afd4e4ea": {
          "model_module": "@jupyter-widgets/controls",
          "model_name": "HTMLModel",
          "model_module_version": "1.5.0",
          "state": {
            "_dom_classes": [],
            "_model_module": "@jupyter-widgets/controls",
            "_model_module_version": "1.5.0",
            "_model_name": "HTMLModel",
            "_view_count": null,
            "_view_module": "@jupyter-widgets/controls",
            "_view_module_version": "1.5.0",
            "_view_name": "HTMLView",
            "description": "",
            "description_tooltip": null,
            "layout": "IPY_MODEL_7bcbd44acd78492aaa07706bb7460a25",
            "placeholder": "​",
            "style": "IPY_MODEL_d2883e7af5c7497399b40349ffe16fac",
            "value": "Batch: 185, Correct items: 20.0000: 100%"
          }
        },
        "707eab2b681a4d4f9a122d43f6c52a9b": {
          "model_module": "@jupyter-widgets/controls",
          "model_name": "FloatProgressModel",
          "model_module_version": "1.5.0",
          "state": {
            "_dom_classes": [],
            "_model_module": "@jupyter-widgets/controls",
            "_model_module_version": "1.5.0",
            "_model_name": "FloatProgressModel",
            "_view_count": null,
            "_view_module": "@jupyter-widgets/controls",
            "_view_module_version": "1.5.0",
            "_view_name": "ProgressView",
            "bar_style": "success",
            "description": "",
            "description_tooltip": null,
            "layout": "IPY_MODEL_b82d1fb1ac554954bba91cdf92cf015f",
            "max": 185,
            "min": 0,
            "orientation": "horizontal",
            "style": "IPY_MODEL_11e41df9b7fd4838bcd2edd5dae0fafb",
            "value": 185
          }
        },
        "86a3595f6673414f842e592340b002e5": {
          "model_module": "@jupyter-widgets/controls",
          "model_name": "HTMLModel",
          "model_module_version": "1.5.0",
          "state": {
            "_dom_classes": [],
            "_model_module": "@jupyter-widgets/controls",
            "_model_module_version": "1.5.0",
            "_model_name": "HTMLModel",
            "_view_count": null,
            "_view_module": "@jupyter-widgets/controls",
            "_view_module_version": "1.5.0",
            "_view_name": "HTMLView",
            "description": "",
            "description_tooltip": null,
            "layout": "IPY_MODEL_5b1d3ab5f62c423e908ecd362da3bf68",
            "placeholder": "​",
            "style": "IPY_MODEL_f817de7866794830b0c9d016da99a61a",
            "value": " 185/185 [00:05&lt;00:00, 33.38it/s]"
          }
        },
        "9f33786569d1468d974807fb65ce17db": {
          "model_module": "@jupyter-widgets/base",
          "model_name": "LayoutModel",
          "model_module_version": "1.2.0",
          "state": {
            "_model_module": "@jupyter-widgets/base",
            "_model_module_version": "1.2.0",
            "_model_name": "LayoutModel",
            "_view_count": null,
            "_view_module": "@jupyter-widgets/base",
            "_view_module_version": "1.2.0",
            "_view_name": "LayoutView",
            "align_content": null,
            "align_items": null,
            "align_self": null,
            "border": null,
            "bottom": null,
            "display": null,
            "flex": null,
            "flex_flow": null,
            "grid_area": null,
            "grid_auto_columns": null,
            "grid_auto_flow": null,
            "grid_auto_rows": null,
            "grid_column": null,
            "grid_gap": null,
            "grid_row": null,
            "grid_template_areas": null,
            "grid_template_columns": null,
            "grid_template_rows": null,
            "height": null,
            "justify_content": null,
            "justify_items": null,
            "left": null,
            "margin": null,
            "max_height": null,
            "max_width": null,
            "min_height": null,
            "min_width": null,
            "object_fit": null,
            "object_position": null,
            "order": null,
            "overflow": null,
            "overflow_x": null,
            "overflow_y": null,
            "padding": null,
            "right": null,
            "top": null,
            "visibility": null,
            "width": null
          }
        },
        "7bcbd44acd78492aaa07706bb7460a25": {
          "model_module": "@jupyter-widgets/base",
          "model_name": "LayoutModel",
          "model_module_version": "1.2.0",
          "state": {
            "_model_module": "@jupyter-widgets/base",
            "_model_module_version": "1.2.0",
            "_model_name": "LayoutModel",
            "_view_count": null,
            "_view_module": "@jupyter-widgets/base",
            "_view_module_version": "1.2.0",
            "_view_name": "LayoutView",
            "align_content": null,
            "align_items": null,
            "align_self": null,
            "border": null,
            "bottom": null,
            "display": null,
            "flex": null,
            "flex_flow": null,
            "grid_area": null,
            "grid_auto_columns": null,
            "grid_auto_flow": null,
            "grid_auto_rows": null,
            "grid_column": null,
            "grid_gap": null,
            "grid_row": null,
            "grid_template_areas": null,
            "grid_template_columns": null,
            "grid_template_rows": null,
            "height": null,
            "justify_content": null,
            "justify_items": null,
            "left": null,
            "margin": null,
            "max_height": null,
            "max_width": null,
            "min_height": null,
            "min_width": null,
            "object_fit": null,
            "object_position": null,
            "order": null,
            "overflow": null,
            "overflow_x": null,
            "overflow_y": null,
            "padding": null,
            "right": null,
            "top": null,
            "visibility": null,
            "width": null
          }
        },
        "d2883e7af5c7497399b40349ffe16fac": {
          "model_module": "@jupyter-widgets/controls",
          "model_name": "DescriptionStyleModel",
          "model_module_version": "1.5.0",
          "state": {
            "_model_module": "@jupyter-widgets/controls",
            "_model_module_version": "1.5.0",
            "_model_name": "DescriptionStyleModel",
            "_view_count": null,
            "_view_module": "@jupyter-widgets/base",
            "_view_module_version": "1.2.0",
            "_view_name": "StyleView",
            "description_width": ""
          }
        },
        "b82d1fb1ac554954bba91cdf92cf015f": {
          "model_module": "@jupyter-widgets/base",
          "model_name": "LayoutModel",
          "model_module_version": "1.2.0",
          "state": {
            "_model_module": "@jupyter-widgets/base",
            "_model_module_version": "1.2.0",
            "_model_name": "LayoutModel",
            "_view_count": null,
            "_view_module": "@jupyter-widgets/base",
            "_view_module_version": "1.2.0",
            "_view_name": "LayoutView",
            "align_content": null,
            "align_items": null,
            "align_self": null,
            "border": null,
            "bottom": null,
            "display": null,
            "flex": null,
            "flex_flow": null,
            "grid_area": null,
            "grid_auto_columns": null,
            "grid_auto_flow": null,
            "grid_auto_rows": null,
            "grid_column": null,
            "grid_gap": null,
            "grid_row": null,
            "grid_template_areas": null,
            "grid_template_columns": null,
            "grid_template_rows": null,
            "height": null,
            "justify_content": null,
            "justify_items": null,
            "left": null,
            "margin": null,
            "max_height": null,
            "max_width": null,
            "min_height": null,
            "min_width": null,
            "object_fit": null,
            "object_position": null,
            "order": null,
            "overflow": null,
            "overflow_x": null,
            "overflow_y": null,
            "padding": null,
            "right": null,
            "top": null,
            "visibility": null,
            "width": null
          }
        },
        "11e41df9b7fd4838bcd2edd5dae0fafb": {
          "model_module": "@jupyter-widgets/controls",
          "model_name": "ProgressStyleModel",
          "model_module_version": "1.5.0",
          "state": {
            "_model_module": "@jupyter-widgets/controls",
            "_model_module_version": "1.5.0",
            "_model_name": "ProgressStyleModel",
            "_view_count": null,
            "_view_module": "@jupyter-widgets/base",
            "_view_module_version": "1.2.0",
            "_view_name": "StyleView",
            "bar_color": null,
            "description_width": ""
          }
        },
        "5b1d3ab5f62c423e908ecd362da3bf68": {
          "model_module": "@jupyter-widgets/base",
          "model_name": "LayoutModel",
          "model_module_version": "1.2.0",
          "state": {
            "_model_module": "@jupyter-widgets/base",
            "_model_module_version": "1.2.0",
            "_model_name": "LayoutModel",
            "_view_count": null,
            "_view_module": "@jupyter-widgets/base",
            "_view_module_version": "1.2.0",
            "_view_name": "LayoutView",
            "align_content": null,
            "align_items": null,
            "align_self": null,
            "border": null,
            "bottom": null,
            "display": null,
            "flex": null,
            "flex_flow": null,
            "grid_area": null,
            "grid_auto_columns": null,
            "grid_auto_flow": null,
            "grid_auto_rows": null,
            "grid_column": null,
            "grid_gap": null,
            "grid_row": null,
            "grid_template_areas": null,
            "grid_template_columns": null,
            "grid_template_rows": null,
            "height": null,
            "justify_content": null,
            "justify_items": null,
            "left": null,
            "margin": null,
            "max_height": null,
            "max_width": null,
            "min_height": null,
            "min_width": null,
            "object_fit": null,
            "object_position": null,
            "order": null,
            "overflow": null,
            "overflow_x": null,
            "overflow_y": null,
            "padding": null,
            "right": null,
            "top": null,
            "visibility": null,
            "width": null
          }
        },
        "f817de7866794830b0c9d016da99a61a": {
          "model_module": "@jupyter-widgets/controls",
          "model_name": "DescriptionStyleModel",
          "model_module_version": "1.5.0",
          "state": {
            "_model_module": "@jupyter-widgets/controls",
            "_model_module_version": "1.5.0",
            "_model_name": "DescriptionStyleModel",
            "_view_count": null,
            "_view_module": "@jupyter-widgets/base",
            "_view_module_version": "1.2.0",
            "_view_name": "StyleView",
            "description_width": ""
          }
        },
        "a4deb6d444cc4c66a823a86d5cc5db6f": {
          "model_module": "@jupyter-widgets/controls",
          "model_name": "HBoxModel",
          "model_module_version": "1.5.0",
          "state": {
            "_dom_classes": [],
            "_model_module": "@jupyter-widgets/controls",
            "_model_module_version": "1.5.0",
            "_model_name": "HBoxModel",
            "_view_count": null,
            "_view_module": "@jupyter-widgets/controls",
            "_view_module_version": "1.5.0",
            "_view_name": "HBoxView",
            "box_style": "",
            "children": [
              "IPY_MODEL_8f6390da6b534f07b1f17e248fd6c570",
              "IPY_MODEL_d6442827570544a9bd01dfd175f27d5c",
              "IPY_MODEL_00d3d3f560bc48b2941c69bf8dcbf1fc"
            ],
            "layout": "IPY_MODEL_2f0a395fd5b24835939f7c4a27a4afa4"
          }
        },
        "8f6390da6b534f07b1f17e248fd6c570": {
          "model_module": "@jupyter-widgets/controls",
          "model_name": "HTMLModel",
          "model_module_version": "1.5.0",
          "state": {
            "_dom_classes": [],
            "_model_module": "@jupyter-widgets/controls",
            "_model_module_version": "1.5.0",
            "_model_name": "HTMLModel",
            "_view_count": null,
            "_view_module": "@jupyter-widgets/controls",
            "_view_module_version": "1.5.0",
            "_view_name": "HTMLView",
            "description": "",
            "description_tooltip": null,
            "layout": "IPY_MODEL_00cd8919eb704c40bca9e721aba563a6",
            "placeholder": "​",
            "style": "IPY_MODEL_8fe4f5134a114161b6601eee9d5309e2",
            "value": "Batch: 185, Correct items: 23.0000: 100%"
          }
        },
        "d6442827570544a9bd01dfd175f27d5c": {
          "model_module": "@jupyter-widgets/controls",
          "model_name": "FloatProgressModel",
          "model_module_version": "1.5.0",
          "state": {
            "_dom_classes": [],
            "_model_module": "@jupyter-widgets/controls",
            "_model_module_version": "1.5.0",
            "_model_name": "FloatProgressModel",
            "_view_count": null,
            "_view_module": "@jupyter-widgets/controls",
            "_view_module_version": "1.5.0",
            "_view_name": "ProgressView",
            "bar_style": "success",
            "description": "",
            "description_tooltip": null,
            "layout": "IPY_MODEL_662f5589852b4622ad76bde97128fdc7",
            "max": 185,
            "min": 0,
            "orientation": "horizontal",
            "style": "IPY_MODEL_215d858504564ee2adf40c237aa7c35a",
            "value": 185
          }
        },
        "00d3d3f560bc48b2941c69bf8dcbf1fc": {
          "model_module": "@jupyter-widgets/controls",
          "model_name": "HTMLModel",
          "model_module_version": "1.5.0",
          "state": {
            "_dom_classes": [],
            "_model_module": "@jupyter-widgets/controls",
            "_model_module_version": "1.5.0",
            "_model_name": "HTMLModel",
            "_view_count": null,
            "_view_module": "@jupyter-widgets/controls",
            "_view_module_version": "1.5.0",
            "_view_name": "HTMLView",
            "description": "",
            "description_tooltip": null,
            "layout": "IPY_MODEL_333628158102429bbce9b036aedefbf9",
            "placeholder": "​",
            "style": "IPY_MODEL_20c686f98cfd43a69f72db5610614558",
            "value": " 185/185 [00:05&lt;00:00, 32.30it/s]"
          }
        },
        "2f0a395fd5b24835939f7c4a27a4afa4": {
          "model_module": "@jupyter-widgets/base",
          "model_name": "LayoutModel",
          "model_module_version": "1.2.0",
          "state": {
            "_model_module": "@jupyter-widgets/base",
            "_model_module_version": "1.2.0",
            "_model_name": "LayoutModel",
            "_view_count": null,
            "_view_module": "@jupyter-widgets/base",
            "_view_module_version": "1.2.0",
            "_view_name": "LayoutView",
            "align_content": null,
            "align_items": null,
            "align_self": null,
            "border": null,
            "bottom": null,
            "display": null,
            "flex": null,
            "flex_flow": null,
            "grid_area": null,
            "grid_auto_columns": null,
            "grid_auto_flow": null,
            "grid_auto_rows": null,
            "grid_column": null,
            "grid_gap": null,
            "grid_row": null,
            "grid_template_areas": null,
            "grid_template_columns": null,
            "grid_template_rows": null,
            "height": null,
            "justify_content": null,
            "justify_items": null,
            "left": null,
            "margin": null,
            "max_height": null,
            "max_width": null,
            "min_height": null,
            "min_width": null,
            "object_fit": null,
            "object_position": null,
            "order": null,
            "overflow": null,
            "overflow_x": null,
            "overflow_y": null,
            "padding": null,
            "right": null,
            "top": null,
            "visibility": null,
            "width": null
          }
        },
        "00cd8919eb704c40bca9e721aba563a6": {
          "model_module": "@jupyter-widgets/base",
          "model_name": "LayoutModel",
          "model_module_version": "1.2.0",
          "state": {
            "_model_module": "@jupyter-widgets/base",
            "_model_module_version": "1.2.0",
            "_model_name": "LayoutModel",
            "_view_count": null,
            "_view_module": "@jupyter-widgets/base",
            "_view_module_version": "1.2.0",
            "_view_name": "LayoutView",
            "align_content": null,
            "align_items": null,
            "align_self": null,
            "border": null,
            "bottom": null,
            "display": null,
            "flex": null,
            "flex_flow": null,
            "grid_area": null,
            "grid_auto_columns": null,
            "grid_auto_flow": null,
            "grid_auto_rows": null,
            "grid_column": null,
            "grid_gap": null,
            "grid_row": null,
            "grid_template_areas": null,
            "grid_template_columns": null,
            "grid_template_rows": null,
            "height": null,
            "justify_content": null,
            "justify_items": null,
            "left": null,
            "margin": null,
            "max_height": null,
            "max_width": null,
            "min_height": null,
            "min_width": null,
            "object_fit": null,
            "object_position": null,
            "order": null,
            "overflow": null,
            "overflow_x": null,
            "overflow_y": null,
            "padding": null,
            "right": null,
            "top": null,
            "visibility": null,
            "width": null
          }
        },
        "8fe4f5134a114161b6601eee9d5309e2": {
          "model_module": "@jupyter-widgets/controls",
          "model_name": "DescriptionStyleModel",
          "model_module_version": "1.5.0",
          "state": {
            "_model_module": "@jupyter-widgets/controls",
            "_model_module_version": "1.5.0",
            "_model_name": "DescriptionStyleModel",
            "_view_count": null,
            "_view_module": "@jupyter-widgets/base",
            "_view_module_version": "1.2.0",
            "_view_name": "StyleView",
            "description_width": ""
          }
        },
        "662f5589852b4622ad76bde97128fdc7": {
          "model_module": "@jupyter-widgets/base",
          "model_name": "LayoutModel",
          "model_module_version": "1.2.0",
          "state": {
            "_model_module": "@jupyter-widgets/base",
            "_model_module_version": "1.2.0",
            "_model_name": "LayoutModel",
            "_view_count": null,
            "_view_module": "@jupyter-widgets/base",
            "_view_module_version": "1.2.0",
            "_view_name": "LayoutView",
            "align_content": null,
            "align_items": null,
            "align_self": null,
            "border": null,
            "bottom": null,
            "display": null,
            "flex": null,
            "flex_flow": null,
            "grid_area": null,
            "grid_auto_columns": null,
            "grid_auto_flow": null,
            "grid_auto_rows": null,
            "grid_column": null,
            "grid_gap": null,
            "grid_row": null,
            "grid_template_areas": null,
            "grid_template_columns": null,
            "grid_template_rows": null,
            "height": null,
            "justify_content": null,
            "justify_items": null,
            "left": null,
            "margin": null,
            "max_height": null,
            "max_width": null,
            "min_height": null,
            "min_width": null,
            "object_fit": null,
            "object_position": null,
            "order": null,
            "overflow": null,
            "overflow_x": null,
            "overflow_y": null,
            "padding": null,
            "right": null,
            "top": null,
            "visibility": null,
            "width": null
          }
        },
        "215d858504564ee2adf40c237aa7c35a": {
          "model_module": "@jupyter-widgets/controls",
          "model_name": "ProgressStyleModel",
          "model_module_version": "1.5.0",
          "state": {
            "_model_module": "@jupyter-widgets/controls",
            "_model_module_version": "1.5.0",
            "_model_name": "ProgressStyleModel",
            "_view_count": null,
            "_view_module": "@jupyter-widgets/base",
            "_view_module_version": "1.2.0",
            "_view_name": "StyleView",
            "bar_color": null,
            "description_width": ""
          }
        },
        "333628158102429bbce9b036aedefbf9": {
          "model_module": "@jupyter-widgets/base",
          "model_name": "LayoutModel",
          "model_module_version": "1.2.0",
          "state": {
            "_model_module": "@jupyter-widgets/base",
            "_model_module_version": "1.2.0",
            "_model_name": "LayoutModel",
            "_view_count": null,
            "_view_module": "@jupyter-widgets/base",
            "_view_module_version": "1.2.0",
            "_view_name": "LayoutView",
            "align_content": null,
            "align_items": null,
            "align_self": null,
            "border": null,
            "bottom": null,
            "display": null,
            "flex": null,
            "flex_flow": null,
            "grid_area": null,
            "grid_auto_columns": null,
            "grid_auto_flow": null,
            "grid_auto_rows": null,
            "grid_column": null,
            "grid_gap": null,
            "grid_row": null,
            "grid_template_areas": null,
            "grid_template_columns": null,
            "grid_template_rows": null,
            "height": null,
            "justify_content": null,
            "justify_items": null,
            "left": null,
            "margin": null,
            "max_height": null,
            "max_width": null,
            "min_height": null,
            "min_width": null,
            "object_fit": null,
            "object_position": null,
            "order": null,
            "overflow": null,
            "overflow_x": null,
            "overflow_y": null,
            "padding": null,
            "right": null,
            "top": null,
            "visibility": null,
            "width": null
          }
        },
        "20c686f98cfd43a69f72db5610614558": {
          "model_module": "@jupyter-widgets/controls",
          "model_name": "DescriptionStyleModel",
          "model_module_version": "1.5.0",
          "state": {
            "_model_module": "@jupyter-widgets/controls",
            "_model_module_version": "1.5.0",
            "_model_name": "DescriptionStyleModel",
            "_view_count": null,
            "_view_module": "@jupyter-widgets/base",
            "_view_module_version": "1.2.0",
            "_view_name": "StyleView",
            "description_width": ""
          }
        },
        "d760011b3e1e4c39aed07844b1856482": {
          "model_module": "@jupyter-widgets/controls",
          "model_name": "HBoxModel",
          "model_module_version": "1.5.0",
          "state": {
            "_dom_classes": [],
            "_model_module": "@jupyter-widgets/controls",
            "_model_module_version": "1.5.0",
            "_model_name": "HBoxModel",
            "_view_count": null,
            "_view_module": "@jupyter-widgets/controls",
            "_view_module_version": "1.5.0",
            "_view_name": "HBoxView",
            "box_style": "",
            "children": [
              "IPY_MODEL_d8abf70993804f0eb79ecc9dbb90747a",
              "IPY_MODEL_53b92feaf57b4954911bbd8fde2b785c",
              "IPY_MODEL_c5edb27216a148e4b0966d2eea8db11a"
            ],
            "layout": "IPY_MODEL_08d14aa383c34049957e11af75f11c6c"
          }
        },
        "d8abf70993804f0eb79ecc9dbb90747a": {
          "model_module": "@jupyter-widgets/controls",
          "model_name": "HTMLModel",
          "model_module_version": "1.5.0",
          "state": {
            "_dom_classes": [],
            "_model_module": "@jupyter-widgets/controls",
            "_model_module_version": "1.5.0",
            "_model_name": "HTMLModel",
            "_view_count": null,
            "_view_module": "@jupyter-widgets/controls",
            "_view_module_version": "1.5.0",
            "_view_name": "HTMLView",
            "description": "",
            "description_tooltip": null,
            "layout": "IPY_MODEL_2f62f5280ba14d2ba6d045186bf23b6b",
            "placeholder": "​",
            "style": "IPY_MODEL_ed28ca1c36914941b26eedb539ebc15a",
            "value": "Batch: 863, Correct items: 2.0000: 100%"
          }
        },
        "53b92feaf57b4954911bbd8fde2b785c": {
          "model_module": "@jupyter-widgets/controls",
          "model_name": "FloatProgressModel",
          "model_module_version": "1.5.0",
          "state": {
            "_dom_classes": [],
            "_model_module": "@jupyter-widgets/controls",
            "_model_module_version": "1.5.0",
            "_model_name": "FloatProgressModel",
            "_view_count": null,
            "_view_module": "@jupyter-widgets/controls",
            "_view_module_version": "1.5.0",
            "_view_name": "ProgressView",
            "bar_style": "success",
            "description": "",
            "description_tooltip": null,
            "layout": "IPY_MODEL_9dbd5c5a69b346c48f785f8b4df64bbe",
            "max": 863,
            "min": 0,
            "orientation": "horizontal",
            "style": "IPY_MODEL_d095f2bf3fdd406b8ef4d3e132fa419e",
            "value": 863
          }
        },
        "c5edb27216a148e4b0966d2eea8db11a": {
          "model_module": "@jupyter-widgets/controls",
          "model_name": "HTMLModel",
          "model_module_version": "1.5.0",
          "state": {
            "_dom_classes": [],
            "_model_module": "@jupyter-widgets/controls",
            "_model_module_version": "1.5.0",
            "_model_name": "HTMLModel",
            "_view_count": null,
            "_view_module": "@jupyter-widgets/controls",
            "_view_module_version": "1.5.0",
            "_view_name": "HTMLView",
            "description": "",
            "description_tooltip": null,
            "layout": "IPY_MODEL_bed83113487446b689a85d3614c29b02",
            "placeholder": "​",
            "style": "IPY_MODEL_6c800c55262c420e9dc3fb17577257be",
            "value": " 863/863 [00:26&lt;00:00, 32.95it/s]"
          }
        },
        "08d14aa383c34049957e11af75f11c6c": {
          "model_module": "@jupyter-widgets/base",
          "model_name": "LayoutModel",
          "model_module_version": "1.2.0",
          "state": {
            "_model_module": "@jupyter-widgets/base",
            "_model_module_version": "1.2.0",
            "_model_name": "LayoutModel",
            "_view_count": null,
            "_view_module": "@jupyter-widgets/base",
            "_view_module_version": "1.2.0",
            "_view_name": "LayoutView",
            "align_content": null,
            "align_items": null,
            "align_self": null,
            "border": null,
            "bottom": null,
            "display": null,
            "flex": null,
            "flex_flow": null,
            "grid_area": null,
            "grid_auto_columns": null,
            "grid_auto_flow": null,
            "grid_auto_rows": null,
            "grid_column": null,
            "grid_gap": null,
            "grid_row": null,
            "grid_template_areas": null,
            "grid_template_columns": null,
            "grid_template_rows": null,
            "height": null,
            "justify_content": null,
            "justify_items": null,
            "left": null,
            "margin": null,
            "max_height": null,
            "max_width": null,
            "min_height": null,
            "min_width": null,
            "object_fit": null,
            "object_position": null,
            "order": null,
            "overflow": null,
            "overflow_x": null,
            "overflow_y": null,
            "padding": null,
            "right": null,
            "top": null,
            "visibility": null,
            "width": null
          }
        },
        "2f62f5280ba14d2ba6d045186bf23b6b": {
          "model_module": "@jupyter-widgets/base",
          "model_name": "LayoutModel",
          "model_module_version": "1.2.0",
          "state": {
            "_model_module": "@jupyter-widgets/base",
            "_model_module_version": "1.2.0",
            "_model_name": "LayoutModel",
            "_view_count": null,
            "_view_module": "@jupyter-widgets/base",
            "_view_module_version": "1.2.0",
            "_view_name": "LayoutView",
            "align_content": null,
            "align_items": null,
            "align_self": null,
            "border": null,
            "bottom": null,
            "display": null,
            "flex": null,
            "flex_flow": null,
            "grid_area": null,
            "grid_auto_columns": null,
            "grid_auto_flow": null,
            "grid_auto_rows": null,
            "grid_column": null,
            "grid_gap": null,
            "grid_row": null,
            "grid_template_areas": null,
            "grid_template_columns": null,
            "grid_template_rows": null,
            "height": null,
            "justify_content": null,
            "justify_items": null,
            "left": null,
            "margin": null,
            "max_height": null,
            "max_width": null,
            "min_height": null,
            "min_width": null,
            "object_fit": null,
            "object_position": null,
            "order": null,
            "overflow": null,
            "overflow_x": null,
            "overflow_y": null,
            "padding": null,
            "right": null,
            "top": null,
            "visibility": null,
            "width": null
          }
        },
        "ed28ca1c36914941b26eedb539ebc15a": {
          "model_module": "@jupyter-widgets/controls",
          "model_name": "DescriptionStyleModel",
          "model_module_version": "1.5.0",
          "state": {
            "_model_module": "@jupyter-widgets/controls",
            "_model_module_version": "1.5.0",
            "_model_name": "DescriptionStyleModel",
            "_view_count": null,
            "_view_module": "@jupyter-widgets/base",
            "_view_module_version": "1.2.0",
            "_view_name": "StyleView",
            "description_width": ""
          }
        },
        "9dbd5c5a69b346c48f785f8b4df64bbe": {
          "model_module": "@jupyter-widgets/base",
          "model_name": "LayoutModel",
          "model_module_version": "1.2.0",
          "state": {
            "_model_module": "@jupyter-widgets/base",
            "_model_module_version": "1.2.0",
            "_model_name": "LayoutModel",
            "_view_count": null,
            "_view_module": "@jupyter-widgets/base",
            "_view_module_version": "1.2.0",
            "_view_name": "LayoutView",
            "align_content": null,
            "align_items": null,
            "align_self": null,
            "border": null,
            "bottom": null,
            "display": null,
            "flex": null,
            "flex_flow": null,
            "grid_area": null,
            "grid_auto_columns": null,
            "grid_auto_flow": null,
            "grid_auto_rows": null,
            "grid_column": null,
            "grid_gap": null,
            "grid_row": null,
            "grid_template_areas": null,
            "grid_template_columns": null,
            "grid_template_rows": null,
            "height": null,
            "justify_content": null,
            "justify_items": null,
            "left": null,
            "margin": null,
            "max_height": null,
            "max_width": null,
            "min_height": null,
            "min_width": null,
            "object_fit": null,
            "object_position": null,
            "order": null,
            "overflow": null,
            "overflow_x": null,
            "overflow_y": null,
            "padding": null,
            "right": null,
            "top": null,
            "visibility": null,
            "width": null
          }
        },
        "d095f2bf3fdd406b8ef4d3e132fa419e": {
          "model_module": "@jupyter-widgets/controls",
          "model_name": "ProgressStyleModel",
          "model_module_version": "1.5.0",
          "state": {
            "_model_module": "@jupyter-widgets/controls",
            "_model_module_version": "1.5.0",
            "_model_name": "ProgressStyleModel",
            "_view_count": null,
            "_view_module": "@jupyter-widgets/base",
            "_view_module_version": "1.2.0",
            "_view_name": "StyleView",
            "bar_color": null,
            "description_width": ""
          }
        },
        "bed83113487446b689a85d3614c29b02": {
          "model_module": "@jupyter-widgets/base",
          "model_name": "LayoutModel",
          "model_module_version": "1.2.0",
          "state": {
            "_model_module": "@jupyter-widgets/base",
            "_model_module_version": "1.2.0",
            "_model_name": "LayoutModel",
            "_view_count": null,
            "_view_module": "@jupyter-widgets/base",
            "_view_module_version": "1.2.0",
            "_view_name": "LayoutView",
            "align_content": null,
            "align_items": null,
            "align_self": null,
            "border": null,
            "bottom": null,
            "display": null,
            "flex": null,
            "flex_flow": null,
            "grid_area": null,
            "grid_auto_columns": null,
            "grid_auto_flow": null,
            "grid_auto_rows": null,
            "grid_column": null,
            "grid_gap": null,
            "grid_row": null,
            "grid_template_areas": null,
            "grid_template_columns": null,
            "grid_template_rows": null,
            "height": null,
            "justify_content": null,
            "justify_items": null,
            "left": null,
            "margin": null,
            "max_height": null,
            "max_width": null,
            "min_height": null,
            "min_width": null,
            "object_fit": null,
            "object_position": null,
            "order": null,
            "overflow": null,
            "overflow_x": null,
            "overflow_y": null,
            "padding": null,
            "right": null,
            "top": null,
            "visibility": null,
            "width": null
          }
        },
        "6c800c55262c420e9dc3fb17577257be": {
          "model_module": "@jupyter-widgets/controls",
          "model_name": "DescriptionStyleModel",
          "model_module_version": "1.5.0",
          "state": {
            "_model_module": "@jupyter-widgets/controls",
            "_model_module_version": "1.5.0",
            "_model_name": "DescriptionStyleModel",
            "_view_count": null,
            "_view_module": "@jupyter-widgets/base",
            "_view_module_version": "1.2.0",
            "_view_name": "StyleView",
            "description_width": ""
          }
        },
        "84632ed32e2a411a94041e3a3c3f968d": {
          "model_module": "@jupyter-widgets/controls",
          "model_name": "HBoxModel",
          "model_module_version": "1.5.0",
          "state": {
            "_dom_classes": [],
            "_model_module": "@jupyter-widgets/controls",
            "_model_module_version": "1.5.0",
            "_model_name": "HBoxModel",
            "_view_count": null,
            "_view_module": "@jupyter-widgets/controls",
            "_view_module_version": "1.5.0",
            "_view_name": "HBoxView",
            "box_style": "",
            "children": [
              "IPY_MODEL_4f803c3b866c4273945a696c64aa6f54",
              "IPY_MODEL_f98e5194a7834f2487a86b6244188c39",
              "IPY_MODEL_8105ae83e0984e619a9eae63cfa389bc"
            ],
            "layout": "IPY_MODEL_2deaad4f89f946ac8b9346722144b1d4"
          }
        },
        "4f803c3b866c4273945a696c64aa6f54": {
          "model_module": "@jupyter-widgets/controls",
          "model_name": "HTMLModel",
          "model_module_version": "1.5.0",
          "state": {
            "_dom_classes": [],
            "_model_module": "@jupyter-widgets/controls",
            "_model_module_version": "1.5.0",
            "_model_name": "HTMLModel",
            "_view_count": null,
            "_view_module": "@jupyter-widgets/controls",
            "_view_module_version": "1.5.0",
            "_view_name": "HTMLView",
            "description": "",
            "description_tooltip": null,
            "layout": "IPY_MODEL_b4ee7744ea5944fba44208e337d25e75",
            "placeholder": "​",
            "style": "IPY_MODEL_1ba4c4a6f4f34899875f0dedf57d9894",
            "value": "Batch: 185, Correct items: 21.0000: 100%"
          }
        },
        "f98e5194a7834f2487a86b6244188c39": {
          "model_module": "@jupyter-widgets/controls",
          "model_name": "FloatProgressModel",
          "model_module_version": "1.5.0",
          "state": {
            "_dom_classes": [],
            "_model_module": "@jupyter-widgets/controls",
            "_model_module_version": "1.5.0",
            "_model_name": "FloatProgressModel",
            "_view_count": null,
            "_view_module": "@jupyter-widgets/controls",
            "_view_module_version": "1.5.0",
            "_view_name": "ProgressView",
            "bar_style": "success",
            "description": "",
            "description_tooltip": null,
            "layout": "IPY_MODEL_73270f9c4fad4b7b9dc83cc0557ebdb5",
            "max": 185,
            "min": 0,
            "orientation": "horizontal",
            "style": "IPY_MODEL_a0dc40ec1e794ba5a8dd99fec208f388",
            "value": 185
          }
        },
        "8105ae83e0984e619a9eae63cfa389bc": {
          "model_module": "@jupyter-widgets/controls",
          "model_name": "HTMLModel",
          "model_module_version": "1.5.0",
          "state": {
            "_dom_classes": [],
            "_model_module": "@jupyter-widgets/controls",
            "_model_module_version": "1.5.0",
            "_model_name": "HTMLModel",
            "_view_count": null,
            "_view_module": "@jupyter-widgets/controls",
            "_view_module_version": "1.5.0",
            "_view_name": "HTMLView",
            "description": "",
            "description_tooltip": null,
            "layout": "IPY_MODEL_becead3262884d0ea2f6faddc904c3c5",
            "placeholder": "​",
            "style": "IPY_MODEL_2a76933cb7044a4ba10f76c05f2e3bab",
            "value": " 185/185 [00:05&lt;00:00, 33.53it/s]"
          }
        },
        "2deaad4f89f946ac8b9346722144b1d4": {
          "model_module": "@jupyter-widgets/base",
          "model_name": "LayoutModel",
          "model_module_version": "1.2.0",
          "state": {
            "_model_module": "@jupyter-widgets/base",
            "_model_module_version": "1.2.0",
            "_model_name": "LayoutModel",
            "_view_count": null,
            "_view_module": "@jupyter-widgets/base",
            "_view_module_version": "1.2.0",
            "_view_name": "LayoutView",
            "align_content": null,
            "align_items": null,
            "align_self": null,
            "border": null,
            "bottom": null,
            "display": null,
            "flex": null,
            "flex_flow": null,
            "grid_area": null,
            "grid_auto_columns": null,
            "grid_auto_flow": null,
            "grid_auto_rows": null,
            "grid_column": null,
            "grid_gap": null,
            "grid_row": null,
            "grid_template_areas": null,
            "grid_template_columns": null,
            "grid_template_rows": null,
            "height": null,
            "justify_content": null,
            "justify_items": null,
            "left": null,
            "margin": null,
            "max_height": null,
            "max_width": null,
            "min_height": null,
            "min_width": null,
            "object_fit": null,
            "object_position": null,
            "order": null,
            "overflow": null,
            "overflow_x": null,
            "overflow_y": null,
            "padding": null,
            "right": null,
            "top": null,
            "visibility": null,
            "width": null
          }
        },
        "b4ee7744ea5944fba44208e337d25e75": {
          "model_module": "@jupyter-widgets/base",
          "model_name": "LayoutModel",
          "model_module_version": "1.2.0",
          "state": {
            "_model_module": "@jupyter-widgets/base",
            "_model_module_version": "1.2.0",
            "_model_name": "LayoutModel",
            "_view_count": null,
            "_view_module": "@jupyter-widgets/base",
            "_view_module_version": "1.2.0",
            "_view_name": "LayoutView",
            "align_content": null,
            "align_items": null,
            "align_self": null,
            "border": null,
            "bottom": null,
            "display": null,
            "flex": null,
            "flex_flow": null,
            "grid_area": null,
            "grid_auto_columns": null,
            "grid_auto_flow": null,
            "grid_auto_rows": null,
            "grid_column": null,
            "grid_gap": null,
            "grid_row": null,
            "grid_template_areas": null,
            "grid_template_columns": null,
            "grid_template_rows": null,
            "height": null,
            "justify_content": null,
            "justify_items": null,
            "left": null,
            "margin": null,
            "max_height": null,
            "max_width": null,
            "min_height": null,
            "min_width": null,
            "object_fit": null,
            "object_position": null,
            "order": null,
            "overflow": null,
            "overflow_x": null,
            "overflow_y": null,
            "padding": null,
            "right": null,
            "top": null,
            "visibility": null,
            "width": null
          }
        },
        "1ba4c4a6f4f34899875f0dedf57d9894": {
          "model_module": "@jupyter-widgets/controls",
          "model_name": "DescriptionStyleModel",
          "model_module_version": "1.5.0",
          "state": {
            "_model_module": "@jupyter-widgets/controls",
            "_model_module_version": "1.5.0",
            "_model_name": "DescriptionStyleModel",
            "_view_count": null,
            "_view_module": "@jupyter-widgets/base",
            "_view_module_version": "1.2.0",
            "_view_name": "StyleView",
            "description_width": ""
          }
        },
        "73270f9c4fad4b7b9dc83cc0557ebdb5": {
          "model_module": "@jupyter-widgets/base",
          "model_name": "LayoutModel",
          "model_module_version": "1.2.0",
          "state": {
            "_model_module": "@jupyter-widgets/base",
            "_model_module_version": "1.2.0",
            "_model_name": "LayoutModel",
            "_view_count": null,
            "_view_module": "@jupyter-widgets/base",
            "_view_module_version": "1.2.0",
            "_view_name": "LayoutView",
            "align_content": null,
            "align_items": null,
            "align_self": null,
            "border": null,
            "bottom": null,
            "display": null,
            "flex": null,
            "flex_flow": null,
            "grid_area": null,
            "grid_auto_columns": null,
            "grid_auto_flow": null,
            "grid_auto_rows": null,
            "grid_column": null,
            "grid_gap": null,
            "grid_row": null,
            "grid_template_areas": null,
            "grid_template_columns": null,
            "grid_template_rows": null,
            "height": null,
            "justify_content": null,
            "justify_items": null,
            "left": null,
            "margin": null,
            "max_height": null,
            "max_width": null,
            "min_height": null,
            "min_width": null,
            "object_fit": null,
            "object_position": null,
            "order": null,
            "overflow": null,
            "overflow_x": null,
            "overflow_y": null,
            "padding": null,
            "right": null,
            "top": null,
            "visibility": null,
            "width": null
          }
        },
        "a0dc40ec1e794ba5a8dd99fec208f388": {
          "model_module": "@jupyter-widgets/controls",
          "model_name": "ProgressStyleModel",
          "model_module_version": "1.5.0",
          "state": {
            "_model_module": "@jupyter-widgets/controls",
            "_model_module_version": "1.5.0",
            "_model_name": "ProgressStyleModel",
            "_view_count": null,
            "_view_module": "@jupyter-widgets/base",
            "_view_module_version": "1.2.0",
            "_view_name": "StyleView",
            "bar_color": null,
            "description_width": ""
          }
        },
        "becead3262884d0ea2f6faddc904c3c5": {
          "model_module": "@jupyter-widgets/base",
          "model_name": "LayoutModel",
          "model_module_version": "1.2.0",
          "state": {
            "_model_module": "@jupyter-widgets/base",
            "_model_module_version": "1.2.0",
            "_model_name": "LayoutModel",
            "_view_count": null,
            "_view_module": "@jupyter-widgets/base",
            "_view_module_version": "1.2.0",
            "_view_name": "LayoutView",
            "align_content": null,
            "align_items": null,
            "align_self": null,
            "border": null,
            "bottom": null,
            "display": null,
            "flex": null,
            "flex_flow": null,
            "grid_area": null,
            "grid_auto_columns": null,
            "grid_auto_flow": null,
            "grid_auto_rows": null,
            "grid_column": null,
            "grid_gap": null,
            "grid_row": null,
            "grid_template_areas": null,
            "grid_template_columns": null,
            "grid_template_rows": null,
            "height": null,
            "justify_content": null,
            "justify_items": null,
            "left": null,
            "margin": null,
            "max_height": null,
            "max_width": null,
            "min_height": null,
            "min_width": null,
            "object_fit": null,
            "object_position": null,
            "order": null,
            "overflow": null,
            "overflow_x": null,
            "overflow_y": null,
            "padding": null,
            "right": null,
            "top": null,
            "visibility": null,
            "width": null
          }
        },
        "2a76933cb7044a4ba10f76c05f2e3bab": {
          "model_module": "@jupyter-widgets/controls",
          "model_name": "DescriptionStyleModel",
          "model_module_version": "1.5.0",
          "state": {
            "_model_module": "@jupyter-widgets/controls",
            "_model_module_version": "1.5.0",
            "_model_name": "DescriptionStyleModel",
            "_view_count": null,
            "_view_module": "@jupyter-widgets/base",
            "_view_module_version": "1.2.0",
            "_view_name": "StyleView",
            "description_width": ""
          }
        },
        "8df56044b1144b2da122b2cdf3791a47": {
          "model_module": "@jupyter-widgets/controls",
          "model_name": "HBoxModel",
          "model_module_version": "1.5.0",
          "state": {
            "_dom_classes": [],
            "_model_module": "@jupyter-widgets/controls",
            "_model_module_version": "1.5.0",
            "_model_name": "HBoxModel",
            "_view_count": null,
            "_view_module": "@jupyter-widgets/controls",
            "_view_module_version": "1.5.0",
            "_view_name": "HBoxView",
            "box_style": "",
            "children": [
              "IPY_MODEL_fe486fd9b1084541862e606f446ec8f3",
              "IPY_MODEL_91519a55951248839d70678f37f338eb",
              "IPY_MODEL_2ede155f24554ddcb7acc1a645d76769"
            ],
            "layout": "IPY_MODEL_9eacc4d80f4b469199b4c8e5387d23e9"
          }
        },
        "fe486fd9b1084541862e606f446ec8f3": {
          "model_module": "@jupyter-widgets/controls",
          "model_name": "HTMLModel",
          "model_module_version": "1.5.0",
          "state": {
            "_dom_classes": [],
            "_model_module": "@jupyter-widgets/controls",
            "_model_module_version": "1.5.0",
            "_model_name": "HTMLModel",
            "_view_count": null,
            "_view_module": "@jupyter-widgets/controls",
            "_view_module_version": "1.5.0",
            "_view_name": "HTMLView",
            "description": "",
            "description_tooltip": null,
            "layout": "IPY_MODEL_ce02fab2f25f4d69a88a7b865d19b12b",
            "placeholder": "​",
            "style": "IPY_MODEL_b875ed3c7b174124815d456f45885c5a",
            "value": "Batch: 185, Correct items: 23.0000: 100%"
          }
        },
        "91519a55951248839d70678f37f338eb": {
          "model_module": "@jupyter-widgets/controls",
          "model_name": "FloatProgressModel",
          "model_module_version": "1.5.0",
          "state": {
            "_dom_classes": [],
            "_model_module": "@jupyter-widgets/controls",
            "_model_module_version": "1.5.0",
            "_model_name": "FloatProgressModel",
            "_view_count": null,
            "_view_module": "@jupyter-widgets/controls",
            "_view_module_version": "1.5.0",
            "_view_name": "ProgressView",
            "bar_style": "success",
            "description": "",
            "description_tooltip": null,
            "layout": "IPY_MODEL_5c8c73de7d0546f2a07a6b5a0a801b4d",
            "max": 185,
            "min": 0,
            "orientation": "horizontal",
            "style": "IPY_MODEL_b4a0eb63c9de498d831de83531642127",
            "value": 185
          }
        },
        "2ede155f24554ddcb7acc1a645d76769": {
          "model_module": "@jupyter-widgets/controls",
          "model_name": "HTMLModel",
          "model_module_version": "1.5.0",
          "state": {
            "_dom_classes": [],
            "_model_module": "@jupyter-widgets/controls",
            "_model_module_version": "1.5.0",
            "_model_name": "HTMLModel",
            "_view_count": null,
            "_view_module": "@jupyter-widgets/controls",
            "_view_module_version": "1.5.0",
            "_view_name": "HTMLView",
            "description": "",
            "description_tooltip": null,
            "layout": "IPY_MODEL_f47b4eeee8504849ae05b3210f5060a1",
            "placeholder": "​",
            "style": "IPY_MODEL_7be5b2b780ca4be8967ce593fac7ff8c",
            "value": " 185/185 [00:05&lt;00:00, 33.57it/s]"
          }
        },
        "9eacc4d80f4b469199b4c8e5387d23e9": {
          "model_module": "@jupyter-widgets/base",
          "model_name": "LayoutModel",
          "model_module_version": "1.2.0",
          "state": {
            "_model_module": "@jupyter-widgets/base",
            "_model_module_version": "1.2.0",
            "_model_name": "LayoutModel",
            "_view_count": null,
            "_view_module": "@jupyter-widgets/base",
            "_view_module_version": "1.2.0",
            "_view_name": "LayoutView",
            "align_content": null,
            "align_items": null,
            "align_self": null,
            "border": null,
            "bottom": null,
            "display": null,
            "flex": null,
            "flex_flow": null,
            "grid_area": null,
            "grid_auto_columns": null,
            "grid_auto_flow": null,
            "grid_auto_rows": null,
            "grid_column": null,
            "grid_gap": null,
            "grid_row": null,
            "grid_template_areas": null,
            "grid_template_columns": null,
            "grid_template_rows": null,
            "height": null,
            "justify_content": null,
            "justify_items": null,
            "left": null,
            "margin": null,
            "max_height": null,
            "max_width": null,
            "min_height": null,
            "min_width": null,
            "object_fit": null,
            "object_position": null,
            "order": null,
            "overflow": null,
            "overflow_x": null,
            "overflow_y": null,
            "padding": null,
            "right": null,
            "top": null,
            "visibility": null,
            "width": null
          }
        },
        "ce02fab2f25f4d69a88a7b865d19b12b": {
          "model_module": "@jupyter-widgets/base",
          "model_name": "LayoutModel",
          "model_module_version": "1.2.0",
          "state": {
            "_model_module": "@jupyter-widgets/base",
            "_model_module_version": "1.2.0",
            "_model_name": "LayoutModel",
            "_view_count": null,
            "_view_module": "@jupyter-widgets/base",
            "_view_module_version": "1.2.0",
            "_view_name": "LayoutView",
            "align_content": null,
            "align_items": null,
            "align_self": null,
            "border": null,
            "bottom": null,
            "display": null,
            "flex": null,
            "flex_flow": null,
            "grid_area": null,
            "grid_auto_columns": null,
            "grid_auto_flow": null,
            "grid_auto_rows": null,
            "grid_column": null,
            "grid_gap": null,
            "grid_row": null,
            "grid_template_areas": null,
            "grid_template_columns": null,
            "grid_template_rows": null,
            "height": null,
            "justify_content": null,
            "justify_items": null,
            "left": null,
            "margin": null,
            "max_height": null,
            "max_width": null,
            "min_height": null,
            "min_width": null,
            "object_fit": null,
            "object_position": null,
            "order": null,
            "overflow": null,
            "overflow_x": null,
            "overflow_y": null,
            "padding": null,
            "right": null,
            "top": null,
            "visibility": null,
            "width": null
          }
        },
        "b875ed3c7b174124815d456f45885c5a": {
          "model_module": "@jupyter-widgets/controls",
          "model_name": "DescriptionStyleModel",
          "model_module_version": "1.5.0",
          "state": {
            "_model_module": "@jupyter-widgets/controls",
            "_model_module_version": "1.5.0",
            "_model_name": "DescriptionStyleModel",
            "_view_count": null,
            "_view_module": "@jupyter-widgets/base",
            "_view_module_version": "1.2.0",
            "_view_name": "StyleView",
            "description_width": ""
          }
        },
        "5c8c73de7d0546f2a07a6b5a0a801b4d": {
          "model_module": "@jupyter-widgets/base",
          "model_name": "LayoutModel",
          "model_module_version": "1.2.0",
          "state": {
            "_model_module": "@jupyter-widgets/base",
            "_model_module_version": "1.2.0",
            "_model_name": "LayoutModel",
            "_view_count": null,
            "_view_module": "@jupyter-widgets/base",
            "_view_module_version": "1.2.0",
            "_view_name": "LayoutView",
            "align_content": null,
            "align_items": null,
            "align_self": null,
            "border": null,
            "bottom": null,
            "display": null,
            "flex": null,
            "flex_flow": null,
            "grid_area": null,
            "grid_auto_columns": null,
            "grid_auto_flow": null,
            "grid_auto_rows": null,
            "grid_column": null,
            "grid_gap": null,
            "grid_row": null,
            "grid_template_areas": null,
            "grid_template_columns": null,
            "grid_template_rows": null,
            "height": null,
            "justify_content": null,
            "justify_items": null,
            "left": null,
            "margin": null,
            "max_height": null,
            "max_width": null,
            "min_height": null,
            "min_width": null,
            "object_fit": null,
            "object_position": null,
            "order": null,
            "overflow": null,
            "overflow_x": null,
            "overflow_y": null,
            "padding": null,
            "right": null,
            "top": null,
            "visibility": null,
            "width": null
          }
        },
        "b4a0eb63c9de498d831de83531642127": {
          "model_module": "@jupyter-widgets/controls",
          "model_name": "ProgressStyleModel",
          "model_module_version": "1.5.0",
          "state": {
            "_model_module": "@jupyter-widgets/controls",
            "_model_module_version": "1.5.0",
            "_model_name": "ProgressStyleModel",
            "_view_count": null,
            "_view_module": "@jupyter-widgets/base",
            "_view_module_version": "1.2.0",
            "_view_name": "StyleView",
            "bar_color": null,
            "description_width": ""
          }
        },
        "f47b4eeee8504849ae05b3210f5060a1": {
          "model_module": "@jupyter-widgets/base",
          "model_name": "LayoutModel",
          "model_module_version": "1.2.0",
          "state": {
            "_model_module": "@jupyter-widgets/base",
            "_model_module_version": "1.2.0",
            "_model_name": "LayoutModel",
            "_view_count": null,
            "_view_module": "@jupyter-widgets/base",
            "_view_module_version": "1.2.0",
            "_view_name": "LayoutView",
            "align_content": null,
            "align_items": null,
            "align_self": null,
            "border": null,
            "bottom": null,
            "display": null,
            "flex": null,
            "flex_flow": null,
            "grid_area": null,
            "grid_auto_columns": null,
            "grid_auto_flow": null,
            "grid_auto_rows": null,
            "grid_column": null,
            "grid_gap": null,
            "grid_row": null,
            "grid_template_areas": null,
            "grid_template_columns": null,
            "grid_template_rows": null,
            "height": null,
            "justify_content": null,
            "justify_items": null,
            "left": null,
            "margin": null,
            "max_height": null,
            "max_width": null,
            "min_height": null,
            "min_width": null,
            "object_fit": null,
            "object_position": null,
            "order": null,
            "overflow": null,
            "overflow_x": null,
            "overflow_y": null,
            "padding": null,
            "right": null,
            "top": null,
            "visibility": null,
            "width": null
          }
        },
        "7be5b2b780ca4be8967ce593fac7ff8c": {
          "model_module": "@jupyter-widgets/controls",
          "model_name": "DescriptionStyleModel",
          "model_module_version": "1.5.0",
          "state": {
            "_model_module": "@jupyter-widgets/controls",
            "_model_module_version": "1.5.0",
            "_model_name": "DescriptionStyleModel",
            "_view_count": null,
            "_view_module": "@jupyter-widgets/base",
            "_view_module_version": "1.2.0",
            "_view_name": "StyleView",
            "description_width": ""
          }
        },
        "8889b9a342274c22adc8d527c9fd8ce5": {
          "model_module": "@jupyter-widgets/controls",
          "model_name": "HBoxModel",
          "model_module_version": "1.5.0",
          "state": {
            "_dom_classes": [],
            "_model_module": "@jupyter-widgets/controls",
            "_model_module_version": "1.5.0",
            "_model_name": "HBoxModel",
            "_view_count": null,
            "_view_module": "@jupyter-widgets/controls",
            "_view_module_version": "1.5.0",
            "_view_name": "HBoxView",
            "box_style": "",
            "children": [
              "IPY_MODEL_debf993857764c389cc501396c0c7f85",
              "IPY_MODEL_ff1a80a1150a46cc89681ec2b376d23a",
              "IPY_MODEL_aa868756fb0d4dc6983d87a67ef4c88a"
            ],
            "layout": "IPY_MODEL_741b1b1143ad4534aa905d4776ebe81d"
          }
        },
        "debf993857764c389cc501396c0c7f85": {
          "model_module": "@jupyter-widgets/controls",
          "model_name": "HTMLModel",
          "model_module_version": "1.5.0",
          "state": {
            "_dom_classes": [],
            "_model_module": "@jupyter-widgets/controls",
            "_model_module_version": "1.5.0",
            "_model_name": "HTMLModel",
            "_view_count": null,
            "_view_module": "@jupyter-widgets/controls",
            "_view_module_version": "1.5.0",
            "_view_name": "HTMLView",
            "description": "",
            "description_tooltip": null,
            "layout": "IPY_MODEL_1f456e963483464b9c424fc140c61a67",
            "placeholder": "​",
            "style": "IPY_MODEL_fd030f139995493e9c2132ee00feb83e",
            "value": "Batch: 863, Correct items: 2.0000: 100%"
          }
        },
        "ff1a80a1150a46cc89681ec2b376d23a": {
          "model_module": "@jupyter-widgets/controls",
          "model_name": "FloatProgressModel",
          "model_module_version": "1.5.0",
          "state": {
            "_dom_classes": [],
            "_model_module": "@jupyter-widgets/controls",
            "_model_module_version": "1.5.0",
            "_model_name": "FloatProgressModel",
            "_view_count": null,
            "_view_module": "@jupyter-widgets/controls",
            "_view_module_version": "1.5.0",
            "_view_name": "ProgressView",
            "bar_style": "success",
            "description": "",
            "description_tooltip": null,
            "layout": "IPY_MODEL_dceb1c46f88c498cad68d1e34460a4ab",
            "max": 863,
            "min": 0,
            "orientation": "horizontal",
            "style": "IPY_MODEL_cd0bbeeaa98e443b906e0862d99de637",
            "value": 863
          }
        },
        "aa868756fb0d4dc6983d87a67ef4c88a": {
          "model_module": "@jupyter-widgets/controls",
          "model_name": "HTMLModel",
          "model_module_version": "1.5.0",
          "state": {
            "_dom_classes": [],
            "_model_module": "@jupyter-widgets/controls",
            "_model_module_version": "1.5.0",
            "_model_name": "HTMLModel",
            "_view_count": null,
            "_view_module": "@jupyter-widgets/controls",
            "_view_module_version": "1.5.0",
            "_view_name": "HTMLView",
            "description": "",
            "description_tooltip": null,
            "layout": "IPY_MODEL_9990a5a6b3a44b33be1b97b4789ecceb",
            "placeholder": "​",
            "style": "IPY_MODEL_631ef253802f434c9c02682705b34e2b",
            "value": " 863/863 [00:26&lt;00:00, 32.82it/s]"
          }
        },
        "741b1b1143ad4534aa905d4776ebe81d": {
          "model_module": "@jupyter-widgets/base",
          "model_name": "LayoutModel",
          "model_module_version": "1.2.0",
          "state": {
            "_model_module": "@jupyter-widgets/base",
            "_model_module_version": "1.2.0",
            "_model_name": "LayoutModel",
            "_view_count": null,
            "_view_module": "@jupyter-widgets/base",
            "_view_module_version": "1.2.0",
            "_view_name": "LayoutView",
            "align_content": null,
            "align_items": null,
            "align_self": null,
            "border": null,
            "bottom": null,
            "display": null,
            "flex": null,
            "flex_flow": null,
            "grid_area": null,
            "grid_auto_columns": null,
            "grid_auto_flow": null,
            "grid_auto_rows": null,
            "grid_column": null,
            "grid_gap": null,
            "grid_row": null,
            "grid_template_areas": null,
            "grid_template_columns": null,
            "grid_template_rows": null,
            "height": null,
            "justify_content": null,
            "justify_items": null,
            "left": null,
            "margin": null,
            "max_height": null,
            "max_width": null,
            "min_height": null,
            "min_width": null,
            "object_fit": null,
            "object_position": null,
            "order": null,
            "overflow": null,
            "overflow_x": null,
            "overflow_y": null,
            "padding": null,
            "right": null,
            "top": null,
            "visibility": null,
            "width": null
          }
        },
        "1f456e963483464b9c424fc140c61a67": {
          "model_module": "@jupyter-widgets/base",
          "model_name": "LayoutModel",
          "model_module_version": "1.2.0",
          "state": {
            "_model_module": "@jupyter-widgets/base",
            "_model_module_version": "1.2.0",
            "_model_name": "LayoutModel",
            "_view_count": null,
            "_view_module": "@jupyter-widgets/base",
            "_view_module_version": "1.2.0",
            "_view_name": "LayoutView",
            "align_content": null,
            "align_items": null,
            "align_self": null,
            "border": null,
            "bottom": null,
            "display": null,
            "flex": null,
            "flex_flow": null,
            "grid_area": null,
            "grid_auto_columns": null,
            "grid_auto_flow": null,
            "grid_auto_rows": null,
            "grid_column": null,
            "grid_gap": null,
            "grid_row": null,
            "grid_template_areas": null,
            "grid_template_columns": null,
            "grid_template_rows": null,
            "height": null,
            "justify_content": null,
            "justify_items": null,
            "left": null,
            "margin": null,
            "max_height": null,
            "max_width": null,
            "min_height": null,
            "min_width": null,
            "object_fit": null,
            "object_position": null,
            "order": null,
            "overflow": null,
            "overflow_x": null,
            "overflow_y": null,
            "padding": null,
            "right": null,
            "top": null,
            "visibility": null,
            "width": null
          }
        },
        "fd030f139995493e9c2132ee00feb83e": {
          "model_module": "@jupyter-widgets/controls",
          "model_name": "DescriptionStyleModel",
          "model_module_version": "1.5.0",
          "state": {
            "_model_module": "@jupyter-widgets/controls",
            "_model_module_version": "1.5.0",
            "_model_name": "DescriptionStyleModel",
            "_view_count": null,
            "_view_module": "@jupyter-widgets/base",
            "_view_module_version": "1.2.0",
            "_view_name": "StyleView",
            "description_width": ""
          }
        },
        "dceb1c46f88c498cad68d1e34460a4ab": {
          "model_module": "@jupyter-widgets/base",
          "model_name": "LayoutModel",
          "model_module_version": "1.2.0",
          "state": {
            "_model_module": "@jupyter-widgets/base",
            "_model_module_version": "1.2.0",
            "_model_name": "LayoutModel",
            "_view_count": null,
            "_view_module": "@jupyter-widgets/base",
            "_view_module_version": "1.2.0",
            "_view_name": "LayoutView",
            "align_content": null,
            "align_items": null,
            "align_self": null,
            "border": null,
            "bottom": null,
            "display": null,
            "flex": null,
            "flex_flow": null,
            "grid_area": null,
            "grid_auto_columns": null,
            "grid_auto_flow": null,
            "grid_auto_rows": null,
            "grid_column": null,
            "grid_gap": null,
            "grid_row": null,
            "grid_template_areas": null,
            "grid_template_columns": null,
            "grid_template_rows": null,
            "height": null,
            "justify_content": null,
            "justify_items": null,
            "left": null,
            "margin": null,
            "max_height": null,
            "max_width": null,
            "min_height": null,
            "min_width": null,
            "object_fit": null,
            "object_position": null,
            "order": null,
            "overflow": null,
            "overflow_x": null,
            "overflow_y": null,
            "padding": null,
            "right": null,
            "top": null,
            "visibility": null,
            "width": null
          }
        },
        "cd0bbeeaa98e443b906e0862d99de637": {
          "model_module": "@jupyter-widgets/controls",
          "model_name": "ProgressStyleModel",
          "model_module_version": "1.5.0",
          "state": {
            "_model_module": "@jupyter-widgets/controls",
            "_model_module_version": "1.5.0",
            "_model_name": "ProgressStyleModel",
            "_view_count": null,
            "_view_module": "@jupyter-widgets/base",
            "_view_module_version": "1.2.0",
            "_view_name": "StyleView",
            "bar_color": null,
            "description_width": ""
          }
        },
        "9990a5a6b3a44b33be1b97b4789ecceb": {
          "model_module": "@jupyter-widgets/base",
          "model_name": "LayoutModel",
          "model_module_version": "1.2.0",
          "state": {
            "_model_module": "@jupyter-widgets/base",
            "_model_module_version": "1.2.0",
            "_model_name": "LayoutModel",
            "_view_count": null,
            "_view_module": "@jupyter-widgets/base",
            "_view_module_version": "1.2.0",
            "_view_name": "LayoutView",
            "align_content": null,
            "align_items": null,
            "align_self": null,
            "border": null,
            "bottom": null,
            "display": null,
            "flex": null,
            "flex_flow": null,
            "grid_area": null,
            "grid_auto_columns": null,
            "grid_auto_flow": null,
            "grid_auto_rows": null,
            "grid_column": null,
            "grid_gap": null,
            "grid_row": null,
            "grid_template_areas": null,
            "grid_template_columns": null,
            "grid_template_rows": null,
            "height": null,
            "justify_content": null,
            "justify_items": null,
            "left": null,
            "margin": null,
            "max_height": null,
            "max_width": null,
            "min_height": null,
            "min_width": null,
            "object_fit": null,
            "object_position": null,
            "order": null,
            "overflow": null,
            "overflow_x": null,
            "overflow_y": null,
            "padding": null,
            "right": null,
            "top": null,
            "visibility": null,
            "width": null
          }
        },
        "631ef253802f434c9c02682705b34e2b": {
          "model_module": "@jupyter-widgets/controls",
          "model_name": "DescriptionStyleModel",
          "model_module_version": "1.5.0",
          "state": {
            "_model_module": "@jupyter-widgets/controls",
            "_model_module_version": "1.5.0",
            "_model_name": "DescriptionStyleModel",
            "_view_count": null,
            "_view_module": "@jupyter-widgets/base",
            "_view_module_version": "1.2.0",
            "_view_name": "StyleView",
            "description_width": ""
          }
        },
        "0acc4e2a8e984e3ca76fb31f7222f399": {
          "model_module": "@jupyter-widgets/controls",
          "model_name": "HBoxModel",
          "model_module_version": "1.5.0",
          "state": {
            "_dom_classes": [],
            "_model_module": "@jupyter-widgets/controls",
            "_model_module_version": "1.5.0",
            "_model_name": "HBoxModel",
            "_view_count": null,
            "_view_module": "@jupyter-widgets/controls",
            "_view_module_version": "1.5.0",
            "_view_name": "HBoxView",
            "box_style": "",
            "children": [
              "IPY_MODEL_7142e7fd1d7f4ac6b015a881edf5e299",
              "IPY_MODEL_9b3f97ae9d3348c58245f391f6ebcda1",
              "IPY_MODEL_fb20c97f943a41659560c752748eb407"
            ],
            "layout": "IPY_MODEL_af83e17d72534214a594508654ebd9f5"
          }
        },
        "7142e7fd1d7f4ac6b015a881edf5e299": {
          "model_module": "@jupyter-widgets/controls",
          "model_name": "HTMLModel",
          "model_module_version": "1.5.0",
          "state": {
            "_dom_classes": [],
            "_model_module": "@jupyter-widgets/controls",
            "_model_module_version": "1.5.0",
            "_model_name": "HTMLModel",
            "_view_count": null,
            "_view_module": "@jupyter-widgets/controls",
            "_view_module_version": "1.5.0",
            "_view_name": "HTMLView",
            "description": "",
            "description_tooltip": null,
            "layout": "IPY_MODEL_67a93fa66c584ee6b50bbb190f6b8623",
            "placeholder": "​",
            "style": "IPY_MODEL_26e6008f5d6942948ddc15a54fb15c19",
            "value": "Batch: 185, Correct items: 22.0000: 100%"
          }
        },
        "9b3f97ae9d3348c58245f391f6ebcda1": {
          "model_module": "@jupyter-widgets/controls",
          "model_name": "FloatProgressModel",
          "model_module_version": "1.5.0",
          "state": {
            "_dom_classes": [],
            "_model_module": "@jupyter-widgets/controls",
            "_model_module_version": "1.5.0",
            "_model_name": "FloatProgressModel",
            "_view_count": null,
            "_view_module": "@jupyter-widgets/controls",
            "_view_module_version": "1.5.0",
            "_view_name": "ProgressView",
            "bar_style": "success",
            "description": "",
            "description_tooltip": null,
            "layout": "IPY_MODEL_469fcbf71cb44dbc8431c1fb6a7ad0aa",
            "max": 185,
            "min": 0,
            "orientation": "horizontal",
            "style": "IPY_MODEL_9d9263cddf794c7abbb3d6f11fe31cd2",
            "value": 185
          }
        },
        "fb20c97f943a41659560c752748eb407": {
          "model_module": "@jupyter-widgets/controls",
          "model_name": "HTMLModel",
          "model_module_version": "1.5.0",
          "state": {
            "_dom_classes": [],
            "_model_module": "@jupyter-widgets/controls",
            "_model_module_version": "1.5.0",
            "_model_name": "HTMLModel",
            "_view_count": null,
            "_view_module": "@jupyter-widgets/controls",
            "_view_module_version": "1.5.0",
            "_view_name": "HTMLView",
            "description": "",
            "description_tooltip": null,
            "layout": "IPY_MODEL_260d6b34c46a4ae1bf89047f513e49dc",
            "placeholder": "​",
            "style": "IPY_MODEL_9bfb53ac59ac49f5925928e02bfde214",
            "value": " 185/185 [00:05&lt;00:00, 33.95it/s]"
          }
        },
        "af83e17d72534214a594508654ebd9f5": {
          "model_module": "@jupyter-widgets/base",
          "model_name": "LayoutModel",
          "model_module_version": "1.2.0",
          "state": {
            "_model_module": "@jupyter-widgets/base",
            "_model_module_version": "1.2.0",
            "_model_name": "LayoutModel",
            "_view_count": null,
            "_view_module": "@jupyter-widgets/base",
            "_view_module_version": "1.2.0",
            "_view_name": "LayoutView",
            "align_content": null,
            "align_items": null,
            "align_self": null,
            "border": null,
            "bottom": null,
            "display": null,
            "flex": null,
            "flex_flow": null,
            "grid_area": null,
            "grid_auto_columns": null,
            "grid_auto_flow": null,
            "grid_auto_rows": null,
            "grid_column": null,
            "grid_gap": null,
            "grid_row": null,
            "grid_template_areas": null,
            "grid_template_columns": null,
            "grid_template_rows": null,
            "height": null,
            "justify_content": null,
            "justify_items": null,
            "left": null,
            "margin": null,
            "max_height": null,
            "max_width": null,
            "min_height": null,
            "min_width": null,
            "object_fit": null,
            "object_position": null,
            "order": null,
            "overflow": null,
            "overflow_x": null,
            "overflow_y": null,
            "padding": null,
            "right": null,
            "top": null,
            "visibility": null,
            "width": null
          }
        },
        "67a93fa66c584ee6b50bbb190f6b8623": {
          "model_module": "@jupyter-widgets/base",
          "model_name": "LayoutModel",
          "model_module_version": "1.2.0",
          "state": {
            "_model_module": "@jupyter-widgets/base",
            "_model_module_version": "1.2.0",
            "_model_name": "LayoutModel",
            "_view_count": null,
            "_view_module": "@jupyter-widgets/base",
            "_view_module_version": "1.2.0",
            "_view_name": "LayoutView",
            "align_content": null,
            "align_items": null,
            "align_self": null,
            "border": null,
            "bottom": null,
            "display": null,
            "flex": null,
            "flex_flow": null,
            "grid_area": null,
            "grid_auto_columns": null,
            "grid_auto_flow": null,
            "grid_auto_rows": null,
            "grid_column": null,
            "grid_gap": null,
            "grid_row": null,
            "grid_template_areas": null,
            "grid_template_columns": null,
            "grid_template_rows": null,
            "height": null,
            "justify_content": null,
            "justify_items": null,
            "left": null,
            "margin": null,
            "max_height": null,
            "max_width": null,
            "min_height": null,
            "min_width": null,
            "object_fit": null,
            "object_position": null,
            "order": null,
            "overflow": null,
            "overflow_x": null,
            "overflow_y": null,
            "padding": null,
            "right": null,
            "top": null,
            "visibility": null,
            "width": null
          }
        },
        "26e6008f5d6942948ddc15a54fb15c19": {
          "model_module": "@jupyter-widgets/controls",
          "model_name": "DescriptionStyleModel",
          "model_module_version": "1.5.0",
          "state": {
            "_model_module": "@jupyter-widgets/controls",
            "_model_module_version": "1.5.0",
            "_model_name": "DescriptionStyleModel",
            "_view_count": null,
            "_view_module": "@jupyter-widgets/base",
            "_view_module_version": "1.2.0",
            "_view_name": "StyleView",
            "description_width": ""
          }
        },
        "469fcbf71cb44dbc8431c1fb6a7ad0aa": {
          "model_module": "@jupyter-widgets/base",
          "model_name": "LayoutModel",
          "model_module_version": "1.2.0",
          "state": {
            "_model_module": "@jupyter-widgets/base",
            "_model_module_version": "1.2.0",
            "_model_name": "LayoutModel",
            "_view_count": null,
            "_view_module": "@jupyter-widgets/base",
            "_view_module_version": "1.2.0",
            "_view_name": "LayoutView",
            "align_content": null,
            "align_items": null,
            "align_self": null,
            "border": null,
            "bottom": null,
            "display": null,
            "flex": null,
            "flex_flow": null,
            "grid_area": null,
            "grid_auto_columns": null,
            "grid_auto_flow": null,
            "grid_auto_rows": null,
            "grid_column": null,
            "grid_gap": null,
            "grid_row": null,
            "grid_template_areas": null,
            "grid_template_columns": null,
            "grid_template_rows": null,
            "height": null,
            "justify_content": null,
            "justify_items": null,
            "left": null,
            "margin": null,
            "max_height": null,
            "max_width": null,
            "min_height": null,
            "min_width": null,
            "object_fit": null,
            "object_position": null,
            "order": null,
            "overflow": null,
            "overflow_x": null,
            "overflow_y": null,
            "padding": null,
            "right": null,
            "top": null,
            "visibility": null,
            "width": null
          }
        },
        "9d9263cddf794c7abbb3d6f11fe31cd2": {
          "model_module": "@jupyter-widgets/controls",
          "model_name": "ProgressStyleModel",
          "model_module_version": "1.5.0",
          "state": {
            "_model_module": "@jupyter-widgets/controls",
            "_model_module_version": "1.5.0",
            "_model_name": "ProgressStyleModel",
            "_view_count": null,
            "_view_module": "@jupyter-widgets/base",
            "_view_module_version": "1.2.0",
            "_view_name": "StyleView",
            "bar_color": null,
            "description_width": ""
          }
        },
        "260d6b34c46a4ae1bf89047f513e49dc": {
          "model_module": "@jupyter-widgets/base",
          "model_name": "LayoutModel",
          "model_module_version": "1.2.0",
          "state": {
            "_model_module": "@jupyter-widgets/base",
            "_model_module_version": "1.2.0",
            "_model_name": "LayoutModel",
            "_view_count": null,
            "_view_module": "@jupyter-widgets/base",
            "_view_module_version": "1.2.0",
            "_view_name": "LayoutView",
            "align_content": null,
            "align_items": null,
            "align_self": null,
            "border": null,
            "bottom": null,
            "display": null,
            "flex": null,
            "flex_flow": null,
            "grid_area": null,
            "grid_auto_columns": null,
            "grid_auto_flow": null,
            "grid_auto_rows": null,
            "grid_column": null,
            "grid_gap": null,
            "grid_row": null,
            "grid_template_areas": null,
            "grid_template_columns": null,
            "grid_template_rows": null,
            "height": null,
            "justify_content": null,
            "justify_items": null,
            "left": null,
            "margin": null,
            "max_height": null,
            "max_width": null,
            "min_height": null,
            "min_width": null,
            "object_fit": null,
            "object_position": null,
            "order": null,
            "overflow": null,
            "overflow_x": null,
            "overflow_y": null,
            "padding": null,
            "right": null,
            "top": null,
            "visibility": null,
            "width": null
          }
        },
        "9bfb53ac59ac49f5925928e02bfde214": {
          "model_module": "@jupyter-widgets/controls",
          "model_name": "DescriptionStyleModel",
          "model_module_version": "1.5.0",
          "state": {
            "_model_module": "@jupyter-widgets/controls",
            "_model_module_version": "1.5.0",
            "_model_name": "DescriptionStyleModel",
            "_view_count": null,
            "_view_module": "@jupyter-widgets/base",
            "_view_module_version": "1.2.0",
            "_view_name": "StyleView",
            "description_width": ""
          }
        },
        "28b7570294fc48dba419dca177e4f418": {
          "model_module": "@jupyter-widgets/controls",
          "model_name": "HBoxModel",
          "model_module_version": "1.5.0",
          "state": {
            "_dom_classes": [],
            "_model_module": "@jupyter-widgets/controls",
            "_model_module_version": "1.5.0",
            "_model_name": "HBoxModel",
            "_view_count": null,
            "_view_module": "@jupyter-widgets/controls",
            "_view_module_version": "1.5.0",
            "_view_name": "HBoxView",
            "box_style": "",
            "children": [
              "IPY_MODEL_e7a4ccb08ad746bab0ad2fbd211130ff",
              "IPY_MODEL_fcf844bb6e0a4010928b078a19eb74b0",
              "IPY_MODEL_1fb369254255430cb198b360ddda351c"
            ],
            "layout": "IPY_MODEL_095a3b9987574a3ab4b1a6ec0c0ce7e3"
          }
        },
        "e7a4ccb08ad746bab0ad2fbd211130ff": {
          "model_module": "@jupyter-widgets/controls",
          "model_name": "HTMLModel",
          "model_module_version": "1.5.0",
          "state": {
            "_dom_classes": [],
            "_model_module": "@jupyter-widgets/controls",
            "_model_module_version": "1.5.0",
            "_model_name": "HTMLModel",
            "_view_count": null,
            "_view_module": "@jupyter-widgets/controls",
            "_view_module_version": "1.5.0",
            "_view_name": "HTMLView",
            "description": "",
            "description_tooltip": null,
            "layout": "IPY_MODEL_c92d2c24f94541c293ef4b80215d4dcc",
            "placeholder": "​",
            "style": "IPY_MODEL_e460051c02e64f64a550e116a15cc8df",
            "value": "Batch: 185, Correct items: 23.0000: 100%"
          }
        },
        "fcf844bb6e0a4010928b078a19eb74b0": {
          "model_module": "@jupyter-widgets/controls",
          "model_name": "FloatProgressModel",
          "model_module_version": "1.5.0",
          "state": {
            "_dom_classes": [],
            "_model_module": "@jupyter-widgets/controls",
            "_model_module_version": "1.5.0",
            "_model_name": "FloatProgressModel",
            "_view_count": null,
            "_view_module": "@jupyter-widgets/controls",
            "_view_module_version": "1.5.0",
            "_view_name": "ProgressView",
            "bar_style": "success",
            "description": "",
            "description_tooltip": null,
            "layout": "IPY_MODEL_f8953058ac764a1f85f2fe2d4da0d157",
            "max": 185,
            "min": 0,
            "orientation": "horizontal",
            "style": "IPY_MODEL_75a5cba594f84b8aa62be3bc2cb53902",
            "value": 185
          }
        },
        "1fb369254255430cb198b360ddda351c": {
          "model_module": "@jupyter-widgets/controls",
          "model_name": "HTMLModel",
          "model_module_version": "1.5.0",
          "state": {
            "_dom_classes": [],
            "_model_module": "@jupyter-widgets/controls",
            "_model_module_version": "1.5.0",
            "_model_name": "HTMLModel",
            "_view_count": null,
            "_view_module": "@jupyter-widgets/controls",
            "_view_module_version": "1.5.0",
            "_view_name": "HTMLView",
            "description": "",
            "description_tooltip": null,
            "layout": "IPY_MODEL_b135e958ec8548f3a45554fd8f0a94b6",
            "placeholder": "​",
            "style": "IPY_MODEL_4dea8200df2d471b8c83aaebc2cf63e5",
            "value": " 185/185 [00:05&lt;00:00, 33.99it/s]"
          }
        },
        "095a3b9987574a3ab4b1a6ec0c0ce7e3": {
          "model_module": "@jupyter-widgets/base",
          "model_name": "LayoutModel",
          "model_module_version": "1.2.0",
          "state": {
            "_model_module": "@jupyter-widgets/base",
            "_model_module_version": "1.2.0",
            "_model_name": "LayoutModel",
            "_view_count": null,
            "_view_module": "@jupyter-widgets/base",
            "_view_module_version": "1.2.0",
            "_view_name": "LayoutView",
            "align_content": null,
            "align_items": null,
            "align_self": null,
            "border": null,
            "bottom": null,
            "display": null,
            "flex": null,
            "flex_flow": null,
            "grid_area": null,
            "grid_auto_columns": null,
            "grid_auto_flow": null,
            "grid_auto_rows": null,
            "grid_column": null,
            "grid_gap": null,
            "grid_row": null,
            "grid_template_areas": null,
            "grid_template_columns": null,
            "grid_template_rows": null,
            "height": null,
            "justify_content": null,
            "justify_items": null,
            "left": null,
            "margin": null,
            "max_height": null,
            "max_width": null,
            "min_height": null,
            "min_width": null,
            "object_fit": null,
            "object_position": null,
            "order": null,
            "overflow": null,
            "overflow_x": null,
            "overflow_y": null,
            "padding": null,
            "right": null,
            "top": null,
            "visibility": null,
            "width": null
          }
        },
        "c92d2c24f94541c293ef4b80215d4dcc": {
          "model_module": "@jupyter-widgets/base",
          "model_name": "LayoutModel",
          "model_module_version": "1.2.0",
          "state": {
            "_model_module": "@jupyter-widgets/base",
            "_model_module_version": "1.2.0",
            "_model_name": "LayoutModel",
            "_view_count": null,
            "_view_module": "@jupyter-widgets/base",
            "_view_module_version": "1.2.0",
            "_view_name": "LayoutView",
            "align_content": null,
            "align_items": null,
            "align_self": null,
            "border": null,
            "bottom": null,
            "display": null,
            "flex": null,
            "flex_flow": null,
            "grid_area": null,
            "grid_auto_columns": null,
            "grid_auto_flow": null,
            "grid_auto_rows": null,
            "grid_column": null,
            "grid_gap": null,
            "grid_row": null,
            "grid_template_areas": null,
            "grid_template_columns": null,
            "grid_template_rows": null,
            "height": null,
            "justify_content": null,
            "justify_items": null,
            "left": null,
            "margin": null,
            "max_height": null,
            "max_width": null,
            "min_height": null,
            "min_width": null,
            "object_fit": null,
            "object_position": null,
            "order": null,
            "overflow": null,
            "overflow_x": null,
            "overflow_y": null,
            "padding": null,
            "right": null,
            "top": null,
            "visibility": null,
            "width": null
          }
        },
        "e460051c02e64f64a550e116a15cc8df": {
          "model_module": "@jupyter-widgets/controls",
          "model_name": "DescriptionStyleModel",
          "model_module_version": "1.5.0",
          "state": {
            "_model_module": "@jupyter-widgets/controls",
            "_model_module_version": "1.5.0",
            "_model_name": "DescriptionStyleModel",
            "_view_count": null,
            "_view_module": "@jupyter-widgets/base",
            "_view_module_version": "1.2.0",
            "_view_name": "StyleView",
            "description_width": ""
          }
        },
        "f8953058ac764a1f85f2fe2d4da0d157": {
          "model_module": "@jupyter-widgets/base",
          "model_name": "LayoutModel",
          "model_module_version": "1.2.0",
          "state": {
            "_model_module": "@jupyter-widgets/base",
            "_model_module_version": "1.2.0",
            "_model_name": "LayoutModel",
            "_view_count": null,
            "_view_module": "@jupyter-widgets/base",
            "_view_module_version": "1.2.0",
            "_view_name": "LayoutView",
            "align_content": null,
            "align_items": null,
            "align_self": null,
            "border": null,
            "bottom": null,
            "display": null,
            "flex": null,
            "flex_flow": null,
            "grid_area": null,
            "grid_auto_columns": null,
            "grid_auto_flow": null,
            "grid_auto_rows": null,
            "grid_column": null,
            "grid_gap": null,
            "grid_row": null,
            "grid_template_areas": null,
            "grid_template_columns": null,
            "grid_template_rows": null,
            "height": null,
            "justify_content": null,
            "justify_items": null,
            "left": null,
            "margin": null,
            "max_height": null,
            "max_width": null,
            "min_height": null,
            "min_width": null,
            "object_fit": null,
            "object_position": null,
            "order": null,
            "overflow": null,
            "overflow_x": null,
            "overflow_y": null,
            "padding": null,
            "right": null,
            "top": null,
            "visibility": null,
            "width": null
          }
        },
        "75a5cba594f84b8aa62be3bc2cb53902": {
          "model_module": "@jupyter-widgets/controls",
          "model_name": "ProgressStyleModel",
          "model_module_version": "1.5.0",
          "state": {
            "_model_module": "@jupyter-widgets/controls",
            "_model_module_version": "1.5.0",
            "_model_name": "ProgressStyleModel",
            "_view_count": null,
            "_view_module": "@jupyter-widgets/base",
            "_view_module_version": "1.2.0",
            "_view_name": "StyleView",
            "bar_color": null,
            "description_width": ""
          }
        },
        "b135e958ec8548f3a45554fd8f0a94b6": {
          "model_module": "@jupyter-widgets/base",
          "model_name": "LayoutModel",
          "model_module_version": "1.2.0",
          "state": {
            "_model_module": "@jupyter-widgets/base",
            "_model_module_version": "1.2.0",
            "_model_name": "LayoutModel",
            "_view_count": null,
            "_view_module": "@jupyter-widgets/base",
            "_view_module_version": "1.2.0",
            "_view_name": "LayoutView",
            "align_content": null,
            "align_items": null,
            "align_self": null,
            "border": null,
            "bottom": null,
            "display": null,
            "flex": null,
            "flex_flow": null,
            "grid_area": null,
            "grid_auto_columns": null,
            "grid_auto_flow": null,
            "grid_auto_rows": null,
            "grid_column": null,
            "grid_gap": null,
            "grid_row": null,
            "grid_template_areas": null,
            "grid_template_columns": null,
            "grid_template_rows": null,
            "height": null,
            "justify_content": null,
            "justify_items": null,
            "left": null,
            "margin": null,
            "max_height": null,
            "max_width": null,
            "min_height": null,
            "min_width": null,
            "object_fit": null,
            "object_position": null,
            "order": null,
            "overflow": null,
            "overflow_x": null,
            "overflow_y": null,
            "padding": null,
            "right": null,
            "top": null,
            "visibility": null,
            "width": null
          }
        },
        "4dea8200df2d471b8c83aaebc2cf63e5": {
          "model_module": "@jupyter-widgets/controls",
          "model_name": "DescriptionStyleModel",
          "model_module_version": "1.5.0",
          "state": {
            "_model_module": "@jupyter-widgets/controls",
            "_model_module_version": "1.5.0",
            "_model_name": "DescriptionStyleModel",
            "_view_count": null,
            "_view_module": "@jupyter-widgets/base",
            "_view_module_version": "1.2.0",
            "_view_name": "StyleView",
            "description_width": ""
          }
        },
        "4ac7b858799e414bb907d97516a6b78d": {
          "model_module": "@jupyter-widgets/controls",
          "model_name": "HBoxModel",
          "model_module_version": "1.5.0",
          "state": {
            "_dom_classes": [],
            "_model_module": "@jupyter-widgets/controls",
            "_model_module_version": "1.5.0",
            "_model_name": "HBoxModel",
            "_view_count": null,
            "_view_module": "@jupyter-widgets/controls",
            "_view_module_version": "1.5.0",
            "_view_name": "HBoxView",
            "box_style": "",
            "children": [
              "IPY_MODEL_a089e6d3a1af4a25af560425ac4a6be0",
              "IPY_MODEL_e2ce192809814e4ba287de29506fd8fd",
              "IPY_MODEL_c4a189d9ecff49e7ba52ba093ec2a5c2"
            ],
            "layout": "IPY_MODEL_983dcea5f3814a39b705232b0d3da303"
          }
        },
        "a089e6d3a1af4a25af560425ac4a6be0": {
          "model_module": "@jupyter-widgets/controls",
          "model_name": "HTMLModel",
          "model_module_version": "1.5.0",
          "state": {
            "_dom_classes": [],
            "_model_module": "@jupyter-widgets/controls",
            "_model_module_version": "1.5.0",
            "_model_name": "HTMLModel",
            "_view_count": null,
            "_view_module": "@jupyter-widgets/controls",
            "_view_module_version": "1.5.0",
            "_view_name": "HTMLView",
            "description": "",
            "description_tooltip": null,
            "layout": "IPY_MODEL_7626615eda114a5fac91e1af8d5d3af3",
            "placeholder": "​",
            "style": "IPY_MODEL_d50c83e66638453a828b4be71e9dcabc",
            "value": "Batch: 147, Correct items: 30.0000:  17%"
          }
        },
        "e2ce192809814e4ba287de29506fd8fd": {
          "model_module": "@jupyter-widgets/controls",
          "model_name": "FloatProgressModel",
          "model_module_version": "1.5.0",
          "state": {
            "_dom_classes": [],
            "_model_module": "@jupyter-widgets/controls",
            "_model_module_version": "1.5.0",
            "_model_name": "FloatProgressModel",
            "_view_count": null,
            "_view_module": "@jupyter-widgets/controls",
            "_view_module_version": "1.5.0",
            "_view_name": "ProgressView",
            "bar_style": "",
            "description": "",
            "description_tooltip": null,
            "layout": "IPY_MODEL_bf5cf91ecff64015ae188b1fd5c170b3",
            "max": 863,
            "min": 0,
            "orientation": "horizontal",
            "style": "IPY_MODEL_27e1c22e235b4f5da2644ab6eceab112",
            "value": 145
          }
        },
        "c4a189d9ecff49e7ba52ba093ec2a5c2": {
          "model_module": "@jupyter-widgets/controls",
          "model_name": "HTMLModel",
          "model_module_version": "1.5.0",
          "state": {
            "_dom_classes": [],
            "_model_module": "@jupyter-widgets/controls",
            "_model_module_version": "1.5.0",
            "_model_name": "HTMLModel",
            "_view_count": null,
            "_view_module": "@jupyter-widgets/controls",
            "_view_module_version": "1.5.0",
            "_view_name": "HTMLView",
            "description": "",
            "description_tooltip": null,
            "layout": "IPY_MODEL_ac21ccc04b1a4d4190a58282246e3bc0",
            "placeholder": "​",
            "style": "IPY_MODEL_0d92761780b3430e92ae8724d1a54d88",
            "value": " 145/863 [00:04&lt;00:21, 32.94it/s]"
          }
        },
        "983dcea5f3814a39b705232b0d3da303": {
          "model_module": "@jupyter-widgets/base",
          "model_name": "LayoutModel",
          "model_module_version": "1.2.0",
          "state": {
            "_model_module": "@jupyter-widgets/base",
            "_model_module_version": "1.2.0",
            "_model_name": "LayoutModel",
            "_view_count": null,
            "_view_module": "@jupyter-widgets/base",
            "_view_module_version": "1.2.0",
            "_view_name": "LayoutView",
            "align_content": null,
            "align_items": null,
            "align_self": null,
            "border": null,
            "bottom": null,
            "display": null,
            "flex": null,
            "flex_flow": null,
            "grid_area": null,
            "grid_auto_columns": null,
            "grid_auto_flow": null,
            "grid_auto_rows": null,
            "grid_column": null,
            "grid_gap": null,
            "grid_row": null,
            "grid_template_areas": null,
            "grid_template_columns": null,
            "grid_template_rows": null,
            "height": null,
            "justify_content": null,
            "justify_items": null,
            "left": null,
            "margin": null,
            "max_height": null,
            "max_width": null,
            "min_height": null,
            "min_width": null,
            "object_fit": null,
            "object_position": null,
            "order": null,
            "overflow": null,
            "overflow_x": null,
            "overflow_y": null,
            "padding": null,
            "right": null,
            "top": null,
            "visibility": null,
            "width": null
          }
        },
        "7626615eda114a5fac91e1af8d5d3af3": {
          "model_module": "@jupyter-widgets/base",
          "model_name": "LayoutModel",
          "model_module_version": "1.2.0",
          "state": {
            "_model_module": "@jupyter-widgets/base",
            "_model_module_version": "1.2.0",
            "_model_name": "LayoutModel",
            "_view_count": null,
            "_view_module": "@jupyter-widgets/base",
            "_view_module_version": "1.2.0",
            "_view_name": "LayoutView",
            "align_content": null,
            "align_items": null,
            "align_self": null,
            "border": null,
            "bottom": null,
            "display": null,
            "flex": null,
            "flex_flow": null,
            "grid_area": null,
            "grid_auto_columns": null,
            "grid_auto_flow": null,
            "grid_auto_rows": null,
            "grid_column": null,
            "grid_gap": null,
            "grid_row": null,
            "grid_template_areas": null,
            "grid_template_columns": null,
            "grid_template_rows": null,
            "height": null,
            "justify_content": null,
            "justify_items": null,
            "left": null,
            "margin": null,
            "max_height": null,
            "max_width": null,
            "min_height": null,
            "min_width": null,
            "object_fit": null,
            "object_position": null,
            "order": null,
            "overflow": null,
            "overflow_x": null,
            "overflow_y": null,
            "padding": null,
            "right": null,
            "top": null,
            "visibility": null,
            "width": null
          }
        },
        "d50c83e66638453a828b4be71e9dcabc": {
          "model_module": "@jupyter-widgets/controls",
          "model_name": "DescriptionStyleModel",
          "model_module_version": "1.5.0",
          "state": {
            "_model_module": "@jupyter-widgets/controls",
            "_model_module_version": "1.5.0",
            "_model_name": "DescriptionStyleModel",
            "_view_count": null,
            "_view_module": "@jupyter-widgets/base",
            "_view_module_version": "1.2.0",
            "_view_name": "StyleView",
            "description_width": ""
          }
        },
        "bf5cf91ecff64015ae188b1fd5c170b3": {
          "model_module": "@jupyter-widgets/base",
          "model_name": "LayoutModel",
          "model_module_version": "1.2.0",
          "state": {
            "_model_module": "@jupyter-widgets/base",
            "_model_module_version": "1.2.0",
            "_model_name": "LayoutModel",
            "_view_count": null,
            "_view_module": "@jupyter-widgets/base",
            "_view_module_version": "1.2.0",
            "_view_name": "LayoutView",
            "align_content": null,
            "align_items": null,
            "align_self": null,
            "border": null,
            "bottom": null,
            "display": null,
            "flex": null,
            "flex_flow": null,
            "grid_area": null,
            "grid_auto_columns": null,
            "grid_auto_flow": null,
            "grid_auto_rows": null,
            "grid_column": null,
            "grid_gap": null,
            "grid_row": null,
            "grid_template_areas": null,
            "grid_template_columns": null,
            "grid_template_rows": null,
            "height": null,
            "justify_content": null,
            "justify_items": null,
            "left": null,
            "margin": null,
            "max_height": null,
            "max_width": null,
            "min_height": null,
            "min_width": null,
            "object_fit": null,
            "object_position": null,
            "order": null,
            "overflow": null,
            "overflow_x": null,
            "overflow_y": null,
            "padding": null,
            "right": null,
            "top": null,
            "visibility": null,
            "width": null
          }
        },
        "27e1c22e235b4f5da2644ab6eceab112": {
          "model_module": "@jupyter-widgets/controls",
          "model_name": "ProgressStyleModel",
          "model_module_version": "1.5.0",
          "state": {
            "_model_module": "@jupyter-widgets/controls",
            "_model_module_version": "1.5.0",
            "_model_name": "ProgressStyleModel",
            "_view_count": null,
            "_view_module": "@jupyter-widgets/base",
            "_view_module_version": "1.2.0",
            "_view_name": "StyleView",
            "bar_color": null,
            "description_width": ""
          }
        },
        "ac21ccc04b1a4d4190a58282246e3bc0": {
          "model_module": "@jupyter-widgets/base",
          "model_name": "LayoutModel",
          "model_module_version": "1.2.0",
          "state": {
            "_model_module": "@jupyter-widgets/base",
            "_model_module_version": "1.2.0",
            "_model_name": "LayoutModel",
            "_view_count": null,
            "_view_module": "@jupyter-widgets/base",
            "_view_module_version": "1.2.0",
            "_view_name": "LayoutView",
            "align_content": null,
            "align_items": null,
            "align_self": null,
            "border": null,
            "bottom": null,
            "display": null,
            "flex": null,
            "flex_flow": null,
            "grid_area": null,
            "grid_auto_columns": null,
            "grid_auto_flow": null,
            "grid_auto_rows": null,
            "grid_column": null,
            "grid_gap": null,
            "grid_row": null,
            "grid_template_areas": null,
            "grid_template_columns": null,
            "grid_template_rows": null,
            "height": null,
            "justify_content": null,
            "justify_items": null,
            "left": null,
            "margin": null,
            "max_height": null,
            "max_width": null,
            "min_height": null,
            "min_width": null,
            "object_fit": null,
            "object_position": null,
            "order": null,
            "overflow": null,
            "overflow_x": null,
            "overflow_y": null,
            "padding": null,
            "right": null,
            "top": null,
            "visibility": null,
            "width": null
          }
        },
        "0d92761780b3430e92ae8724d1a54d88": {
          "model_module": "@jupyter-widgets/controls",
          "model_name": "DescriptionStyleModel",
          "model_module_version": "1.5.0",
          "state": {
            "_model_module": "@jupyter-widgets/controls",
            "_model_module_version": "1.5.0",
            "_model_name": "DescriptionStyleModel",
            "_view_count": null,
            "_view_module": "@jupyter-widgets/base",
            "_view_module_version": "1.2.0",
            "_view_name": "StyleView",
            "description_width": ""
          }
        },
        "1d863f5179c741f6875bab8a0780a762": {
          "model_module": "@jupyter-widgets/controls",
          "model_name": "HBoxModel",
          "model_module_version": "1.5.0",
          "state": {
            "_dom_classes": [],
            "_model_module": "@jupyter-widgets/controls",
            "_model_module_version": "1.5.0",
            "_model_name": "HBoxModel",
            "_view_count": null,
            "_view_module": "@jupyter-widgets/controls",
            "_view_module_version": "1.5.0",
            "_view_name": "HBoxView",
            "box_style": "",
            "children": [
              "IPY_MODEL_8224189038d849c6bea9fa41d4c28f31",
              "IPY_MODEL_5a65919062f249d4b5cefbff2ad85f26",
              "IPY_MODEL_9fc46c5c71a34dd282e46471ed72d977"
            ],
            "layout": "IPY_MODEL_c70f948eebb34a7591278ab99cf43beb"
          }
        },
        "8224189038d849c6bea9fa41d4c28f31": {
          "model_module": "@jupyter-widgets/controls",
          "model_name": "HTMLModel",
          "model_module_version": "1.5.0",
          "state": {
            "_dom_classes": [],
            "_model_module": "@jupyter-widgets/controls",
            "_model_module_version": "1.5.0",
            "_model_name": "HTMLModel",
            "_view_count": null,
            "_view_module": "@jupyter-widgets/controls",
            "_view_module_version": "1.5.0",
            "_view_name": "HTMLView",
            "description": "",
            "description_tooltip": null,
            "layout": "IPY_MODEL_f1c902942da74bafbfd1c25fc80b79d6",
            "placeholder": "​",
            "style": "IPY_MODEL_e3918a58eced44f6bcf2f2d539fb1d4f",
            "value": "Batch: 145, Correct items: 29.0000:  17%"
          }
        },
        "5a65919062f249d4b5cefbff2ad85f26": {
          "model_module": "@jupyter-widgets/controls",
          "model_name": "FloatProgressModel",
          "model_module_version": "1.5.0",
          "state": {
            "_dom_classes": [],
            "_model_module": "@jupyter-widgets/controls",
            "_model_module_version": "1.5.0",
            "_model_name": "FloatProgressModel",
            "_view_count": null,
            "_view_module": "@jupyter-widgets/controls",
            "_view_module_version": "1.5.0",
            "_view_name": "ProgressView",
            "bar_style": "",
            "description": "",
            "description_tooltip": null,
            "layout": "IPY_MODEL_4ea541accd4b447c908753905990541b",
            "max": 863,
            "min": 0,
            "orientation": "horizontal",
            "style": "IPY_MODEL_1767ff92b2ee4a098a3999a6ec21d21b",
            "value": 145
          }
        },
        "9fc46c5c71a34dd282e46471ed72d977": {
          "model_module": "@jupyter-widgets/controls",
          "model_name": "HTMLModel",
          "model_module_version": "1.5.0",
          "state": {
            "_dom_classes": [],
            "_model_module": "@jupyter-widgets/controls",
            "_model_module_version": "1.5.0",
            "_model_name": "HTMLModel",
            "_view_count": null,
            "_view_module": "@jupyter-widgets/controls",
            "_view_module_version": "1.5.0",
            "_view_name": "HTMLView",
            "description": "",
            "description_tooltip": null,
            "layout": "IPY_MODEL_39276dcb93b841989fe8a305f1b4f022",
            "placeholder": "​",
            "style": "IPY_MODEL_2c63b470f9264e969d9fd7e33b2135db",
            "value": " 145/863 [00:04&lt;00:21, 33.84it/s]"
          }
        },
        "c70f948eebb34a7591278ab99cf43beb": {
          "model_module": "@jupyter-widgets/base",
          "model_name": "LayoutModel",
          "model_module_version": "1.2.0",
          "state": {
            "_model_module": "@jupyter-widgets/base",
            "_model_module_version": "1.2.0",
            "_model_name": "LayoutModel",
            "_view_count": null,
            "_view_module": "@jupyter-widgets/base",
            "_view_module_version": "1.2.0",
            "_view_name": "LayoutView",
            "align_content": null,
            "align_items": null,
            "align_self": null,
            "border": null,
            "bottom": null,
            "display": null,
            "flex": null,
            "flex_flow": null,
            "grid_area": null,
            "grid_auto_columns": null,
            "grid_auto_flow": null,
            "grid_auto_rows": null,
            "grid_column": null,
            "grid_gap": null,
            "grid_row": null,
            "grid_template_areas": null,
            "grid_template_columns": null,
            "grid_template_rows": null,
            "height": null,
            "justify_content": null,
            "justify_items": null,
            "left": null,
            "margin": null,
            "max_height": null,
            "max_width": null,
            "min_height": null,
            "min_width": null,
            "object_fit": null,
            "object_position": null,
            "order": null,
            "overflow": null,
            "overflow_x": null,
            "overflow_y": null,
            "padding": null,
            "right": null,
            "top": null,
            "visibility": null,
            "width": null
          }
        },
        "f1c902942da74bafbfd1c25fc80b79d6": {
          "model_module": "@jupyter-widgets/base",
          "model_name": "LayoutModel",
          "model_module_version": "1.2.0",
          "state": {
            "_model_module": "@jupyter-widgets/base",
            "_model_module_version": "1.2.0",
            "_model_name": "LayoutModel",
            "_view_count": null,
            "_view_module": "@jupyter-widgets/base",
            "_view_module_version": "1.2.0",
            "_view_name": "LayoutView",
            "align_content": null,
            "align_items": null,
            "align_self": null,
            "border": null,
            "bottom": null,
            "display": null,
            "flex": null,
            "flex_flow": null,
            "grid_area": null,
            "grid_auto_columns": null,
            "grid_auto_flow": null,
            "grid_auto_rows": null,
            "grid_column": null,
            "grid_gap": null,
            "grid_row": null,
            "grid_template_areas": null,
            "grid_template_columns": null,
            "grid_template_rows": null,
            "height": null,
            "justify_content": null,
            "justify_items": null,
            "left": null,
            "margin": null,
            "max_height": null,
            "max_width": null,
            "min_height": null,
            "min_width": null,
            "object_fit": null,
            "object_position": null,
            "order": null,
            "overflow": null,
            "overflow_x": null,
            "overflow_y": null,
            "padding": null,
            "right": null,
            "top": null,
            "visibility": null,
            "width": null
          }
        },
        "e3918a58eced44f6bcf2f2d539fb1d4f": {
          "model_module": "@jupyter-widgets/controls",
          "model_name": "DescriptionStyleModel",
          "model_module_version": "1.5.0",
          "state": {
            "_model_module": "@jupyter-widgets/controls",
            "_model_module_version": "1.5.0",
            "_model_name": "DescriptionStyleModel",
            "_view_count": null,
            "_view_module": "@jupyter-widgets/base",
            "_view_module_version": "1.2.0",
            "_view_name": "StyleView",
            "description_width": ""
          }
        },
        "4ea541accd4b447c908753905990541b": {
          "model_module": "@jupyter-widgets/base",
          "model_name": "LayoutModel",
          "model_module_version": "1.2.0",
          "state": {
            "_model_module": "@jupyter-widgets/base",
            "_model_module_version": "1.2.0",
            "_model_name": "LayoutModel",
            "_view_count": null,
            "_view_module": "@jupyter-widgets/base",
            "_view_module_version": "1.2.0",
            "_view_name": "LayoutView",
            "align_content": null,
            "align_items": null,
            "align_self": null,
            "border": null,
            "bottom": null,
            "display": null,
            "flex": null,
            "flex_flow": null,
            "grid_area": null,
            "grid_auto_columns": null,
            "grid_auto_flow": null,
            "grid_auto_rows": null,
            "grid_column": null,
            "grid_gap": null,
            "grid_row": null,
            "grid_template_areas": null,
            "grid_template_columns": null,
            "grid_template_rows": null,
            "height": null,
            "justify_content": null,
            "justify_items": null,
            "left": null,
            "margin": null,
            "max_height": null,
            "max_width": null,
            "min_height": null,
            "min_width": null,
            "object_fit": null,
            "object_position": null,
            "order": null,
            "overflow": null,
            "overflow_x": null,
            "overflow_y": null,
            "padding": null,
            "right": null,
            "top": null,
            "visibility": null,
            "width": null
          }
        },
        "1767ff92b2ee4a098a3999a6ec21d21b": {
          "model_module": "@jupyter-widgets/controls",
          "model_name": "ProgressStyleModel",
          "model_module_version": "1.5.0",
          "state": {
            "_model_module": "@jupyter-widgets/controls",
            "_model_module_version": "1.5.0",
            "_model_name": "ProgressStyleModel",
            "_view_count": null,
            "_view_module": "@jupyter-widgets/base",
            "_view_module_version": "1.2.0",
            "_view_name": "StyleView",
            "bar_color": null,
            "description_width": ""
          }
        },
        "39276dcb93b841989fe8a305f1b4f022": {
          "model_module": "@jupyter-widgets/base",
          "model_name": "LayoutModel",
          "model_module_version": "1.2.0",
          "state": {
            "_model_module": "@jupyter-widgets/base",
            "_model_module_version": "1.2.0",
            "_model_name": "LayoutModel",
            "_view_count": null,
            "_view_module": "@jupyter-widgets/base",
            "_view_module_version": "1.2.0",
            "_view_name": "LayoutView",
            "align_content": null,
            "align_items": null,
            "align_self": null,
            "border": null,
            "bottom": null,
            "display": null,
            "flex": null,
            "flex_flow": null,
            "grid_area": null,
            "grid_auto_columns": null,
            "grid_auto_flow": null,
            "grid_auto_rows": null,
            "grid_column": null,
            "grid_gap": null,
            "grid_row": null,
            "grid_template_areas": null,
            "grid_template_columns": null,
            "grid_template_rows": null,
            "height": null,
            "justify_content": null,
            "justify_items": null,
            "left": null,
            "margin": null,
            "max_height": null,
            "max_width": null,
            "min_height": null,
            "min_width": null,
            "object_fit": null,
            "object_position": null,
            "order": null,
            "overflow": null,
            "overflow_x": null,
            "overflow_y": null,
            "padding": null,
            "right": null,
            "top": null,
            "visibility": null,
            "width": null
          }
        },
        "2c63b470f9264e969d9fd7e33b2135db": {
          "model_module": "@jupyter-widgets/controls",
          "model_name": "DescriptionStyleModel",
          "model_module_version": "1.5.0",
          "state": {
            "_model_module": "@jupyter-widgets/controls",
            "_model_module_version": "1.5.0",
            "_model_name": "DescriptionStyleModel",
            "_view_count": null,
            "_view_module": "@jupyter-widgets/base",
            "_view_module_version": "1.2.0",
            "_view_name": "StyleView",
            "description_width": ""
          }
        }
      }
    }
  },
  "nbformat": 4,
  "nbformat_minor": 0
}